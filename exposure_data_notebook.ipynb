{
  "nbformat": 4,
  "nbformat_minor": 0,
  "metadata": {
    "colab": {
      "provenance": [],
      "gpuType": "T4",
      "authorship_tag": "ABX9TyO50HA/TI9FEGMvYt33fFuV",
      "include_colab_link": true
    },
    "kernelspec": {
      "name": "python3",
      "display_name": "Python 3"
    },
    "language_info": {
      "name": "python"
    },
    "accelerator": "GPU"
  },
  "cells": [
    {
      "cell_type": "markdown",
      "metadata": {
        "id": "view-in-github",
        "colab_type": "text"
      },
      "source": [
        "<a href=\"https://colab.research.google.com/github/ArgyChris/ExerciseAugmenta/blob/main/exposure_data_notebook.ipynb\" target=\"_parent\"><img src=\"https://colab.research.google.com/assets/colab-badge.svg\" alt=\"Open In Colab\"/></a>"
      ]
    },
    {
      "cell_type": "markdown",
      "source": [
        "# Augmenta exercise,\n",
        "## Author: Argyrios Christodoulidis, 29/06/2023\n",
        "## Cloud computing environment for model building, evaluation, testing, and extraction:\n",
        "\n",
        "The following notebook includes the following sections:\n",
        "\n",
        "1.   Computing environment set up\n",
        "2.   External data loading, preprocessing, and preparation\n",
        "3.   Model environment set up\n",
        "4.   Model experimentation: training of different models, hyperparameter tuning\n",
        "5.   Model evaluation\n",
        "6.   Model and Scaler saving and extraction\n",
        "\n",
        "\n",
        "###Brief description:\n",
        "The general flow of the work includes setting up the packages, then performing some checks for the computing environment, following that, data loading and normalization takes place. The main computations follow with model building, hyperparameter tuning, and the core model training that requires allocated GPU resources to run. Finally, the choosen trained model is tested, and then together with the Scaler that was used for normalization are both extracted to a local folder.       "
      ],
      "metadata": {
        "id": "LTrmJp0YX73u"
      }
    },
    {
      "cell_type": "markdown",
      "source": [
        "##Section 1: Computing environment set up\n",
        "\n",
        "The models are build on keras, so the relevant imports of tensorflow and keras modules takes place here. The imports are done using the built-in magic command %."
      ],
      "metadata": {
        "id": "UJofskGAfND8"
      }
    },
    {
      "cell_type": "code",
      "execution_count": 1,
      "metadata": {
        "colab": {
          "base_uri": "https://localhost:8080/"
        },
        "id": "EMqG8RnBcPen",
        "outputId": "b5cafa59-1c2f-4a8b-84a8-d83856d3c674"
      },
      "outputs": [
        {
          "output_type": "stream",
          "name": "stdout",
          "text": [
            "Colab only includes TensorFlow 2.x; %tensorflow_version has no effect.\n"
          ]
        },
        {
          "output_type": "stream",
          "name": "stderr",
          "text": [
            "WARNING:tensorflow:From <ipython-input-1-33ed3e92adb2>:22: is_gpu_available (from tensorflow.python.framework.test_util) is deprecated and will be removed in a future version.\n",
            "Instructions for updating:\n",
            "Use `tf.config.list_physical_devices('GPU')` instead.\n"
          ]
        }
      ],
      "source": [
        "# Python ≥3.5 is required\n",
        "import sys\n",
        "assert sys.version_info >= (3, 5)\n",
        "\n",
        "# Scikit-Learn ≥0.20 is required\n",
        "import sklearn\n",
        "assert sklearn.__version__ >= \"0.20\"\n",
        "\n",
        "try:\n",
        "    # %tensorflow_version only exists in Colab.\n",
        "    %tensorflow_version 2.x\n",
        "    IS_COLAB = True\n",
        "except Exception:\n",
        "    IS_COLAB = False\n",
        "\n",
        "# TensorFlow ≥2.0 is required\n",
        "import tensorflow as tf\n",
        "from tensorflow import keras\n",
        "assert tf.__version__ >= \"2.0\"\n",
        "\n",
        "\n",
        "if not tf.test.is_gpu_available():\n",
        "    print(\"No GPU was detected. LSTMs and CNNs can be very slow without a GPU.\")\n",
        "    if IS_COLAB:\n",
        "        print(\"Go to Runtime > Change runtime and select a GPU hardware accelerator.\")\n",
        "\n",
        "# Common imports\n",
        "import numpy as np\n",
        "import os\n",
        "\n",
        "# to make this notebook's output stable across runs\n",
        "np.random.seed(42)\n",
        "tf.random.set_seed(42)\n",
        "\n",
        "# To plot pretty figures\n",
        "%matplotlib inline\n",
        "import matplotlib as mpl\n",
        "import matplotlib.pyplot as plt\n",
        "mpl.rc('axes', labelsize=14)\n",
        "mpl.rc('xtick', labelsize=12)\n",
        "mpl.rc('ytick', labelsize=12)"
      ]
    },
    {
      "cell_type": "code",
      "source": [
        "tf.config.list_physical_devices('GPU')"
      ],
      "metadata": {
        "colab": {
          "base_uri": "https://localhost:8080/"
        },
        "id": "7ezOJNJ2c4KE",
        "outputId": "e84033f4-1390-4da3-8751-9f1e22228ae2"
      },
      "execution_count": 2,
      "outputs": [
        {
          "output_type": "execute_result",
          "data": {
            "text/plain": [
              "[PhysicalDevice(name='/physical_device:GPU:0', device_type='GPU')]"
            ]
          },
          "metadata": {},
          "execution_count": 2
        }
      ]
    },
    {
      "cell_type": "markdown",
      "source": [
        "##Section 2: External data loading, preprocessing, and preparation\n",
        "\n",
        "The google colab location is mounted and the exposure_dataset.csv is loaded using pandas.\n",
        "\n",
        "A global scaler that performs z-normalization (0 mean, 1 standard deviation) is used to normalize the data along the columns. Later on we will extract the scaler to use it during inference.\n",
        "\n",
        "The preparation involves the data spliting to training, validation, and testing sets. We choose 60% of the total number of sequences for training and the rest for validation and testing sets.\n",
        "\n"
      ],
      "metadata": {
        "id": "xi1vqBSS43D2"
      }
    },
    {
      "cell_type": "code",
      "source": [
        "from google.colab import drive\n",
        "drive.mount('/content/drive')"
      ],
      "metadata": {
        "colab": {
          "base_uri": "https://localhost:8080/"
        },
        "id": "Fhj7kAGPd_51",
        "outputId": "615b5b88-1400-45be-b0c5-95b79672af18"
      },
      "execution_count": 3,
      "outputs": [
        {
          "output_type": "stream",
          "name": "stdout",
          "text": [
            "Mounted at /content/drive\n"
          ]
        }
      ]
    },
    {
      "cell_type": "code",
      "source": [
        "#Data loading\n",
        "file_path = '/content/drive/MyDrive/Colab Notebooks/exposure_dataset.csv'"
      ],
      "metadata": {
        "id": "Ei6FsCP-eWHq"
      },
      "execution_count": 4,
      "outputs": []
    },
    {
      "cell_type": "code",
      "source": [
        "#Data reading\n",
        "import pandas as pd\n",
        "df = pd.read_csv(file_path)"
      ],
      "metadata": {
        "id": "dv5c-pZrfBiH"
      },
      "execution_count": 5,
      "outputs": []
    },
    {
      "cell_type": "code",
      "source": [
        "print(df)"
      ],
      "metadata": {
        "colab": {
          "base_uri": "https://localhost:8080/"
        },
        "id": "zNonL9ardizw",
        "outputId": "d764b7ec-c1c1-4a85-9b68-6e3d9403839a"
      },
      "execution_count": 6,
      "outputs": [
        {
          "output_type": "stream",
          "name": "stdout",
          "text": [
            "       pixel_value  sensor_value  exposure\n",
            "0         7.701034   2175.587020  0.022000\n",
            "1         5.815941   2181.119258  0.023100\n",
            "2         7.024709   2275.419955  0.024255\n",
            "3         9.315637   2236.333785  0.025468\n",
            "4         5.564641   2177.587197  0.026741\n",
            "...            ...           ...       ...\n",
            "24995   111.383149  20047.104237  0.578237\n",
            "24996   112.070445  19955.801369  0.607149\n",
            "24997   110.426177  20027.076572  0.637506\n",
            "24998   118.124573  20051.621709  0.669381\n",
            "24999   114.848397  20048.122759  0.702850\n",
            "\n",
            "[25000 rows x 3 columns]\n"
          ]
        }
      ]
    },
    {
      "cell_type": "code",
      "source": [
        "#Data normalization: Apply global scaler, z-normalization for 0 mean and 1 std, keep the scaler for inverse and inference\n",
        "from sklearn.preprocessing import StandardScaler\n",
        "\n",
        "scaler = StandardScaler()\n",
        "scaler.fit(df)\n",
        "df_normalized = scaler.transform(df)\n",
        "\n",
        "#Setting the sliding window size of the data/model, this can act as hyperparameter\n",
        "n_steps = 167\n",
        "num_sequences = len(df_normalized) - n_steps  # Number of sequences to create\n",
        "series_reshaped = []\n",
        "\n",
        "for i in range(num_sequences):\n",
        "    sequence = df_normalized[i:i + n_steps].copy()\n",
        "    series_reshaped.append(sequence)\n",
        "\n",
        "series_reshaped = np.array(series_reshaped)\n"
      ],
      "metadata": {
        "id": "FHjYC9G6YqMw"
      },
      "execution_count": 7,
      "outputs": []
    },
    {
      "cell_type": "markdown",
      "source": [
        "### Section 2b: Testing if we can use the Scaler for reconstructing back to the original data"
      ],
      "metadata": {
        "id": "TJ7tZIf7694_"
      }
    },
    {
      "cell_type": "code",
      "source": [
        "series_reshaped.shape"
      ],
      "metadata": {
        "colab": {
          "base_uri": "https://localhost:8080/"
        },
        "id": "djYarVo7cYOR",
        "outputId": "2d20b03c-3813-48dd-d22a-a969ef607469"
      },
      "execution_count": 10,
      "outputs": [
        {
          "output_type": "execute_result",
          "data": {
            "text/plain": [
              "(24833, 167, 3)"
            ]
          },
          "metadata": {},
          "execution_count": 10
        }
      ]
    },
    {
      "cell_type": "code",
      "source": [
        "series_reshaped[0][0]"
      ],
      "metadata": {
        "colab": {
          "base_uri": "https://localhost:8080/"
        },
        "id": "Wdg157sjZ73c",
        "outputId": "eee8e695-6c95-440a-cde5-caf1edb55360"
      },
      "execution_count": 11,
      "outputs": [
        {
          "output_type": "execute_result",
          "data": {
            "text/plain": [
              "array([-1.18097746, -1.73654999, -0.50282449])"
            ]
          },
          "metadata": {},
          "execution_count": 11
        }
      ]
    },
    {
      "cell_type": "code",
      "source": [
        "sequence_original = scaler.inverse_transform(series_reshaped[0][0].reshape(1, -1))\n",
        "print(sequence_original)"
      ],
      "metadata": {
        "colab": {
          "base_uri": "https://localhost:8080/"
        },
        "id": "UkGqvna7aYi0",
        "outputId": "ac771172-f663-4a8e-a346-bd149729a378"
      },
      "execution_count": 12,
      "outputs": [
        {
          "output_type": "stream",
          "name": "stdout",
          "text": [
            "[[7.70103375e+00 2.17558702e+03 2.20000000e-02]]\n"
          ]
        }
      ]
    },
    {
      "cell_type": "code",
      "source": [
        "p = df.iloc[0][:]\n",
        "print(p)"
      ],
      "metadata": {
        "colab": {
          "base_uri": "https://localhost:8080/"
        },
        "id": "0maofS_KaH76",
        "outputId": "0f609110-2b51-4387-8815-7e230ab34de6"
      },
      "execution_count": 13,
      "outputs": [
        {
          "output_type": "stream",
          "name": "stdout",
          "text": [
            "pixel_value        7.701034\n",
            "sensor_value    2175.587020\n",
            "exposure           0.022000\n",
            "Name: 0, dtype: float64\n"
          ]
        }
      ]
    },
    {
      "cell_type": "code",
      "source": [
        "series_reshaped.shape"
      ],
      "metadata": {
        "colab": {
          "base_uri": "https://localhost:8080/"
        },
        "id": "UxViDItqntwQ",
        "outputId": "1a455d25-a286-4560-f71d-946ee0eb13ac"
      },
      "execution_count": 14,
      "outputs": [
        {
          "output_type": "execute_result",
          "data": {
            "text/plain": [
              "(24833, 167, 3)"
            ]
          },
          "metadata": {},
          "execution_count": 14
        }
      ]
    },
    {
      "cell_type": "code",
      "source": [
        "series_reshaped[0, :, -1]"
      ],
      "metadata": {
        "colab": {
          "base_uri": "https://localhost:8080/"
        },
        "id": "ER47X7zxtdjL",
        "outputId": "a8e9997a-b7fd-4b39-b222-201ed791c7ad"
      },
      "execution_count": 15,
      "outputs": [
        {
          "output_type": "execute_result",
          "data": {
            "text/plain": [
              "array([-5.02824488e-01, -5.02634787e-01, -5.02435601e-01, -5.02226455e-01,\n",
              "       -5.02006853e-01, -5.01776270e-01, -5.01534159e-01, -5.01279941e-01,\n",
              "       -5.01013013e-01, -5.00732738e-01, -5.00438450e-01, -5.00129447e-01,\n",
              "       -4.99804994e-01, -4.99464319e-01, -4.99106609e-01, -4.98731014e-01,\n",
              "       -4.98336640e-01, -4.97922547e-01, -4.97487749e-01, -4.97031211e-01,\n",
              "       -4.96551846e-01, -4.96048513e-01, -4.95520013e-01, -4.94965089e-01,\n",
              "       -4.94382418e-01, -4.93770613e-01, -4.93128219e-01, -4.92453704e-01,\n",
              "       -4.91745464e-01, -4.91001812e-01, -4.90220978e-01, -4.89401101e-01,\n",
              "       -4.88540231e-01, -4.87636317e-01, -4.86687208e-01, -4.85690643e-01,\n",
              "       -4.84644250e-01, -4.83545537e-01, -4.82391889e-01, -4.81180558e-01,\n",
              "       -4.79908660e-01, -4.78573168e-01, -4.77170901e-01, -4.75698521e-01,\n",
              "       -4.74152522e-01, -4.72529222e-01, -4.70824758e-01, -4.69035071e-01,\n",
              "       -4.67155899e-01, -4.65182769e-01, -4.63110982e-01, -4.60935606e-01,\n",
              "       -4.58651461e-01, -4.56253108e-01, -4.53734839e-01, -4.51090655e-01,\n",
              "       -4.48314263e-01, -4.45399051e-01, -4.42338078e-01, -4.39124056e-01,\n",
              "       -4.35749334e-01, -4.32205875e-01, -4.28485244e-01, -4.24578581e-01,\n",
              "       -4.20476584e-01, -4.16169488e-01, -4.11647037e-01, -4.06898464e-01,\n",
              "       -4.01912462e-01, -3.96677160e-01, -3.91180093e-01, -3.85408172e-01,\n",
              "       -3.79347655e-01, -3.72984113e-01, -3.66302393e-01, -3.59286587e-01,\n",
              "       -3.51919991e-01, -3.44185066e-01, -3.36063394e-01, -3.27535638e-01,\n",
              "       -3.18581495e-01, -3.09179644e-01, -2.99307701e-01, -2.88942161e-01,\n",
              "       -2.78058344e-01, -2.66630335e-01, -2.54630927e-01, -2.42031548e-01,\n",
              "       -2.28802200e-01, -2.14911385e-01, -2.00326029e-01, -1.85011405e-01,\n",
              "       -1.68931050e-01, -1.52046677e-01, -1.34318086e-01, -1.15703065e-01,\n",
              "       -9.61572925e-02, -7.56342318e-02, -5.40850181e-02, -3.14583438e-02,\n",
              "       -7.70033566e-03,  1.72455728e-02,  4.34387768e-02,  7.09416409e-02,\n",
              "        9.98196482e-02,  1.30141556e-01,  1.61979559e-01,  1.95409462e-01,\n",
              "        2.30510861e-01,  2.67367329e-01,  3.06066621e-01,  3.46700877e-01,\n",
              "        3.89366846e-01,  4.34166114e-01,  4.81205345e-01,  5.30596537e-01,\n",
              "        5.82457289e-01,  6.36911079e-01,  6.94087558e-01,  7.54122862e-01,\n",
              "        8.17159930e-01,  8.83348852e-01,  9.52847220e-01,  1.02582051e+00,\n",
              "        1.10244246e+00,  1.18289550e+00,  1.26737121e+00,  1.35607069e+00,\n",
              "        1.44920515e+00,  1.54699633e+00,  1.64967708e+00,  1.75749185e+00,\n",
              "        1.87069737e+00,  1.98956317e+00,  2.11437225e+00,  2.24542179e+00,\n",
              "        2.38302380e+00,  2.52750592e+00,  2.67921214e+00,  2.83850367e+00,\n",
              "        3.00575978e+00,  3.18137869e+00,  3.36577855e+00,  3.55939841e+00,\n",
              "        3.76269925e+00,  3.97616514e+00,  4.20030432e+00,  4.43565046e+00,\n",
              "        4.68276391e+00,  4.94223303e+00,  5.21467561e+00,  5.50074032e+00,\n",
              "        5.80110826e+00,  6.11649460e+00,  6.44765025e+00,  6.79536369e+00,\n",
              "        7.16046280e+00,  7.54381686e+00,  7.94633863e+00,  8.36898649e+00,\n",
              "        8.81276674e+00,  9.27873600e+00,  9.76800373e+00,  1.02817348e+01,\n",
              "        1.08211525e+01,  1.13875411e+01,  1.19822490e+01])"
            ]
          },
          "metadata": {},
          "execution_count": 15
        }
      ]
    },
    {
      "cell_type": "code",
      "source": [
        "series_reshaped[0, :, -1].shape"
      ],
      "metadata": {
        "colab": {
          "base_uri": "https://localhost:8080/"
        },
        "id": "Imt7KSF6AX8m",
        "outputId": "e36bdf8c-dcea-4e98-e20b-5dfcb279ac5c"
      },
      "execution_count": 16,
      "outputs": [
        {
          "output_type": "execute_result",
          "data": {
            "text/plain": [
              "(167,)"
            ]
          },
          "metadata": {},
          "execution_count": 16
        }
      ]
    },
    {
      "cell_type": "markdown",
      "source": [
        "## Section 2c: Data split to training, validation, and testing"
      ],
      "metadata": {
        "id": "AgkYxxryqPf6"
      }
    },
    {
      "cell_type": "code",
      "source": [
        "\n",
        "# Split the data into training and remaining data\n",
        "X_train, X_remain, Y_train, Y_remain = train_test_split(\n",
        "    series_reshaped[:, :, :2],  # Features (first 2 columns)\n",
        "    series_reshaped[:, :, -1],  # Target (the last columns)\n",
        "    test_size=0.4,           # 40% for remaining data (train + validation)\n",
        "    random_state=42\n",
        ")\n",
        "\n",
        "# # Split the remaining data into validation and test sets\n",
        "X_val, X_test, Y_val, Y_test = train_test_split(\n",
        "    X_remain,               # Features from remaining data\n",
        "    Y_remain,               # Target from remaining data\n",
        "    test_size=0.5,          # 50% for validation and test (20% each)\n",
        "    random_state=42\n",
        ")"
      ],
      "metadata": {
        "id": "kSvO3lKpr1Qn"
      },
      "execution_count": 18,
      "outputs": []
    },
    {
      "cell_type": "code",
      "source": [
        "X_train.shape"
      ],
      "metadata": {
        "colab": {
          "base_uri": "https://localhost:8080/"
        },
        "id": "J5fGF5yVtPcr",
        "outputId": "99e1746d-55ed-432b-8bb2-e35fd9e110ce"
      },
      "execution_count": 19,
      "outputs": [
        {
          "output_type": "execute_result",
          "data": {
            "text/plain": [
              "(14899, 167, 2)"
            ]
          },
          "metadata": {},
          "execution_count": 19
        }
      ]
    },
    {
      "cell_type": "code",
      "source": [
        "X_train[0]"
      ],
      "metadata": {
        "colab": {
          "base_uri": "https://localhost:8080/"
        },
        "id": "ZTdNm7_YvAh9",
        "outputId": "bfaab4e1-9da0-46ca-cd39-8768663e7326"
      },
      "execution_count": 20,
      "outputs": [
        {
          "output_type": "execute_result",
          "data": {
            "text/plain": [
              "array([[-1.0692425 , -0.37518874],\n",
              "       [-1.07154252, -0.3702273 ],\n",
              "       [-1.1037413 , -0.39348853],\n",
              "       [-1.05431479, -0.35145856],\n",
              "       [-1.06706416, -0.36540774],\n",
              "       [-1.06177089, -0.38683299],\n",
              "       [-1.03619775, -0.36267405],\n",
              "       [-1.04046006, -0.37472504],\n",
              "       [-1.03743932, -0.36804305],\n",
              "       [-0.98698415, -0.37026705],\n",
              "       [-1.03043035, -0.34748391],\n",
              "       [-1.03422605, -0.39020674],\n",
              "       [-1.04378108, -0.37168461],\n",
              "       [-0.99448211, -0.37958139],\n",
              "       [-1.03545368, -0.36549297],\n",
              "       [-0.98155257, -0.36365063],\n",
              "       [-0.99373943, -0.37037018],\n",
              "       [-0.98337   , -0.37655631],\n",
              "       [-0.92432491, -0.3595847 ],\n",
              "       [-0.97532162, -0.35696694],\n",
              "       [-0.9633396 , -0.36099346],\n",
              "       [-0.94460194, -0.3631183 ],\n",
              "       [-0.94478953, -0.37376097],\n",
              "       [-0.94290559, -0.37816721],\n",
              "       [-0.89442658, -0.37240502],\n",
              "       [-0.9276949 , -0.35764662],\n",
              "       [-0.90368014, -0.36447507],\n",
              "       [-0.89869835, -0.37547811],\n",
              "       [-0.88328926, -0.36777842],\n",
              "       [-0.81579585, -0.36823519],\n",
              "       [-0.88074263, -0.37948763],\n",
              "       [-0.8559482 , -0.36172014],\n",
              "       [-0.83580487, -0.34372836],\n",
              "       [-0.84768662, -0.36923319],\n",
              "       [-0.81115226, -0.37104927],\n",
              "       [-0.80842587, -0.36424417],\n",
              "       [-0.78584511, -0.36776259],\n",
              "       [-0.81219298, -0.37569334],\n",
              "       [-0.75475795, -0.35693406],\n",
              "       [-0.73613313, -0.35872015],\n",
              "       [-0.76660649, -0.36694896],\n",
              "       [-0.77947785, -0.36794728],\n",
              "       [-0.72484618, -0.36350506],\n",
              "       [-0.73590133, -0.36662579],\n",
              "       [-0.73232265, -0.37659557],\n",
              "       [-0.70414797, -0.37009172],\n",
              "       [-0.73994555, -0.35789445],\n",
              "       [-0.64988512, -0.34441882],\n",
              "       [-0.62623284, -0.369852  ],\n",
              "       [-0.60709922, -0.35293299],\n",
              "       [-0.63621741, -0.36960434],\n",
              "       [-0.63626513, -0.3791763 ],\n",
              "       [-0.60272764, -0.35900865],\n",
              "       [-0.56466422, -0.37811284],\n",
              "       [-0.53734293, -0.37309428],\n",
              "       [-0.54599858, -0.37685913],\n",
              "       [-0.49039271, -0.37619084],\n",
              "       [-0.46029385, -0.36502369],\n",
              "       [-0.5198571 , -0.37439406],\n",
              "       [-0.47053619, -0.36940747],\n",
              "       [-0.44765457, -0.34202302],\n",
              "       [-0.44984261, -0.3540252 ],\n",
              "       [-0.37634704, -0.35505897],\n",
              "       [-0.38029965, -0.35326926],\n",
              "       [-0.37784195, -0.34935808],\n",
              "       [-0.34027686, -0.36895881],\n",
              "       [-0.2779133 , -0.34957314],\n",
              "       [-0.33583252, -0.36296978],\n",
              "       [-0.20989644, -0.37607019],\n",
              "       [-0.23767315, -0.36281059],\n",
              "       [-0.18668147, -0.3752236 ],\n",
              "       [-0.16985806, -0.36325858],\n",
              "       [-0.1346289 , -0.35262757],\n",
              "       [-0.14298425, -0.34378167],\n",
              "       [-0.09171562, -0.35506093],\n",
              "       [-0.07311714, -0.37385188],\n",
              "       [-0.04963147, -0.34109819],\n",
              "       [-0.05210768, -0.37106504],\n",
              "       [ 0.00868553, -0.37189716],\n",
              "       [ 0.10233877, -0.35431402],\n",
              "       [ 0.12832554, -0.34397399],\n",
              "       [ 0.11900427, -0.36066736],\n",
              "       [ 0.20439487, -0.36223414],\n",
              "       [ 0.19079402, -0.36158597],\n",
              "       [ 0.21378821, -0.36579448],\n",
              "       [ 0.28643051, -0.36501575],\n",
              "       [ 0.27034596, -0.35431045],\n",
              "       [ 0.36164299, -0.35985707],\n",
              "       [ 0.3778381 , -0.35993376],\n",
              "       [ 0.40187937, -0.3561428 ],\n",
              "       [ 0.49024214, -0.36430402],\n",
              "       [ 0.49982343, -0.3463943 ],\n",
              "       [ 0.54692348, -0.36506698],\n",
              "       [ 0.61871427, -0.35818177],\n",
              "       [ 0.67835181, -0.36618055],\n",
              "       [ 0.72911095, -0.35199233],\n",
              "       [ 0.7700789 , -0.3544528 ],\n",
              "       [ 0.75719368, -0.35432118],\n",
              "       [ 0.85071307, -0.34976077],\n",
              "       [ 0.84727691, -0.35341762],\n",
              "       [ 0.95417493, -0.37653045],\n",
              "       [ 1.03795109, -0.36375277],\n",
              "       [ 1.09693737, -0.36043607],\n",
              "       [ 1.13453664, -0.3552161 ],\n",
              "       [ 1.1964344 , -0.36097161],\n",
              "       [ 1.27508399, -0.36375766],\n",
              "       [ 1.31786816, -0.35632183],\n",
              "       [ 1.41249136, -0.36978106],\n",
              "       [ 1.43073592, -0.3476653 ],\n",
              "       [ 1.51200793, -0.35601031],\n",
              "       [ 1.5538727 , -0.36676619],\n",
              "       [ 1.66954595, -0.35017361],\n",
              "       [ 1.6723325 , -0.35783304],\n",
              "       [ 1.72486734, -0.36164835],\n",
              "       [ 1.72486734, -0.34480356],\n",
              "       [ 1.72486734, -0.35489878],\n",
              "       [ 1.72486734, -0.34618774],\n",
              "       [ 1.72486734, -0.3309975 ],\n",
              "       [ 1.72486734, -0.37017248],\n",
              "       [ 1.72486734, -0.36112554],\n",
              "       [ 1.72486734, -0.34622876],\n",
              "       [ 1.72486734, -0.35911818],\n",
              "       [ 1.72486734, -0.33908279],\n",
              "       [ 1.72486734, -0.34888656],\n",
              "       [ 1.72486734, -0.37129735],\n",
              "       [ 1.72486734, -0.36201375],\n",
              "       [ 1.72486734, -0.34061914],\n",
              "       [ 1.72486734, -0.3622318 ],\n",
              "       [ 1.72486734, -0.35019828],\n",
              "       [ 1.72486734, -0.34744278],\n",
              "       [ 1.72486734, -0.34777478],\n",
              "       [ 1.72486734, -0.3298614 ],\n",
              "       [-1.09033853, -0.35112112],\n",
              "       [-1.09811268, -0.34925451],\n",
              "       [-1.08074794, -0.35463114],\n",
              "       [-1.0718126 , -0.36654582],\n",
              "       [-1.07451872, -0.34842512],\n",
              "       [-1.06402979, -0.36141389],\n",
              "       [-1.07599731, -0.35083977],\n",
              "       [-1.11607778, -0.33944382],\n",
              "       [-1.11402289, -0.34546941],\n",
              "       [-1.04941084, -0.35110449],\n",
              "       [-1.0675487 , -0.33484278],\n",
              "       [-1.09436241, -0.3517608 ],\n",
              "       [-1.02987609, -0.35287615],\n",
              "       [-1.05964737, -0.35024885],\n",
              "       [-1.06839104, -0.35091432],\n",
              "       [-1.01758677, -0.34684973],\n",
              "       [-0.9595215 , -0.35439701],\n",
              "       [-1.0377333 , -0.36178111],\n",
              "       [-1.04274568, -0.36121487],\n",
              "       [-0.98386771, -0.3453752 ],\n",
              "       [-0.97172447, -0.33811038],\n",
              "       [-0.98608928, -0.35065478],\n",
              "       [-1.04496554, -0.35989849],\n",
              "       [-0.9480219 , -0.33696926],\n",
              "       [-0.97154754, -0.33435507],\n",
              "       [-0.91711306, -0.34185992],\n",
              "       [-0.9717679 , -0.3470208 ],\n",
              "       [-0.98859937, -0.34129409],\n",
              "       [-0.91502177, -0.33458748],\n",
              "       [-0.91970074, -0.33170045],\n",
              "       [-0.94323199, -0.35315995],\n",
              "       [-0.9102269 , -0.36538853],\n",
              "       [-0.90075732, -0.34514635],\n",
              "       [-0.91327318, -0.33173561],\n",
              "       [-0.8381398 , -0.35503228]])"
            ]
          },
          "metadata": {},
          "execution_count": 20
        }
      ]
    },
    {
      "cell_type": "code",
      "source": [
        "Y_train[0]"
      ],
      "metadata": {
        "colab": {
          "base_uri": "https://localhost:8080/"
        },
        "id": "eII4nxuC_kLP",
        "outputId": "cded38a9-5634-45b7-b6b5-b72d893377a9"
      },
      "execution_count": 21,
      "outputs": [
        {
          "output_type": "execute_result",
          "data": {
            "text/plain": [
              "array([-0.50153416, -0.50127994, -0.50101301, -0.50073274, -0.50043845,\n",
              "       -0.50012945, -0.49980499, -0.49946432, -0.49910661, -0.49873101,\n",
              "       -0.49833664, -0.49792255, -0.49748775, -0.49703121, -0.49655185,\n",
              "       -0.49604851, -0.49552001, -0.49496509, -0.49438242, -0.49377061,\n",
              "       -0.49312822, -0.4924537 , -0.49174546, -0.49100181, -0.49022098,\n",
              "       -0.4894011 , -0.48854023, -0.48763632, -0.48668721, -0.48569064,\n",
              "       -0.48464425, -0.48354554, -0.48239189, -0.48118056, -0.47990866,\n",
              "       -0.47857317, -0.4771709 , -0.47569852, -0.47415252, -0.47252922,\n",
              "       -0.47082476, -0.46903507, -0.4671559 , -0.46518277, -0.46311098,\n",
              "       -0.46093561, -0.45865146, -0.45625311, -0.45373484, -0.45109066,\n",
              "       -0.44831426, -0.44539905, -0.44233808, -0.43912406, -0.43574933,\n",
              "       -0.43220588, -0.42848524, -0.42457858, -0.42047658, -0.41616949,\n",
              "       -0.41164704, -0.40689846, -0.40191246, -0.39667716, -0.39118009,\n",
              "       -0.38540817, -0.37934766, -0.37298411, -0.36630239, -0.35928659,\n",
              "       -0.35191999, -0.34418507, -0.33606339, -0.32753564, -0.31858149,\n",
              "       -0.30917964, -0.2993077 , -0.28894216, -0.27805834, -0.26663034,\n",
              "       -0.25463093, -0.24203155, -0.2288022 , -0.21491138, -0.20032603,\n",
              "       -0.1850114 , -0.16893105, -0.15204668, -0.13431809, -0.11570306,\n",
              "       -0.09615729, -0.07563423, -0.05408502, -0.03145834, -0.00770034,\n",
              "        0.01724557,  0.04343878,  0.07094164,  0.09981965,  0.13014156,\n",
              "        0.16197956,  0.19540946,  0.23051086,  0.26736733,  0.30606662,\n",
              "        0.34670088,  0.38936685,  0.43416611,  0.48120534,  0.53059654,\n",
              "        0.58245729,  0.63691108,  0.69408756,  0.75412286,  0.81715993,\n",
              "        0.88334885,  0.95284722,  1.02582051,  1.10244246,  1.1828955 ,\n",
              "        1.26737121,  1.35607069,  1.44920515,  1.54699633,  1.64967708,\n",
              "        1.75749185,  1.87069737,  1.98956317,  2.11437225,  2.24542179,\n",
              "        2.3830238 ,  2.52750592, -0.50282449, -0.50263479, -0.5024356 ,\n",
              "       -0.50222646, -0.50200685, -0.50177627, -0.50153416, -0.50127994,\n",
              "       -0.50101301, -0.50073274, -0.50043845, -0.50012945, -0.49980499,\n",
              "       -0.49946432, -0.49910661, -0.49873101, -0.49833664, -0.49792255,\n",
              "       -0.49748775, -0.49703121, -0.49655185, -0.49604851, -0.49552001,\n",
              "       -0.49496509, -0.49438242, -0.49377061, -0.49312822, -0.4924537 ,\n",
              "       -0.49174546, -0.49100181, -0.49022098, -0.4894011 , -0.48854023,\n",
              "       -0.48763632, -0.48668721])"
            ]
          },
          "metadata": {},
          "execution_count": 21
        }
      ]
    },
    {
      "cell_type": "code",
      "source": [
        "Y_val.shape"
      ],
      "metadata": {
        "colab": {
          "base_uri": "https://localhost:8080/"
        },
        "id": "Naww_3SSvGQA",
        "outputId": "d94eaf42-9117-4471-99c1-1f0f6c674738"
      },
      "execution_count": 22,
      "outputs": [
        {
          "output_type": "execute_result",
          "data": {
            "text/plain": [
              "(4967, 167)"
            ]
          },
          "metadata": {},
          "execution_count": 22
        }
      ]
    },
    {
      "cell_type": "code",
      "source": [
        "X_test.shape"
      ],
      "metadata": {
        "colab": {
          "base_uri": "https://localhost:8080/"
        },
        "id": "3xak_zIovgkA",
        "outputId": "97f40ac7-04b1-48cf-c9bc-41881668acf2"
      },
      "execution_count": 23,
      "outputs": [
        {
          "output_type": "execute_result",
          "data": {
            "text/plain": [
              "(4967, 167, 2)"
            ]
          },
          "metadata": {},
          "execution_count": 23
        }
      ]
    },
    {
      "cell_type": "markdown",
      "source": [
        "## Section 3: Model environment set up"
      ],
      "metadata": {
        "id": "XA6cu4Po7lsO"
      }
    },
    {
      "cell_type": "code",
      "source": [
        "from sklearn.model_selection import train_test_split"
      ],
      "metadata": {
        "id": "piNVHmw_nuR1"
      },
      "execution_count": 17,
      "outputs": []
    },
    {
      "cell_type": "code",
      "source": [
        "from keras import Sequential\n",
        "from keras.layers import Dense, LSTM\n",
        "from keras.callbacks import EarlyStopping"
      ],
      "metadata": {
        "id": "t5sRbpuxvjk7"
      },
      "execution_count": 24,
      "outputs": []
    },
    {
      "cell_type": "markdown",
      "source": [
        "### Section 3b: Visualization plot function"
      ],
      "metadata": {
        "id": "qkjuyLTA7tmo"
      }
    },
    {
      "cell_type": "code",
      "source": [
        "def plot_learning_curves(loss, val_loss):\n",
        "    plt.plot(np.arange(len(loss)) + 0.5, loss, \"b.\", label=\"Training loss\")\n",
        "    plt.plot(np.arange(len(val_loss)) + 1, val_loss, \"r-\", label=\"Validation loss\")\n",
        "    plt.gca().xaxis.set_major_locator(mpl.ticker.MaxNLocator(integer=True))\n",
        "    plt.legend(fontsize=14)\n",
        "    plt.xlabel(\"Epochs\")\n",
        "    plt.ylabel(\"Loss\")\n",
        "    plt.grid(True)"
      ],
      "metadata": {
        "id": "WafoSAr6dT7N"
      },
      "execution_count": 26,
      "outputs": []
    },
    {
      "cell_type": "markdown",
      "source": [
        "## Section 4: Main model training section. Setting the models, the hyperparameters, the regularizers, the tuning.\n",
        "\n",
        "First we set the early stopping, a regularization technique, to monitor the validation loss, and stop the training if there is no improvement.\n",
        "\n",
        "We performed experiments using models that have been proposed to work on sequences, the Deep RNNs and LSTMs.\n",
        "\n",
        "In keras, the model building is abstracted at a high degree so we only have to set up the number of units, the fully connected or dense layer and its output, 1 single value that represents the exposure time in our case, the number of sequential layers, the type of loss function, the optimizer, a possible dropout for extra regularization, and finally the number of training epochs.\n",
        "\n",
        "As a first exploratory step we tried different settings. For the best architecture, or the one that looked more promising, we considered the dropout and the number of units as hyperparameters, and we used Optuna toolkit to find the best values for the hyperparamters. Having the values we expanded our training to more epochs."
      ],
      "metadata": {
        "id": "EvPw0X4O73-c"
      }
    },
    {
      "cell_type": "code",
      "source": [
        "es = EarlyStopping(monitor = 'val_loss')"
      ],
      "metadata": {
        "id": "KTem84_cv6W4"
      },
      "execution_count": 25,
      "outputs": []
    },
    {
      "cell_type": "code",
      "source": [
        "#Deep Recurrent Neural Network\n",
        "np.random.seed(42)\n",
        "tf.random.set_seed(42)\n",
        "\n",
        "DRNN = keras.models.Sequential([\n",
        "    keras.layers.SimpleRNN(20, return_sequences=True, input_shape=[None, 2]),\n",
        "    keras.layers.SimpleRNN(20, return_sequences=True),\n",
        "    keras.layers.TimeDistributed(keras.layers.Dense(1))\n",
        "])\n",
        "\n",
        "DRNN.compile(loss=\"mape\", optimizer=\"adam\")\n",
        "history_RNN = DRNN.fit(X_train, Y_train, epochs=20,\n",
        "                    validation_data=(X_val, Y_val))"
      ],
      "metadata": {
        "colab": {
          "base_uri": "https://localhost:8080/"
        },
        "id": "_SKAOYGuWMCR",
        "outputId": "0b081520-e48e-4716-c7c4-f12a8c12722e"
      },
      "execution_count": 27,
      "outputs": [
        {
          "output_type": "stream",
          "name": "stdout",
          "text": [
            "Epoch 1/20\n",
            "466/466 [==============================] - 162s 333ms/step - loss: 26.0172 - val_loss: 14.9333\n",
            "Epoch 2/20\n",
            "466/466 [==============================] - 152s 327ms/step - loss: 12.9604 - val_loss: 11.4247\n",
            "Epoch 3/20\n",
            "466/466 [==============================] - 156s 335ms/step - loss: 10.1469 - val_loss: 9.5753\n",
            "Epoch 4/20\n",
            "466/466 [==============================] - 153s 328ms/step - loss: 9.1747 - val_loss: 7.8983\n",
            "Epoch 5/20\n",
            "466/466 [==============================] - 156s 336ms/step - loss: 7.9599 - val_loss: 8.3231\n",
            "Epoch 6/20\n",
            "466/466 [==============================] - 155s 333ms/step - loss: 7.4239 - val_loss: 6.8605\n",
            "Epoch 7/20\n",
            "466/466 [==============================] - 153s 327ms/step - loss: 6.7452 - val_loss: 5.9295\n",
            "Epoch 8/20\n",
            "466/466 [==============================] - 156s 334ms/step - loss: 6.3825 - val_loss: 5.9327\n",
            "Epoch 9/20\n",
            "466/466 [==============================] - 155s 333ms/step - loss: 5.9241 - val_loss: 6.0644\n",
            "Epoch 10/20\n",
            "466/466 [==============================] - 154s 331ms/step - loss: 5.8436 - val_loss: 5.0996\n",
            "Epoch 11/20\n",
            "466/466 [==============================] - 152s 326ms/step - loss: 5.7943 - val_loss: 4.8052\n",
            "Epoch 12/20\n",
            "466/466 [==============================] - 152s 325ms/step - loss: 5.2991 - val_loss: 4.8219\n",
            "Epoch 13/20\n",
            "466/466 [==============================] - 152s 325ms/step - loss: 5.2515 - val_loss: 5.9395\n",
            "Epoch 14/20\n",
            "466/466 [==============================] - 157s 337ms/step - loss: 4.9008 - val_loss: 4.7196\n",
            "Epoch 15/20\n",
            "466/466 [==============================] - 149s 320ms/step - loss: 5.3728 - val_loss: 4.7080\n",
            "Epoch 16/20\n",
            "466/466 [==============================] - 154s 330ms/step - loss: 4.8820 - val_loss: 4.5092\n",
            "Epoch 17/20\n",
            "466/466 [==============================] - 154s 331ms/step - loss: 4.6186 - val_loss: 4.0835\n",
            "Epoch 18/20\n",
            "466/466 [==============================] - 159s 341ms/step - loss: 4.7734 - val_loss: 5.2652\n",
            "Epoch 19/20\n",
            "466/466 [==============================] - 150s 322ms/step - loss: 4.7769 - val_loss: 5.5989\n",
            "Epoch 20/20\n",
            "466/466 [==============================] - 152s 327ms/step - loss: 4.3799 - val_loss: 4.0824\n"
          ]
        }
      ]
    },
    {
      "cell_type": "code",
      "source": [
        "# Deep LSTM model\n",
        "np.random.seed(42)\n",
        "tf.random.set_seed(42)\n",
        "\n",
        "DeepLSTM = keras.models.Sequential([\n",
        "    keras.layers.LSTM(80, return_sequences= True, input_shape=(167,2)),\n",
        "    keras.layers.Dropout(0.2),\n",
        "    keras.layers.LSTM(40, return_sequences= True),\n",
        "    keras.layers.Dropout(0.2),\n",
        "    keras.layers.LSTM(30, return_sequences= True),\n",
        "    keras.layers.TimeDistributed(keras.layers.Dense(1))\n",
        "])\n",
        "\n",
        "DeepLSTM.compile(loss=\"mape\", optimizer=\"adam\")\n",
        "history_DeepLSTM = DeepLSTM.fit(X_train, Y_train, epochs=20,\n",
        "                    validation_data=(X_val, Y_val), callbacks = [es] )"
      ],
      "metadata": {
        "colab": {
          "base_uri": "https://localhost:8080/"
        },
        "id": "n8IPCSR_v_CZ",
        "outputId": "a4c919e1-ed2a-48db-d976-6749b54a340e"
      },
      "execution_count": null,
      "outputs": [
        {
          "output_type": "stream",
          "name": "stdout",
          "text": [
            "Epoch 1/20\n",
            "466/466 [==============================] - 22s 30ms/step - loss: 15.8311 - val_loss: 6.8480\n",
            "Epoch 2/20\n",
            "466/466 [==============================] - 16s 34ms/step - loss: 7.8886 - val_loss: 6.2141\n",
            "Epoch 3/20\n",
            "466/466 [==============================] - 12s 25ms/step - loss: 6.3631 - val_loss: 4.6678\n",
            "Epoch 4/20\n",
            "466/466 [==============================] - 11s 23ms/step - loss: 5.4097 - val_loss: 3.5787\n",
            "Epoch 5/20\n",
            "466/466 [==============================] - 9s 20ms/step - loss: 4.8565 - val_loss: 3.1898\n",
            "Epoch 6/20\n",
            "466/466 [==============================] - 10s 22ms/step - loss: 4.3963 - val_loss: 3.3163\n"
          ]
        }
      ]
    },
    {
      "cell_type": "code",
      "source": [
        "plot_learning_curves(history_DeepLSTM.history[\"loss\"], history_DeepLSTM.history[\"val_loss\"])\n",
        "plt.show()"
      ],
      "metadata": {
        "colab": {
          "base_uri": "https://localhost:8080/",
          "height": 458
        },
        "id": "pooKBPolyZEH",
        "outputId": "832cfae5-ce72-4a84-de69-4a89bad0ff19"
      },
      "execution_count": null,
      "outputs": [
        {
          "output_type": "display_data",
          "data": {
            "text/plain": [
              "<Figure size 640x480 with 1 Axes>"
            ],
            "image/png": "[encoded data removed]"
          },
          "metadata": {}
        }
      ]
    },
    {
      "cell_type": "code",
      "source": [
        "# Simple Long-Short Term Memory model\n",
        "np.random.seed(42)\n",
        "tf.random.set_seed(42)\n",
        "\n",
        "number_of_LSTM_units = 20 #hyperparameter\n",
        "model8 = keras.models.Sequential([\n",
        "    keras.layers.LSTM(number_of_LSTM_units, return_sequences=True, input_shape=[None, 2]),\n",
        "    keras.layers.TimeDistributed(keras.layers.Dense(1))\n",
        "])\n",
        "\n",
        "model8.compile(loss=\"mape\", optimizer=\"adam\")\n",
        "history_LSTM_50_epochs = model8.fit(X_train, Y_train, epochs=50,\n",
        "                    validation_data=(X_val, Y_val))"
      ],
      "metadata": {
        "colab": {
          "base_uri": "https://localhost:8080/"
        },
        "id": "xzFX72AryGmg",
        "outputId": "c0ebdc2c-6c41-40c4-f218-29f935f77048"
      },
      "execution_count": null,
      "outputs": [
        {
          "output_type": "stream",
          "name": "stdout",
          "text": [
            "Epoch 1/50\n",
            "466/466 [==============================] - 8s 12ms/step - loss: 19.8777 - val_loss: 10.4889\n",
            "Epoch 2/50\n",
            "466/466 [==============================] - 4s 9ms/step - loss: 7.5824 - val_loss: 5.6868\n",
            "Epoch 3/50\n",
            "466/466 [==============================] - 4s 9ms/step - loss: 5.1557 - val_loss: 4.7604\n",
            "Epoch 4/50\n",
            "466/466 [==============================] - 6s 13ms/step - loss: 4.5394 - val_loss: 4.1591\n",
            "Epoch 5/50\n",
            "466/466 [==============================] - 7s 14ms/step - loss: 4.0969 - val_loss: 3.8760\n",
            "Epoch 6/50\n",
            "466/466 [==============================] - 7s 15ms/step - loss: 3.8545 - val_loss: 3.8185\n",
            "Epoch 7/50\n",
            "466/466 [==============================] - 4s 9ms/step - loss: 3.6399 - val_loss: 3.4721\n",
            "Epoch 8/50\n",
            "466/466 [==============================] - 4s 9ms/step - loss: 3.4600 - val_loss: 3.7495\n",
            "Epoch 9/50\n",
            "466/466 [==============================] - 5s 11ms/step - loss: 3.3749 - val_loss: 3.4113\n",
            "Epoch 10/50\n",
            "466/466 [==============================] - 4s 9ms/step - loss: 3.1968 - val_loss: 3.3033\n",
            "Epoch 11/50\n",
            "466/466 [==============================] - 4s 9ms/step - loss: 3.1643 - val_loss: 2.9641\n",
            "Epoch 12/50\n",
            "466/466 [==============================] - 5s 10ms/step - loss: 2.9972 - val_loss: 3.1343\n",
            "Epoch 13/50\n",
            "466/466 [==============================] - 4s 10ms/step - loss: 2.9049 - val_loss: 2.7440\n",
            "Epoch 14/50\n",
            "466/466 [==============================] - 4s 9ms/step - loss: 2.8406 - val_loss: 2.7578\n",
            "Epoch 15/50\n",
            "466/466 [==============================] - 5s 10ms/step - loss: 2.7224 - val_loss: 2.6843\n",
            "Epoch 16/50\n",
            "466/466 [==============================] - 5s 10ms/step - loss: 2.6859 - val_loss: 2.4750\n",
            "Epoch 17/50\n",
            "466/466 [==============================] - 4s 9ms/step - loss: 2.6226 - val_loss: 2.4885\n",
            "Epoch 18/50\n",
            "466/466 [==============================] - 4s 9ms/step - loss: 2.6431 - val_loss: 2.9241\n",
            "Epoch 19/50\n",
            "466/466 [==============================] - 5s 11ms/step - loss: 2.6373 - val_loss: 2.3788\n",
            "Epoch 20/50\n",
            "466/466 [==============================] - 4s 9ms/step - loss: 2.5518 - val_loss: 2.5207\n",
            "Epoch 21/50\n",
            "466/466 [==============================] - 4s 9ms/step - loss: 2.4801 - val_loss: 2.5540\n",
            "Epoch 22/50\n",
            "466/466 [==============================] - 5s 11ms/step - loss: 2.4693 - val_loss: 2.5421\n",
            "Epoch 23/50\n",
            "466/466 [==============================] - 5s 11ms/step - loss: 2.4745 - val_loss: 2.2582\n",
            "Epoch 24/50\n",
            "466/466 [==============================] - 5s 10ms/step - loss: 2.3946 - val_loss: 2.4071\n",
            "Epoch 25/50\n",
            "466/466 [==============================] - 5s 11ms/step - loss: 2.4743 - val_loss: 2.4442\n",
            "Epoch 26/50\n",
            "466/466 [==============================] - 4s 9ms/step - loss: 2.3859 - val_loss: 2.3496\n",
            "Epoch 27/50\n",
            "466/466 [==============================] - 4s 9ms/step - loss: 2.3898 - val_loss: 2.2210\n",
            "Epoch 28/50\n",
            "466/466 [==============================] - 6s 12ms/step - loss: 2.3879 - val_loss: 2.3653\n",
            "Epoch 29/50\n",
            "466/466 [==============================] - 4s 9ms/step - loss: 2.3154 - val_loss: 2.0946\n",
            "Epoch 30/50\n",
            "466/466 [==============================] - 4s 9ms/step - loss: 2.3063 - val_loss: 2.1855\n",
            "Epoch 31/50\n",
            "466/466 [==============================] - 5s 12ms/step - loss: 2.2450 - val_loss: 3.0589\n",
            "Epoch 32/50\n",
            "466/466 [==============================] - 4s 9ms/step - loss: 2.2629 - val_loss: 2.7200\n",
            "Epoch 33/50\n",
            "466/466 [==============================] - 4s 9ms/step - loss: 2.1922 - val_loss: 2.2181\n",
            "Epoch 34/50\n",
            "466/466 [==============================] - 6s 12ms/step - loss: 2.2231 - val_loss: 2.0573\n",
            "Epoch 35/50\n",
            "466/466 [==============================] - 4s 9ms/step - loss: 2.2219 - val_loss: 2.0099\n",
            "Epoch 36/50\n",
            "466/466 [==============================] - 4s 9ms/step - loss: 2.1601 - val_loss: 2.4061\n",
            "Epoch 37/50\n",
            "466/466 [==============================] - 5s 11ms/step - loss: 2.2184 - val_loss: 2.0445\n",
            "Epoch 38/50\n",
            "466/466 [==============================] - 4s 9ms/step - loss: 2.1286 - val_loss: 1.9946\n",
            "Epoch 39/50\n",
            "466/466 [==============================] - 4s 9ms/step - loss: 2.1444 - val_loss: 1.9488\n",
            "Epoch 40/50\n",
            "466/466 [==============================] - 5s 11ms/step - loss: 2.1583 - val_loss: 2.6423\n",
            "Epoch 41/50\n",
            "466/466 [==============================] - 4s 9ms/step - loss: 2.1121 - val_loss: 2.1852\n",
            "Epoch 42/50\n",
            "466/466 [==============================] - 4s 9ms/step - loss: 2.1160 - val_loss: 2.2214\n",
            "Epoch 43/50\n",
            "466/466 [==============================] - 5s 10ms/step - loss: 2.1130 - val_loss: 2.0878\n",
            "Epoch 44/50\n",
            "466/466 [==============================] - 5s 10ms/step - loss: 2.0964 - val_loss: 2.8429\n",
            "Epoch 45/50\n",
            "466/466 [==============================] - 4s 9ms/step - loss: 2.0549 - val_loss: 2.1021\n",
            "Epoch 46/50\n",
            "466/466 [==============================] - 4s 9ms/step - loss: 2.0519 - val_loss: 2.0126\n",
            "Epoch 47/50\n",
            "466/466 [==============================] - 5s 10ms/step - loss: 2.0588 - val_loss: 1.9828\n",
            "Epoch 48/50\n",
            "466/466 [==============================] - 4s 9ms/step - loss: 2.0456 - val_loss: 1.9660\n",
            "Epoch 49/50\n",
            "466/466 [==============================] - 4s 9ms/step - loss: 2.0504 - val_loss: 2.4582\n",
            "Epoch 50/50\n",
            "466/466 [==============================] - 5s 11ms/step - loss: 2.0621 - val_loss: 2.1655\n"
          ]
        }
      ]
    },
    {
      "cell_type": "code",
      "source": [
        "plot_learning_curves(history_LSTM_50_epochs.history[\"loss\"], history_LSTM_50_epochs.history[\"val_loss\"])\n",
        "plt.show()"
      ],
      "metadata": {
        "colab": {
          "base_uri": "https://localhost:8080/",
          "height": 458
        },
        "id": "3Y4cYEu_zacr",
        "outputId": "b46c89d3-978a-4f94-fb0f-c6c22add4746"
      },
      "execution_count": null,
      "outputs": [
        {
          "output_type": "display_data",
          "data": {
            "text/plain": [
              "<Figure size 640x480 with 1 Axes>"
            ],
            "image/png": "[encoded data removed]"
          },
          "metadata": {}
        }
      ]
    },
    {
      "cell_type": "markdown",
      "source": [
        "## Optuna (https://optuna.org/): Is an open source hyperparameter optimization framework to automate hyperparameter search. The default algorithm is based on a Tree-structured Parzen Estimator (TPE). TPE is a Bayesian optimization algorithm that efficiently explores the search space by modeling the relationship between hyperparameters and the objective function."
      ],
      "metadata": {
        "id": "Xt8Aw_LC_rrF"
      }
    },
    {
      "cell_type": "code",
      "source": [
        "!pip install optuna"
      ],
      "metadata": {
        "colab": {
          "base_uri": "https://localhost:8080/"
        },
        "id": "mTi2sgMw2oZc",
        "outputId": "5cf43c3a-7550-47c5-979d-5234bd1d4c8d"
      },
      "execution_count": null,
      "outputs": [
        {
          "output_type": "stream",
          "name": "stdout",
          "text": [
            "Collecting optuna\n",
            "  Downloading optuna-3.2.0-py3-none-any.whl (390 kB)\n",
            "\u001b[2K     \u001b[90m━━━━━━━━━━━━━━━━━━━━━━━━━━━━━━━━━━━━━━\u001b[0m \u001b[32m390.6/390.6 kB\u001b[0m \u001b[31m18.6 MB/s\u001b[0m eta \u001b[36m0:00:00\u001b[0m\n",
            "\u001b[?25hCollecting alembic>=1.5.0 (from optuna)\n",
            "  Downloading alembic-1.11.1-py3-none-any.whl (224 kB)\n",
            "\u001b[2K     \u001b[90m━━━━━━━━━━━━━━━━━━━━━━━━━━━━━━━━━━━━━━\u001b[0m \u001b[32m224.5/224.5 kB\u001b[0m \u001b[31m29.3 MB/s\u001b[0m eta \u001b[36m0:00:00\u001b[0m\n",
            "\u001b[?25hCollecting cmaes>=0.9.1 (from optuna)\n",
            "  Downloading cmaes-0.9.1-py3-none-any.whl (21 kB)\n",
            "Collecting colorlog (from optuna)\n",
            "  Downloading colorlog-6.7.0-py2.py3-none-any.whl (11 kB)\n",
            "Requirement already satisfied: numpy in /usr/local/lib/python3.10/dist-packages (from optuna) (1.22.4)\n",
            "Requirement already satisfied: packaging>=20.0 in /usr/local/lib/python3.10/dist-packages (from optuna) (23.1)\n",
            "Requirement already satisfied: sqlalchemy>=1.3.0 in /usr/local/lib/python3.10/dist-packages (from optuna) (2.0.16)\n",
            "Requirement already satisfied: tqdm in /usr/local/lib/python3.10/dist-packages (from optuna) (4.65.0)\n",
            "Requirement already satisfied: PyYAML in /usr/local/lib/python3.10/dist-packages (from optuna) (6.0)\n",
            "Collecting Mako (from alembic>=1.5.0->optuna)\n",
            "  Downloading Mako-1.2.4-py3-none-any.whl (78 kB)\n",
            "\u001b[2K     \u001b[90m━━━━━━━━━━━━━━━━━━━━━━━━━━━━━━━━━━━━━━━━\u001b[0m \u001b[32m78.7/78.7 kB\u001b[0m \u001b[31m12.4 MB/s\u001b[0m eta \u001b[36m0:00:00\u001b[0m\n",
            "\u001b[?25hRequirement already satisfied: typing-extensions>=4 in /usr/local/lib/python3.10/dist-packages (from alembic>=1.5.0->optuna) (4.6.3)\n",
            "Requirement already satisfied: greenlet!=0.4.17 in /usr/local/lib/python3.10/dist-packages (from sqlalchemy>=1.3.0->optuna) (2.0.2)\n",
            "Requirement already satisfied: MarkupSafe>=0.9.2 in /usr/local/lib/python3.10/dist-packages (from Mako->alembic>=1.5.0->optuna) (2.1.3)\n",
            "Installing collected packages: Mako, colorlog, cmaes, alembic, optuna\n",
            "Successfully installed Mako-1.2.4 alembic-1.11.1 cmaes-0.9.1 colorlog-6.7.0 optuna-3.2.0\n"
          ]
        }
      ]
    },
    {
      "cell_type": "code",
      "source": [
        "#Optuna trials to find the best number of units and dropout for our LSTM model\n",
        "import optuna\n",
        "\n",
        "np.random.seed(42)\n",
        "tf.random.set_seed(42)\n",
        "\n",
        "def objective(trial):\n",
        "    # Define the search space for the number of units and the dropout\n",
        "    n_units = trial.suggest_int('n_units', 10, 100)\n",
        "    dropout_rate = trial.suggest_uniform('dropout_rate', 0.0, 0.4)\n",
        "\n",
        "    # Build the LSTM model with the specified number of units and dropout rate as hyperparameter\n",
        "    model_optuna = keras.models.Sequential([\n",
        "        keras.layers.LSTM(n_units, return_sequences=True, input_shape=[None, 2]),\n",
        "        keras.layers.Dropout(dropout_rate),\n",
        "        keras.layers.TimeDistributed(keras.layers.Dense(1))\n",
        "    ])\n",
        "\n",
        "    # Compile the model\n",
        "    model_optuna.compile(loss='mape', optimizer='adam')\n",
        "\n",
        "    # Train the model and return the metric to optimize (e.g., validation loss)\n",
        "    history_LSTM_optuna = model_optuna.fit(X_train, Y_train, epochs=100,\n",
        "                          validation_data=(X_val, Y_val), callbacks=[es])\n",
        "    val_loss = history_LSTM_optuna.history['val_loss'][-1]\n",
        "    return val_loss\n",
        "\n",
        "# Configure Optuna study: Tree-structured Parzen Estimator (TPE) algorithm\n",
        "study = optuna.create_study(direction='minimize')\n",
        "study.optimize(objective, n_trials=100)\n",
        "\n",
        "# Print the best hyperparameters\n",
        "best_params = study.best_params\n",
        "best_value = study.best_value\n",
        "print(\"Best Hyperparameters:\", best_params)\n",
        "print('Best Objective Value:', best_value)"
      ],
      "metadata": {
        "colab": {
          "base_uri": "https://localhost:8080/"
        },
        "id": "oXBgTicl2uBO",
        "outputId": "0ad26490-d695-42a4-d2ac-87418159e070"
      },
      "execution_count": null,
      "outputs": [
        {
          "output_type": "stream",
          "name": "stderr",
          "text": [
            "[I 2023-06-28 19:32:21,635] A new study created in memory with name: no-name-404ef807-de96-41f4-b4a3-55b330dd1df1\n",
            "<ipython-input-33-f239d9d46070>:9: FutureWarning: suggest_uniform has been deprecated in v3.0.0. This feature will be removed in v6.0.0. See https://github.com/optuna/optuna/releases/tag/v3.0.0. Use suggest_float instead.\n",
            "  dropout_rate = trial.suggest_uniform('dropout_rate', 0.0, 0.4)\n"
          ]
        },
        {
          "output_type": "stream",
          "name": "stdout",
          "text": [
            "Epoch 1/100\n",
            "466/466 [==============================] - 8s 10ms/step - loss: 24.3677 - val_loss: 8.6809\n",
            "Epoch 2/100\n",
            "466/466 [==============================] - 5s 12ms/step - loss: 9.6445 - val_loss: 5.3871\n",
            "Epoch 3/100\n",
            "466/466 [==============================] - 4s 9ms/step - loss: 7.8256 - val_loss: 4.8526\n",
            "Epoch 4/100\n",
            "466/466 [==============================] - 4s 9ms/step - loss: 7.1090 - val_loss: 4.3231\n",
            "Epoch 5/100\n",
            "466/466 [==============================] - 6s 12ms/step - loss: 6.6708 - val_loss: 3.7418\n",
            "Epoch 6/100\n",
            "466/466 [==============================] - 4s 9ms/step - loss: 6.3834 - val_loss: 3.8278\n"
          ]
        },
        {
          "output_type": "stream",
          "name": "stderr",
          "text": [
            "[I 2023-06-28 19:32:54,204] Trial 0 finished with value: 3.8278005123138428 and parameters: {'n_units': 32, 'dropout_rate': 0.058309081699874414}. Best is trial 0 with value: 3.8278005123138428.\n"
          ]
        },
        {
          "output_type": "stream",
          "name": "stdout",
          "text": [
            "Epoch 1/100\n",
            "466/466 [==============================] - 8s 13ms/step - loss: 16.3378 - val_loss: 6.9528\n",
            "Epoch 2/100\n",
            "466/466 [==============================] - 4s 9ms/step - loss: 7.0232 - val_loss: 4.9346\n",
            "Epoch 3/100\n",
            "466/466 [==============================] - 4s 9ms/step - loss: 5.6940 - val_loss: 4.0839\n",
            "Epoch 4/100\n",
            "466/466 [==============================] - 5s 12ms/step - loss: 5.0322 - val_loss: 3.9944\n",
            "Epoch 5/100\n",
            "466/466 [==============================] - 4s 9ms/step - loss: 4.5618 - val_loss: 4.1076\n"
          ]
        },
        {
          "output_type": "stream",
          "name": "stderr",
          "text": [
            "[I 2023-06-28 19:33:21,307] Trial 1 finished with value: 4.107555389404297 and parameters: {'n_units': 65, 'dropout_rate': 0.015369676985375414}. Best is trial 0 with value: 3.8278005123138428.\n"
          ]
        },
        {
          "output_type": "stream",
          "name": "stdout",
          "text": [
            "Epoch 1/100\n",
            "466/466 [==============================] - 8s 13ms/step - loss: 32.4070 - val_loss: 12.6259\n",
            "Epoch 2/100\n",
            "466/466 [==============================] - 4s 9ms/step - loss: 15.1020 - val_loss: 8.5613\n",
            "Epoch 3/100\n",
            "466/466 [==============================] - 4s 9ms/step - loss: 11.6605 - val_loss: 6.2543\n",
            "Epoch 4/100\n",
            "466/466 [==============================] - 5s 11ms/step - loss: 10.5984 - val_loss: 5.4975\n",
            "Epoch 5/100\n",
            "466/466 [==============================] - 4s 9ms/step - loss: 10.0655 - val_loss: 5.5453\n"
          ]
        },
        {
          "output_type": "stream",
          "name": "stderr",
          "text": [
            "[I 2023-06-28 19:34:03,297] Trial 2 finished with value: 5.545263767242432 and parameters: {'n_units': 17, 'dropout_rate': 0.09631667718210486}. Best is trial 0 with value: 3.8278005123138428.\n"
          ]
        },
        {
          "output_type": "stream",
          "name": "stdout",
          "text": [
            "Epoch 1/100\n",
            "466/466 [==============================] - 9s 14ms/step - loss: 17.5109 - val_loss: 6.0258\n",
            "Epoch 2/100\n",
            "466/466 [==============================] - 4s 10ms/step - loss: 8.9509 - val_loss: 4.7606\n",
            "Epoch 3/100\n",
            "466/466 [==============================] - 4s 9ms/step - loss: 8.0489 - val_loss: 4.3437\n",
            "Epoch 4/100\n",
            "466/466 [==============================] - 5s 12ms/step - loss: 7.5511 - val_loss: 3.6840\n",
            "Epoch 5/100\n",
            "466/466 [==============================] - 4s 10ms/step - loss: 7.2583 - val_loss: 3.5255\n",
            "Epoch 6/100\n",
            "466/466 [==============================] - 4s 9ms/step - loss: 7.0762 - val_loss: 3.6161\n"
          ]
        },
        {
          "output_type": "stream",
          "name": "stderr",
          "text": [
            "[I 2023-06-28 19:34:35,672] Trial 3 finished with value: 3.616140365600586 and parameters: {'n_units': 98, 'dropout_rate': 0.24016050069340925}. Best is trial 3 with value: 3.616140365600586.\n"
          ]
        },
        {
          "output_type": "stream",
          "name": "stdout",
          "text": [
            "Epoch 1/100\n",
            "466/466 [==============================] - 9s 10ms/step - loss: 23.7165 - val_loss: 7.8276\n",
            "Epoch 2/100\n",
            "466/466 [==============================] - 4s 9ms/step - loss: 12.8139 - val_loss: 5.9533\n",
            "Epoch 3/100\n",
            "466/466 [==============================] - 5s 12ms/step - loss: 11.9044 - val_loss: 4.7816\n",
            "Epoch 4/100\n",
            "466/466 [==============================] - 4s 9ms/step - loss: 11.4551 - val_loss: 4.8400\n"
          ]
        },
        {
          "output_type": "stream",
          "name": "stderr",
          "text": [
            "[I 2023-06-28 19:34:58,701] Trial 4 finished with value: 4.8400068283081055 and parameters: {'n_units': 52, 'dropout_rate': 0.3663569420659671}. Best is trial 3 with value: 3.616140365600586.\n"
          ]
        },
        {
          "output_type": "stream",
          "name": "stdout",
          "text": [
            "Epoch 1/100\n",
            "466/466 [==============================] - 8s 12ms/step - loss: 21.6442 - val_loss: 7.3038\n",
            "Epoch 2/100\n",
            "466/466 [==============================] - 4s 9ms/step - loss: 11.4557 - val_loss: 5.7289\n",
            "Epoch 3/100\n",
            "466/466 [==============================] - 4s 9ms/step - loss: 10.5420 - val_loss: 5.1517\n",
            "Epoch 4/100\n",
            "466/466 [==============================] - 5s 11ms/step - loss: 9.9707 - val_loss: 4.3857\n",
            "Epoch 5/100\n",
            "466/466 [==============================] - 4s 9ms/step - loss: 9.5996 - val_loss: 5.3352\n"
          ]
        },
        {
          "output_type": "stream",
          "name": "stderr",
          "text": [
            "[I 2023-06-28 19:35:25,837] Trial 5 finished with value: 5.335230350494385 and parameters: {'n_units': 60, 'dropout_rate': 0.2979196744390014}. Best is trial 3 with value: 3.616140365600586.\n"
          ]
        },
        {
          "output_type": "stream",
          "name": "stdout",
          "text": [
            "Epoch 1/100\n",
            "466/466 [==============================] - 9s 14ms/step - loss: 16.2505 - val_loss: 5.4933\n",
            "Epoch 2/100\n",
            "466/466 [==============================] - 9s 20ms/step - loss: 7.4252 - val_loss: 4.4841\n",
            "Epoch 3/100\n",
            "466/466 [==============================] - 8s 17ms/step - loss: 6.3126 - val_loss: 3.7246\n",
            "Epoch 4/100\n",
            "466/466 [==============================] - 4s 9ms/step - loss: 5.8542 - val_loss: 3.8758\n"
          ]
        },
        {
          "output_type": "stream",
          "name": "stderr",
          "text": [
            "[I 2023-06-28 19:36:12,949] Trial 6 finished with value: 3.8757550716400146 and parameters: {'n_units': 90, 'dropout_rate': 0.09539022390773583}. Best is trial 3 with value: 3.616140365600586.\n"
          ]
        },
        {
          "output_type": "stream",
          "name": "stdout",
          "text": [
            "Epoch 1/100\n",
            "466/466 [==============================] - 9s 12ms/step - loss: 22.5084 - val_loss: 7.1167\n",
            "Epoch 2/100\n",
            "466/466 [==============================] - 4s 9ms/step - loss: 12.3674 - val_loss: 6.0712\n",
            "Epoch 3/100\n",
            "466/466 [==============================] - 5s 11ms/step - loss: 11.4777 - val_loss: 4.7285\n",
            "Epoch 4/100\n",
            "466/466 [==============================] - 4s 10ms/step - loss: 11.0768 - val_loss: 4.4946\n",
            "Epoch 5/100\n",
            "466/466 [==============================] - 4s 10ms/step - loss: 10.7904 - val_loss: 4.7152\n"
          ]
        },
        {
          "output_type": "stream",
          "name": "stderr",
          "text": [
            "[I 2023-06-28 19:36:40,444] Trial 7 finished with value: 4.715219974517822 and parameters: {'n_units': 62, 'dropout_rate': 0.3777318639781096}. Best is trial 3 with value: 3.616140365600586.\n"
          ]
        },
        {
          "output_type": "stream",
          "name": "stdout",
          "text": [
            "Epoch 1/100\n",
            "466/466 [==============================] - 8s 12ms/step - loss: 21.0787 - val_loss: 7.4752\n",
            "Epoch 2/100\n",
            "466/466 [==============================] - 4s 9ms/step - loss: 9.9908 - val_loss: 6.2222\n",
            "Epoch 3/100\n",
            "466/466 [==============================] - 5s 10ms/step - loss: 9.0132 - val_loss: 5.4546\n",
            "Epoch 4/100\n",
            "466/466 [==============================] - 5s 10ms/step - loss: 8.5252 - val_loss: 4.5844\n",
            "Epoch 5/100\n",
            "466/466 [==============================] - 4s 9ms/step - loss: 8.1932 - val_loss: 3.7559\n",
            "Epoch 6/100\n",
            "466/466 [==============================] - 5s 10ms/step - loss: 7.9758 - val_loss: 4.5148\n"
          ]
        },
        {
          "output_type": "stream",
          "name": "stderr",
          "text": [
            "[I 2023-06-28 19:37:11,662] Trial 8 finished with value: 4.514807224273682 and parameters: {'n_units': 51, 'dropout_rate': 0.180988156647594}. Best is trial 3 with value: 3.616140365600586.\n"
          ]
        },
        {
          "output_type": "stream",
          "name": "stdout",
          "text": [
            "Epoch 1/100\n",
            "466/466 [==============================] - 8s 10ms/step - loss: 21.3701 - val_loss: 6.4499\n",
            "Epoch 2/100\n",
            "466/466 [==============================] - 4s 9ms/step - loss: 11.3683 - val_loss: 5.2068\n",
            "Epoch 3/100\n",
            "466/466 [==============================] - 6s 12ms/step - loss: 10.6125 - val_loss: 5.1519\n",
            "Epoch 4/100\n",
            "466/466 [==============================] - 4s 9ms/step - loss: 10.1106 - val_loss: 4.3091\n",
            "Epoch 5/100\n",
            "466/466 [==============================] - 4s 9ms/step - loss: 9.7614 - val_loss: 5.0264\n"
          ]
        },
        {
          "output_type": "stream",
          "name": "stderr",
          "text": [
            "[I 2023-06-28 19:37:50,643] Trial 9 finished with value: 5.026352405548096 and parameters: {'n_units': 67, 'dropout_rate': 0.33267292790629976}. Best is trial 3 with value: 3.616140365600586.\n"
          ]
        },
        {
          "output_type": "stream",
          "name": "stdout",
          "text": [
            "Epoch 1/100\n",
            "466/466 [==============================] - 8s 11ms/step - loss: 17.8600 - val_loss: 5.8244\n",
            "Epoch 2/100\n",
            "466/466 [==============================] - 5s 12ms/step - loss: 9.0906 - val_loss: 5.2466\n",
            "Epoch 3/100\n",
            "466/466 [==============================] - 4s 10ms/step - loss: 8.0689 - val_loss: 4.9593\n",
            "Epoch 4/100\n",
            "466/466 [==============================] - 5s 10ms/step - loss: 7.7107 - val_loss: 3.9938\n",
            "Epoch 5/100\n",
            "466/466 [==============================] - 5s 12ms/step - loss: 7.2860 - val_loss: 3.2893\n",
            "Epoch 6/100\n",
            "466/466 [==============================] - 4s 9ms/step - loss: 7.0779 - val_loss: 3.4822\n"
          ]
        },
        {
          "output_type": "stream",
          "name": "stderr",
          "text": [
            "[I 2023-06-28 19:38:39,753] Trial 10 finished with value: 3.4822003841400146 and parameters: {'n_units': 100, 'dropout_rate': 0.24921456900630065}. Best is trial 10 with value: 3.4822003841400146.\n"
          ]
        },
        {
          "output_type": "stream",
          "name": "stdout",
          "text": [
            "Epoch 1/100\n",
            "466/466 [==============================] - 8s 13ms/step - loss: 18.8421 - val_loss: 7.7037\n",
            "Epoch 2/100\n",
            "466/466 [==============================] - 4s 9ms/step - loss: 9.2634 - val_loss: 5.3243\n",
            "Epoch 3/100\n",
            "466/466 [==============================] - 4s 9ms/step - loss: 8.3076 - val_loss: 4.3771\n",
            "Epoch 4/100\n",
            "466/466 [==============================] - 5s 12ms/step - loss: 7.8207 - val_loss: 4.3346\n",
            "Epoch 5/100\n",
            "466/466 [==============================] - 4s 9ms/step - loss: 7.4423 - val_loss: 3.3906\n",
            "Epoch 6/100\n",
            "466/466 [==============================] - 4s 9ms/step - loss: 7.2170 - val_loss: 3.3271\n",
            "Epoch 7/100\n",
            "466/466 [==============================] - 6s 12ms/step - loss: 7.0433 - val_loss: 3.3521\n"
          ]
        },
        {
          "output_type": "stream",
          "name": "stderr",
          "text": [
            "[I 2023-06-28 19:39:16,753] Trial 11 finished with value: 3.3521134853363037 and parameters: {'n_units': 98, 'dropout_rate': 0.25946671217897116}. Best is trial 11 with value: 3.3521134853363037.\n"
          ]
        },
        {
          "output_type": "stream",
          "name": "stdout",
          "text": [
            "Epoch 1/100\n",
            "466/466 [==============================] - 10s 14ms/step - loss: 19.6266 - val_loss: 7.0491\n",
            "Epoch 2/100\n",
            "466/466 [==============================] - 4s 9ms/step - loss: 9.6911 - val_loss: 5.0684\n",
            "Epoch 3/100\n",
            "466/466 [==============================] - 4s 9ms/step - loss: 8.7738 - val_loss: 5.3994\n"
          ]
        },
        {
          "output_type": "stream",
          "name": "stderr",
          "text": [
            "[I 2023-06-28 19:39:40,990] Trial 12 finished with value: 5.399361610412598 and parameters: {'n_units': 83, 'dropout_rate': 0.2567087357868055}. Best is trial 11 with value: 3.3521134853363037.\n"
          ]
        },
        {
          "output_type": "stream",
          "name": "stdout",
          "text": [
            "Epoch 1/100\n",
            "466/466 [==============================] - 8s 11ms/step - loss: 17.9662 - val_loss: 6.4598\n",
            "Epoch 2/100\n",
            "466/466 [==============================] - 4s 9ms/step - loss: 8.8493 - val_loss: 5.0487\n",
            "Epoch 3/100\n",
            "466/466 [==============================] - 5s 12ms/step - loss: 7.9640 - val_loss: 5.5906\n"
          ]
        },
        {
          "output_type": "stream",
          "name": "stderr",
          "text": [
            "[I 2023-06-28 19:39:59,417] Trial 13 finished with value: 5.590575695037842 and parameters: {'n_units': 82, 'dropout_rate': 0.18930354695020593}. Best is trial 11 with value: 3.3521134853363037.\n"
          ]
        },
        {
          "output_type": "stream",
          "name": "stdout",
          "text": [
            "Epoch 1/100\n",
            "466/466 [==============================] - 8s 11ms/step - loss: 18.4272 - val_loss: 5.9963\n",
            "Epoch 2/100\n",
            "466/466 [==============================] - 5s 12ms/step - loss: 9.1747 - val_loss: 4.5382\n",
            "Epoch 3/100\n",
            "466/466 [==============================] - 5s 10ms/step - loss: 8.2369 - val_loss: 4.8915\n"
          ]
        },
        {
          "output_type": "stream",
          "name": "stderr",
          "text": [
            "[I 2023-06-28 19:40:17,822] Trial 14 finished with value: 4.891514778137207 and parameters: {'n_units': 99, 'dropout_rate': 0.26771925046313133}. Best is trial 11 with value: 3.3521134853363037.\n"
          ]
        },
        {
          "output_type": "stream",
          "name": "stdout",
          "text": [
            "Epoch 1/100\n",
            "466/466 [==============================] - 8s 12ms/step - loss: 18.3461 - val_loss: 5.8970\n",
            "Epoch 2/100\n",
            "466/466 [==============================] - 5s 11ms/step - loss: 9.1509 - val_loss: 5.0713\n",
            "Epoch 3/100\n",
            "466/466 [==============================] - 4s 9ms/step - loss: 8.3180 - val_loss: 4.3943\n",
            "Epoch 4/100\n",
            "466/466 [==============================] - 5s 11ms/step - loss: 7.8107 - val_loss: 4.5098\n"
          ]
        },
        {
          "output_type": "stream",
          "name": "stderr",
          "text": [
            "[I 2023-06-28 19:40:40,314] Trial 15 finished with value: 4.509838581085205 and parameters: {'n_units': 78, 'dropout_rate': 0.21435304024093615}. Best is trial 11 with value: 3.3521134853363037.\n"
          ]
        },
        {
          "output_type": "stream",
          "name": "stdout",
          "text": [
            "Epoch 1/100\n",
            "466/466 [==============================] - 8s 11ms/step - loss: 18.8513 - val_loss: 6.6700\n",
            "Epoch 2/100\n",
            "466/466 [==============================] - 6s 13ms/step - loss: 9.6144 - val_loss: 5.3453\n",
            "Epoch 3/100\n",
            "466/466 [==============================] - 5s 11ms/step - loss: 8.6652 - val_loss: 4.1286\n",
            "Epoch 4/100\n",
            "466/466 [==============================] - 5s 10ms/step - loss: 8.2766 - val_loss: 4.2673\n"
          ]
        },
        {
          "output_type": "stream",
          "name": "stderr",
          "text": [
            "[I 2023-06-28 19:41:04,797] Trial 16 finished with value: 4.267319679260254 and parameters: {'n_units': 100, 'dropout_rate': 0.3050834490404263}. Best is trial 11 with value: 3.3521134853363037.\n"
          ]
        },
        {
          "output_type": "stream",
          "name": "stdout",
          "text": [
            "Epoch 1/100\n",
            "466/466 [==============================] - 8s 11ms/step - loss: 24.5537 - val_loss: 8.0992\n",
            "Epoch 2/100\n",
            "466/466 [==============================] - 6s 13ms/step - loss: 11.3560 - val_loss: 6.2300\n",
            "Epoch 3/100\n",
            "466/466 [==============================] - 4s 9ms/step - loss: 9.9246 - val_loss: 5.2184\n",
            "Epoch 4/100\n",
            "466/466 [==============================] - 5s 10ms/step - loss: 9.3505 - val_loss: 5.2646\n"
          ]
        },
        {
          "output_type": "stream",
          "name": "stderr",
          "text": [
            "[I 2023-06-28 19:41:46,662] Trial 17 finished with value: 5.264561653137207 and parameters: {'n_units': 38, 'dropout_rate': 0.1595040897902232}. Best is trial 11 with value: 3.3521134853363037.\n"
          ]
        },
        {
          "output_type": "stream",
          "name": "stdout",
          "text": [
            "Epoch 1/100\n",
            "466/466 [==============================] - 9s 14ms/step - loss: 20.7606 - val_loss: 6.2427\n",
            "Epoch 2/100\n",
            "466/466 [==============================] - 5s 10ms/step - loss: 9.7607 - val_loss: 5.3090\n",
            "Epoch 3/100\n",
            "466/466 [==============================] - 4s 10ms/step - loss: 8.8488 - val_loss: 5.1673\n",
            "Epoch 4/100\n",
            "466/466 [==============================] - 6s 12ms/step - loss: 8.2590 - val_loss: 4.0816\n",
            "Epoch 5/100\n",
            "466/466 [==============================] - 5s 10ms/step - loss: 7.8705 - val_loss: 4.1550\n"
          ]
        },
        {
          "output_type": "stream",
          "name": "stderr",
          "text": [
            "[I 2023-06-28 19:42:34,884] Trial 18 finished with value: 4.1549973487854 and parameters: {'n_units': 73, 'dropout_rate': 0.21678795601857243}. Best is trial 11 with value: 3.3521134853363037.\n"
          ]
        },
        {
          "output_type": "stream",
          "name": "stdout",
          "text": [
            "Epoch 1/100\n",
            "466/466 [==============================] - 11s 16ms/step - loss: 19.4528 - val_loss: 6.4431\n",
            "Epoch 2/100\n",
            "466/466 [==============================] - 4s 10ms/step - loss: 10.1102 - val_loss: 5.6327\n",
            "Epoch 3/100\n",
            "466/466 [==============================] - 5s 11ms/step - loss: 9.2501 - val_loss: 5.0558\n",
            "Epoch 4/100\n",
            "466/466 [==============================] - 6s 12ms/step - loss: 8.7357 - val_loss: 5.2290\n"
          ]
        },
        {
          "output_type": "stream",
          "name": "stderr",
          "text": [
            "[I 2023-06-28 19:43:15,962] Trial 19 finished with value: 5.228975296020508 and parameters: {'n_units': 90, 'dropout_rate': 0.3008554220507559}. Best is trial 11 with value: 3.3521134853363037.\n"
          ]
        },
        {
          "output_type": "stream",
          "name": "stdout",
          "text": [
            "Epoch 1/100\n",
            "466/466 [==============================] - 9s 12ms/step - loss: 18.4512 - val_loss: 6.2166\n",
            "Epoch 2/100\n",
            "466/466 [==============================] - 5s 10ms/step - loss: 8.4405 - val_loss: 4.8788\n",
            "Epoch 3/100\n",
            "466/466 [==============================] - 5s 11ms/step - loss: 7.4133 - val_loss: 4.7035\n",
            "Epoch 4/100\n",
            "466/466 [==============================] - 5s 11ms/step - loss: 6.8709 - val_loss: 3.7339\n",
            "Epoch 5/100\n",
            "466/466 [==============================] - 5s 10ms/step - loss: 6.4800 - val_loss: 3.4339\n",
            "Epoch 6/100\n",
            "466/466 [==============================] - 5s 11ms/step - loss: 6.2186 - val_loss: 3.5020\n"
          ]
        },
        {
          "output_type": "stream",
          "name": "stderr",
          "text": [
            "[I 2023-06-28 19:44:06,590] Trial 20 finished with value: 3.501967668533325 and parameters: {'n_units': 89, 'dropout_rate': 0.15903650861851387}. Best is trial 11 with value: 3.3521134853363037.\n"
          ]
        },
        {
          "output_type": "stream",
          "name": "stdout",
          "text": [
            "Epoch 1/100\n",
            "466/466 [==============================] - 7s 10ms/step - loss: 16.6893 - val_loss: 6.3298\n",
            "Epoch 2/100\n",
            "466/466 [==============================] - 5s 10ms/step - loss: 8.1526 - val_loss: 5.1088\n",
            "Epoch 3/100\n",
            "466/466 [==============================] - 5s 11ms/step - loss: 7.2758 - val_loss: 4.2850\n",
            "Epoch 4/100\n",
            "466/466 [==============================] - 4s 9ms/step - loss: 6.8352 - val_loss: 3.7896\n",
            "Epoch 5/100\n",
            "466/466 [==============================] - 5s 10ms/step - loss: 6.4585 - val_loss: 3.8741\n"
          ]
        },
        {
          "output_type": "stream",
          "name": "stderr",
          "text": [
            "[I 2023-06-28 19:44:33,202] Trial 21 finished with value: 3.8740522861480713 and parameters: {'n_units': 89, 'dropout_rate': 0.15049118398351663}. Best is trial 11 with value: 3.3521134853363037.\n"
          ]
        },
        {
          "output_type": "stream",
          "name": "stdout",
          "text": [
            "Epoch 1/100\n",
            "466/466 [==============================] - 8s 11ms/step - loss: 18.2577 - val_loss: 6.5966\n",
            "Epoch 2/100\n",
            "466/466 [==============================] - 5s 10ms/step - loss: 9.1174 - val_loss: 4.9248\n",
            "Epoch 3/100\n",
            "466/466 [==============================] - 6s 12ms/step - loss: 8.1990 - val_loss: 4.2275\n",
            "Epoch 4/100\n",
            "466/466 [==============================] - 4s 9ms/step - loss: 7.7928 - val_loss: 3.9176\n",
            "Epoch 5/100\n",
            "466/466 [==============================] - 5s 10ms/step - loss: 7.4083 - val_loss: 3.6964\n",
            "Epoch 6/100\n",
            "466/466 [==============================] - 5s 12ms/step - loss: 7.1488 - val_loss: 3.4200\n",
            "Epoch 7/100\n",
            "466/466 [==============================] - 4s 9ms/step - loss: 7.0429 - val_loss: 3.1462\n",
            "Epoch 8/100\n",
            "466/466 [==============================] - 4s 10ms/step - loss: 6.8708 - val_loss: 3.1920\n"
          ]
        },
        {
          "output_type": "stream",
          "name": "stderr",
          "text": [
            "[I 2023-06-28 19:45:14,610] Trial 22 finished with value: 3.1919944286346436 and parameters: {'n_units': 91, 'dropout_rate': 0.241076671120839}. Best is trial 22 with value: 3.1919944286346436.\n"
          ]
        },
        {
          "output_type": "stream",
          "name": "stdout",
          "text": [
            "Epoch 1/100\n",
            "466/466 [==============================] - 8s 10ms/step - loss: 18.3246 - val_loss: 5.8039\n",
            "Epoch 2/100\n",
            "466/466 [==============================] - 4s 9ms/step - loss: 8.9957 - val_loss: 5.2543\n",
            "Epoch 3/100\n",
            "466/466 [==============================] - 5s 12ms/step - loss: 8.1163 - val_loss: 4.5092\n",
            "Epoch 4/100\n",
            "466/466 [==============================] - 4s 9ms/step - loss: 7.6715 - val_loss: 4.7109\n"
          ]
        },
        {
          "output_type": "stream",
          "name": "stderr",
          "text": [
            "[I 2023-06-28 19:45:37,037] Trial 23 finished with value: 4.710912227630615 and parameters: {'n_units': 95, 'dropout_rate': 0.24946463477806732}. Best is trial 22 with value: 3.1919944286346436.\n"
          ]
        },
        {
          "output_type": "stream",
          "name": "stdout",
          "text": [
            "Epoch 1/100\n",
            "466/466 [==============================] - 8s 12ms/step - loss: 21.4510 - val_loss: 7.7078\n",
            "Epoch 2/100\n",
            "466/466 [==============================] - 4s 10ms/step - loss: 10.7240 - val_loss: 5.9759\n",
            "Epoch 3/100\n",
            "466/466 [==============================] - 4s 9ms/step - loss: 9.6748 - val_loss: 4.8930\n",
            "Epoch 4/100\n",
            "466/466 [==============================] - 5s 11ms/step - loss: 9.1179 - val_loss: 4.6497\n",
            "Epoch 5/100\n",
            "466/466 [==============================] - 5s 10ms/step - loss: 8.7826 - val_loss: 4.0816\n",
            "Epoch 6/100\n",
            "466/466 [==============================] - 4s 9ms/step - loss: 8.5910 - val_loss: 3.8871\n",
            "Epoch 7/100\n",
            "466/466 [==============================] - 5s 11ms/step - loss: 8.3942 - val_loss: 3.5764\n",
            "Epoch 8/100\n",
            "466/466 [==============================] - 5s 10ms/step - loss: 8.2467 - val_loss: 3.4883\n",
            "Epoch 9/100\n",
            "466/466 [==============================] - 6s 12ms/step - loss: 8.0938 - val_loss: 3.8714\n"
          ]
        },
        {
          "output_type": "stream",
          "name": "stderr",
          "text": [
            "[I 2023-06-28 19:46:23,762] Trial 24 finished with value: 3.8713772296905518 and parameters: {'n_units': 74, 'dropout_rate': 0.2794366988086325}. Best is trial 22 with value: 3.1919944286346436.\n"
          ]
        },
        {
          "output_type": "stream",
          "name": "stdout",
          "text": [
            "Epoch 1/100\n",
            "466/466 [==============================] - 9s 10ms/step - loss: 19.0000 - val_loss: 5.9205\n",
            "Epoch 2/100\n",
            "466/466 [==============================] - 4s 9ms/step - loss: 9.2011 - val_loss: 4.8129\n",
            "Epoch 3/100\n",
            "466/466 [==============================] - 6s 12ms/step - loss: 8.2456 - val_loss: 4.5878\n",
            "Epoch 4/100\n",
            "466/466 [==============================] - 4s 9ms/step - loss: 7.7591 - val_loss: 4.2535\n",
            "Epoch 5/100\n",
            "466/466 [==============================] - 4s 9ms/step - loss: 7.4017 - val_loss: 3.9450\n",
            "Epoch 6/100\n",
            "466/466 [==============================] - 5s 12ms/step - loss: 7.2064 - val_loss: 3.2732\n",
            "Epoch 7/100\n",
            "466/466 [==============================] - 4s 9ms/step - loss: 7.0309 - val_loss: 3.4802\n"
          ]
        },
        {
          "output_type": "stream",
          "name": "stderr",
          "text": [
            "[I 2023-06-28 19:47:01,512] Trial 25 finished with value: 3.4802496433258057 and parameters: {'n_units': 84, 'dropout_rate': 0.21833421678443032}. Best is trial 22 with value: 3.1919944286346436.\n"
          ]
        },
        {
          "output_type": "stream",
          "name": "stdout",
          "text": [
            "Epoch 1/100\n",
            "466/466 [==============================] - 8s 13ms/step - loss: 18.5126 - val_loss: 6.2684\n",
            "Epoch 2/100\n",
            "466/466 [==============================] - 4s 10ms/step - loss: 9.5954 - val_loss: 5.3355\n",
            "Epoch 3/100\n",
            "466/466 [==============================] - 4s 9ms/step - loss: 8.6321 - val_loss: 4.5931\n",
            "Epoch 4/100\n",
            "466/466 [==============================] - 6s 12ms/step - loss: 8.1696 - val_loss: 4.0883\n",
            "Epoch 5/100\n",
            "466/466 [==============================] - 4s 9ms/step - loss: 7.7681 - val_loss: 4.4734\n"
          ]
        },
        {
          "output_type": "stream",
          "name": "stderr",
          "text": [
            "[I 2023-06-28 19:47:28,719] Trial 26 finished with value: 4.47335147857666 and parameters: {'n_units': 81, 'dropout_rate': 0.2346970330751359}. Best is trial 22 with value: 3.1919944286346436.\n"
          ]
        },
        {
          "output_type": "stream",
          "name": "stdout",
          "text": [
            "Epoch 1/100\n",
            "466/466 [==============================] - 8s 12ms/step - loss: 18.4251 - val_loss: 6.8544\n",
            "Epoch 2/100\n",
            "466/466 [==============================] - 5s 10ms/step - loss: 9.3907 - val_loss: 5.3516\n",
            "Epoch 3/100\n",
            "466/466 [==============================] - 4s 9ms/step - loss: 8.5294 - val_loss: 4.7822\n",
            "Epoch 4/100\n",
            "466/466 [==============================] - 5s 11ms/step - loss: 7.9544 - val_loss: 3.7457\n",
            "Epoch 5/100\n",
            "466/466 [==============================] - 5s 10ms/step - loss: 7.6695 - val_loss: 3.8195\n"
          ]
        },
        {
          "output_type": "stream",
          "name": "stderr",
          "text": [
            "[I 2023-06-28 19:47:55,696] Trial 27 finished with value: 3.8195276260375977 and parameters: {'n_units': 72, 'dropout_rate': 0.20979210335155044}. Best is trial 22 with value: 3.1919944286346436.\n"
          ]
        },
        {
          "output_type": "stream",
          "name": "stdout",
          "text": [
            "Epoch 1/100\n",
            "466/466 [==============================] - 7s 11ms/step - loss: 27.9865 - val_loss: 7.3506\n",
            "Epoch 2/100\n",
            "466/466 [==============================] - 5s 11ms/step - loss: 13.3606 - val_loss: 6.0735\n",
            "Epoch 3/100\n",
            "466/466 [==============================] - 4s 9ms/step - loss: 12.3282 - val_loss: 5.3710\n",
            "Epoch 4/100\n",
            "466/466 [==============================] - 4s 9ms/step - loss: 11.7842 - val_loss: 4.9760\n",
            "Epoch 5/100\n",
            "466/466 [==============================] - 5s 11ms/step - loss: 11.4729 - val_loss: 4.9662\n",
            "Epoch 6/100\n",
            "466/466 [==============================] - 4s 9ms/step - loss: 11.2480 - val_loss: 4.8369\n",
            "Epoch 7/100\n",
            "466/466 [==============================] - 4s 9ms/step - loss: 11.0691 - val_loss: 4.6706\n",
            "Epoch 8/100\n",
            "466/466 [==============================] - 5s 11ms/step - loss: 10.9384 - val_loss: 3.8246\n",
            "Epoch 9/100\n",
            "466/466 [==============================] - 4s 9ms/step - loss: 10.7969 - val_loss: 4.2353\n"
          ]
        },
        {
          "output_type": "stream",
          "name": "stderr",
          "text": [
            "[I 2023-06-28 19:48:40,284] Trial 28 finished with value: 4.235311985015869 and parameters: {'n_units': 44, 'dropout_rate': 0.3298603374405167}. Best is trial 22 with value: 3.1919944286346436.\n"
          ]
        },
        {
          "output_type": "stream",
          "name": "stdout",
          "text": [
            "Epoch 1/100\n",
            "466/466 [==============================] - 8s 12ms/step - loss: 37.5124 - val_loss: 13.1846\n",
            "Epoch 2/100\n",
            "466/466 [==============================] - 4s 9ms/step - loss: 18.1374 - val_loss: 8.2878\n",
            "Epoch 3/100\n",
            "466/466 [==============================] - 4s 9ms/step - loss: 15.8188 - val_loss: 7.2667\n",
            "Epoch 4/100\n",
            "466/466 [==============================] - 5s 11ms/step - loss: 14.9658 - val_loss: 6.4023\n",
            "Epoch 5/100\n",
            "466/466 [==============================] - 4s 9ms/step - loss: 14.6185 - val_loss: 6.4903\n"
          ]
        },
        {
          "output_type": "stream",
          "name": "stderr",
          "text": [
            "[I 2023-06-28 19:49:06,528] Trial 29 finished with value: 6.490286827087402 and parameters: {'n_units': 19, 'dropout_rate': 0.2729024029502266}. Best is trial 22 with value: 3.1919944286346436.\n"
          ]
        },
        {
          "output_type": "stream",
          "name": "stdout",
          "text": [
            "Epoch 1/100\n",
            "466/466 [==============================] - 9s 12ms/step - loss: 18.7458 - val_loss: 5.7486\n",
            "Epoch 2/100\n",
            "466/466 [==============================] - 5s 10ms/step - loss: 9.1260 - val_loss: 4.9064\n",
            "Epoch 3/100\n",
            "466/466 [==============================] - 4s 9ms/step - loss: 8.2614 - val_loss: 4.8350\n",
            "Epoch 4/100\n",
            "466/466 [==============================] - 5s 12ms/step - loss: 7.7550 - val_loss: 3.9044\n",
            "Epoch 5/100\n",
            "466/466 [==============================] - 4s 10ms/step - loss: 7.3371 - val_loss: 3.6409\n",
            "Epoch 6/100\n",
            "466/466 [==============================] - 4s 9ms/step - loss: 7.0787 - val_loss: 3.3351\n",
            "Epoch 7/100\n",
            "466/466 [==============================] - 5s 11ms/step - loss: 6.9486 - val_loss: 3.2762\n",
            "Epoch 8/100\n",
            "466/466 [==============================] - 6s 12ms/step - loss: 6.7550 - val_loss: 3.1396\n",
            "Epoch 9/100\n",
            "466/466 [==============================] - 4s 9ms/step - loss: 6.6039 - val_loss: 2.8280\n",
            "Epoch 10/100\n",
            "466/466 [==============================] - 6s 12ms/step - loss: 6.5245 - val_loss: 2.4992\n",
            "Epoch 11/100\n",
            "466/466 [==============================] - 4s 9ms/step - loss: 6.4391 - val_loss: 2.8309\n"
          ]
        },
        {
          "output_type": "stream",
          "name": "stderr",
          "text": [
            "[I 2023-06-28 19:50:04,280] Trial 30 finished with value: 2.8309476375579834 and parameters: {'n_units': 85, 'dropout_rate': 0.22534758805513347}. Best is trial 30 with value: 2.8309476375579834.\n"
          ]
        },
        {
          "output_type": "stream",
          "name": "stdout",
          "text": [
            "Epoch 1/100\n",
            "466/466 [==============================] - 8s 13ms/step - loss: 18.9593 - val_loss: 6.7916\n",
            "Epoch 2/100\n",
            "466/466 [==============================] - 4s 10ms/step - loss: 9.0687 - val_loss: 4.8062\n",
            "Epoch 3/100\n",
            "466/466 [==============================] - 4s 9ms/step - loss: 8.1482 - val_loss: 4.4984\n",
            "Epoch 4/100\n",
            "466/466 [==============================] - 6s 12ms/step - loss: 7.7008 - val_loss: 4.0859\n",
            "Epoch 5/100\n",
            "466/466 [==============================] - 4s 9ms/step - loss: 7.3344 - val_loss: 3.8419\n",
            "Epoch 6/100\n",
            "466/466 [==============================] - 4s 9ms/step - loss: 7.1103 - val_loss: 4.6232\n"
          ]
        },
        {
          "output_type": "stream",
          "name": "stderr",
          "text": [
            "[I 2023-06-28 19:50:35,727] Trial 31 finished with value: 4.623234272003174 and parameters: {'n_units': 86, 'dropout_rate': 0.22642890773997454}. Best is trial 30 with value: 2.8309476375579834.\n"
          ]
        },
        {
          "output_type": "stream",
          "name": "stdout",
          "text": [
            "Epoch 1/100\n",
            "466/466 [==============================] - 8s 12ms/step - loss: 18.4960 - val_loss: 5.7792\n",
            "Epoch 2/100\n",
            "466/466 [==============================] - 4s 9ms/step - loss: 8.4617 - val_loss: 5.8427\n"
          ]
        },
        {
          "output_type": "stream",
          "name": "stderr",
          "text": [
            "[I 2023-06-28 19:50:48,724] Trial 32 finished with value: 5.842678070068359 and parameters: {'n_units': 93, 'dropout_rate': 0.18547061168675222}. Best is trial 30 with value: 2.8309476375579834.\n"
          ]
        },
        {
          "output_type": "stream",
          "name": "stdout",
          "text": [
            "Epoch 1/100\n",
            "466/466 [==============================] - 8s 12ms/step - loss: 19.1972 - val_loss: 7.0235\n",
            "Epoch 2/100\n",
            "466/466 [==============================] - 5s 10ms/step - loss: 9.2883 - val_loss: 5.2450\n",
            "Epoch 3/100\n",
            "466/466 [==============================] - 4s 9ms/step - loss: 8.3782 - val_loss: 4.3624\n",
            "Epoch 4/100\n",
            "466/466 [==============================] - 5s 11ms/step - loss: 7.8845 - val_loss: 3.8538\n",
            "Epoch 5/100\n",
            "466/466 [==============================] - 5s 10ms/step - loss: 7.5262 - val_loss: 3.5450\n",
            "Epoch 6/100\n",
            "466/466 [==============================] - 4s 9ms/step - loss: 7.2698 - val_loss: 3.4682\n",
            "Epoch 7/100\n",
            "466/466 [==============================] - 5s 11ms/step - loss: 7.1263 - val_loss: 3.0398\n",
            "Epoch 8/100\n",
            "466/466 [==============================] - 5s 10ms/step - loss: 6.9952 - val_loss: 3.0688\n"
          ]
        },
        {
          "output_type": "stream",
          "name": "stderr",
          "text": [
            "[I 2023-06-28 19:51:39,676] Trial 33 finished with value: 3.068833351135254 and parameters: {'n_units': 77, 'dropout_rate': 0.22581219439730196}. Best is trial 30 with value: 2.8309476375579834.\n"
          ]
        },
        {
          "output_type": "stream",
          "name": "stdout",
          "text": [
            "Epoch 1/100\n",
            "466/466 [==============================] - 7s 11ms/step - loss: 20.0165 - val_loss: 6.1679\n",
            "Epoch 2/100\n",
            "466/466 [==============================] - 5s 11ms/step - loss: 9.7546 - val_loss: 5.7486\n",
            "Epoch 3/100\n",
            "466/466 [==============================] - 4s 9ms/step - loss: 8.9412 - val_loss: 4.7233\n",
            "Epoch 4/100\n",
            "466/466 [==============================] - 5s 10ms/step - loss: 8.3847 - val_loss: 4.0839\n",
            "Epoch 5/100\n",
            "466/466 [==============================] - 5s 11ms/step - loss: 8.1168 - val_loss: 3.9326\n",
            "Epoch 6/100\n",
            "466/466 [==============================] - 4s 9ms/step - loss: 7.9001 - val_loss: 4.1774\n"
          ]
        },
        {
          "output_type": "stream",
          "name": "stderr",
          "text": [
            "[I 2023-06-28 19:52:11,264] Trial 34 finished with value: 4.177361488342285 and parameters: {'n_units': 78, 'dropout_rate': 0.2516906854106154}. Best is trial 30 with value: 2.8309476375579834.\n"
          ]
        },
        {
          "output_type": "stream",
          "name": "stdout",
          "text": [
            "Epoch 1/100\n",
            "466/466 [==============================] - 9s 13ms/step - loss: 20.2975 - val_loss: 7.2086\n",
            "Epoch 2/100\n",
            "466/466 [==============================] - 4s 9ms/step - loss: 10.2033 - val_loss: 5.5718\n",
            "Epoch 3/100\n",
            "466/466 [==============================] - 4s 9ms/step - loss: 9.1767 - val_loss: 4.6603\n",
            "Epoch 4/100\n",
            "466/466 [==============================] - 6s 12ms/step - loss: 8.6821 - val_loss: 3.9739\n",
            "Epoch 5/100\n",
            "466/466 [==============================] - 4s 9ms/step - loss: 8.2531 - val_loss: 3.8811\n",
            "Epoch 6/100\n",
            "466/466 [==============================] - 4s 9ms/step - loss: 8.0353 - val_loss: 4.1367\n"
          ]
        },
        {
          "output_type": "stream",
          "name": "stderr",
          "text": [
            "[I 2023-06-28 19:52:54,871] Trial 35 finished with value: 4.136663913726807 and parameters: {'n_units': 68, 'dropout_rate': 0.23571291522553903}. Best is trial 30 with value: 2.8309476375579834.\n"
          ]
        },
        {
          "output_type": "stream",
          "name": "stdout",
          "text": [
            "Epoch 1/100\n",
            "466/466 [==============================] - 8s 12ms/step - loss: 17.4510 - val_loss: 6.1411\n",
            "Epoch 2/100\n",
            "466/466 [==============================] - 6s 12ms/step - loss: 8.5415 - val_loss: 5.1307\n",
            "Epoch 3/100\n",
            "466/466 [==============================] - 5s 11ms/step - loss: 7.5391 - val_loss: 4.3136\n",
            "Epoch 4/100\n",
            "466/466 [==============================] - 4s 10ms/step - loss: 7.0729 - val_loss: 4.0762\n",
            "Epoch 5/100\n",
            "466/466 [==============================] - 4s 9ms/step - loss: 6.7434 - val_loss: 3.8837\n",
            "Epoch 6/100\n",
            "466/466 [==============================] - 5s 12ms/step - loss: 6.5020 - val_loss: 3.3463\n",
            "Epoch 7/100\n",
            "466/466 [==============================] - 4s 9ms/step - loss: 6.3995 - val_loss: 3.1356\n",
            "Epoch 8/100\n",
            "466/466 [==============================] - 4s 9ms/step - loss: 6.1770 - val_loss: 3.3595\n"
          ]
        },
        {
          "output_type": "stream",
          "name": "stderr",
          "text": [
            "[I 2023-06-28 19:53:48,467] Trial 36 finished with value: 3.3594512939453125 and parameters: {'n_units': 96, 'dropout_rate': 0.19743910473886184}. Best is trial 30 with value: 2.8309476375579834.\n"
          ]
        },
        {
          "output_type": "stream",
          "name": "stdout",
          "text": [
            "Epoch 1/100\n",
            "466/466 [==============================] - 8s 12ms/step - loss: 65.6124 - val_loss: 16.4401\n",
            "Epoch 2/100\n",
            "466/466 [==============================] - 4s 9ms/step - loss: 26.4506 - val_loss: 13.2589\n",
            "Epoch 3/100\n",
            "466/466 [==============================] - 5s 10ms/step - loss: 21.7310 - val_loss: 10.5961\n",
            "Epoch 4/100\n",
            "466/466 [==============================] - 5s 11ms/step - loss: 19.7408 - val_loss: 8.7949\n",
            "Epoch 5/100\n",
            "466/466 [==============================] - 4s 9ms/step - loss: 18.7666 - val_loss: 8.3471\n",
            "Epoch 6/100\n",
            "466/466 [==============================] - 5s 10ms/step - loss: 18.2393 - val_loss: 7.4148\n",
            "Epoch 7/100\n",
            "466/466 [==============================] - 5s 11ms/step - loss: 17.9415 - val_loss: 7.4683\n"
          ]
        },
        {
          "output_type": "stream",
          "name": "stderr",
          "text": [
            "[I 2023-06-28 19:54:24,610] Trial 37 finished with value: 7.46831750869751 and parameters: {'n_units': 11, 'dropout_rate': 0.2855484304380929}. Best is trial 30 with value: 2.8309476375579834.\n"
          ]
        },
        {
          "output_type": "stream",
          "name": "stdout",
          "text": [
            "Epoch 1/100\n",
            "466/466 [==============================] - 8s 11ms/step - loss: 18.9768 - val_loss: 6.3886\n",
            "Epoch 2/100\n",
            "466/466 [==============================] - 4s 9ms/step - loss: 9.6346 - val_loss: 6.1394\n",
            "Epoch 3/100\n",
            "466/466 [==============================] - 5s 11ms/step - loss: 8.6259 - val_loss: 4.4726\n",
            "Epoch 4/100\n",
            "466/466 [==============================] - 5s 10ms/step - loss: 8.0689 - val_loss: 4.0172\n",
            "Epoch 5/100\n",
            "466/466 [==============================] - 4s 9ms/step - loss: 7.6788 - val_loss: 3.4416\n",
            "Epoch 6/100\n",
            "466/466 [==============================] - 5s 11ms/step - loss: 7.4361 - val_loss: 3.3769\n",
            "Epoch 7/100\n",
            "466/466 [==============================] - 5s 10ms/step - loss: 7.2039 - val_loss: 3.0902\n",
            "Epoch 8/100\n",
            "466/466 [==============================] - 4s 9ms/step - loss: 7.0884 - val_loss: 3.2201\n"
          ]
        },
        {
          "output_type": "stream",
          "name": "stderr",
          "text": [
            "[I 2023-06-28 19:55:12,602] Trial 38 finished with value: 3.2200536727905273 and parameters: {'n_units': 93, 'dropout_rate': 0.2586486117513251}. Best is trial 30 with value: 2.8309476375579834.\n"
          ]
        },
        {
          "output_type": "stream",
          "name": "stdout",
          "text": [
            "Epoch 1/100\n",
            "466/466 [==============================] - 8s 10ms/step - loss: 21.1509 - val_loss: 7.4416\n",
            "Epoch 2/100\n",
            "466/466 [==============================] - 4s 9ms/step - loss: 10.7970 - val_loss: 5.2914\n",
            "Epoch 3/100\n",
            "466/466 [==============================] - 6s 12ms/step - loss: 9.8193 - val_loss: 4.7745\n",
            "Epoch 4/100\n",
            "466/466 [==============================] - 4s 9ms/step - loss: 9.2860 - val_loss: 4.2981\n",
            "Epoch 5/100\n",
            "466/466 [==============================] - 4s 9ms/step - loss: 9.0247 - val_loss: 4.4728\n"
          ]
        },
        {
          "output_type": "stream",
          "name": "stderr",
          "text": [
            "[I 2023-06-28 19:55:41,299] Trial 39 finished with value: 4.472795486450195 and parameters: {'n_units': 55, 'dropout_rate': 0.23825206746510574}. Best is trial 30 with value: 2.8309476375579834.\n"
          ]
        },
        {
          "output_type": "stream",
          "name": "stdout",
          "text": [
            "Epoch 1/100\n",
            "466/466 [==============================] - 8s 11ms/step - loss: 22.6907 - val_loss: 7.0920\n",
            "Epoch 2/100\n",
            "466/466 [==============================] - 4s 9ms/step - loss: 13.0075 - val_loss: 6.0519\n",
            "Epoch 3/100\n",
            "466/466 [==============================] - 5s 10ms/step - loss: 12.1139 - val_loss: 5.5499\n",
            "Epoch 4/100\n",
            "466/466 [==============================] - 5s 10ms/step - loss: 11.5839 - val_loss: 4.9881\n",
            "Epoch 5/100\n",
            "466/466 [==============================] - 4s 9ms/step - loss: 11.2294 - val_loss: 4.8243\n",
            "Epoch 6/100\n",
            "466/466 [==============================] - 5s 10ms/step - loss: 11.0596 - val_loss: 4.3079\n",
            "Epoch 7/100\n",
            "466/466 [==============================] - 5s 11ms/step - loss: 10.8994 - val_loss: 4.0558\n",
            "Epoch 8/100\n",
            "466/466 [==============================] - 4s 9ms/step - loss: 10.7430 - val_loss: 4.4795\n"
          ]
        },
        {
          "output_type": "stream",
          "name": "stderr",
          "text": [
            "[I 2023-06-28 19:56:21,165] Trial 40 finished with value: 4.479501247406006 and parameters: {'n_units': 60, 'dropout_rate': 0.3987748114259373}. Best is trial 30 with value: 2.8309476375579834.\n"
          ]
        },
        {
          "output_type": "stream",
          "name": "stdout",
          "text": [
            "Epoch 1/100\n",
            "466/466 [==============================] - 8s 13ms/step - loss: 18.8427 - val_loss: 6.2147\n",
            "Epoch 2/100\n",
            "466/466 [==============================] - 4s 9ms/step - loss: 9.4650 - val_loss: 4.6654\n",
            "Epoch 3/100\n",
            "466/466 [==============================] - 4s 10ms/step - loss: 8.4733 - val_loss: 4.8254\n"
          ]
        },
        {
          "output_type": "stream",
          "name": "stderr",
          "text": [
            "[I 2023-06-28 19:56:39,338] Trial 41 finished with value: 4.825417518615723 and parameters: {'n_units': 92, 'dropout_rate': 0.26449194701957873}. Best is trial 30 with value: 2.8309476375579834.\n"
          ]
        },
        {
          "output_type": "stream",
          "name": "stdout",
          "text": [
            "Epoch 1/100\n",
            "466/466 [==============================] - 9s 12ms/step - loss: 18.6973 - val_loss: 5.7558\n",
            "Epoch 2/100\n",
            "466/466 [==============================] - 4s 9ms/step - loss: 9.1901 - val_loss: 5.2521\n",
            "Epoch 3/100\n",
            "466/466 [==============================] - 5s 12ms/step - loss: 8.2469 - val_loss: 4.9813\n",
            "Epoch 4/100\n",
            "466/466 [==============================] - 4s 9ms/step - loss: 7.7723 - val_loss: 3.8597\n",
            "Epoch 5/100\n",
            "466/466 [==============================] - 4s 9ms/step - loss: 7.4710 - val_loss: 3.9101\n"
          ]
        },
        {
          "output_type": "stream",
          "name": "stderr",
          "text": [
            "[I 2023-06-28 19:57:07,152] Trial 42 finished with value: 3.9101083278656006 and parameters: {'n_units': 86, 'dropout_rate': 0.23281292737918668}. Best is trial 30 with value: 2.8309476375579834.\n"
          ]
        },
        {
          "output_type": "stream",
          "name": "stdout",
          "text": [
            "Epoch 1/100\n",
            "466/466 [==============================] - 7s 10ms/step - loss: 19.9580 - val_loss: 7.4394\n",
            "Epoch 2/100\n",
            "466/466 [==============================] - 5s 11ms/step - loss: 9.6199 - val_loss: 5.2912\n",
            "Epoch 3/100\n",
            "466/466 [==============================] - 5s 10ms/step - loss: 8.6582 - val_loss: 4.6701\n",
            "Epoch 4/100\n",
            "466/466 [==============================] - 4s 9ms/step - loss: 8.1553 - val_loss: 3.7544\n",
            "Epoch 5/100\n",
            "466/466 [==============================] - 5s 11ms/step - loss: 7.8472 - val_loss: 4.7188\n"
          ]
        },
        {
          "output_type": "stream",
          "name": "stderr",
          "text": [
            "[I 2023-06-28 19:57:49,264] Trial 43 finished with value: 4.718760013580322 and parameters: {'n_units': 95, 'dropout_rate': 0.2858777162811127}. Best is trial 30 with value: 2.8309476375579834.\n"
          ]
        },
        {
          "output_type": "stream",
          "name": "stdout",
          "text": [
            "Epoch 1/100\n",
            "466/466 [==============================] - 7s 10ms/step - loss: 20.5502 - val_loss: 6.2115\n",
            "Epoch 2/100\n",
            "466/466 [==============================] - 4s 10ms/step - loss: 10.0861 - val_loss: 6.1305\n",
            "Epoch 3/100\n",
            "466/466 [==============================] - 5s 11ms/step - loss: 9.1208 - val_loss: 4.9808\n",
            "Epoch 4/100\n",
            "466/466 [==============================] - 4s 9ms/step - loss: 8.6591 - val_loss: 4.4365\n",
            "Epoch 5/100\n",
            "466/466 [==============================] - 4s 10ms/step - loss: 8.3663 - val_loss: 3.9892\n",
            "Epoch 6/100\n",
            "466/466 [==============================] - 5s 12ms/step - loss: 8.1421 - val_loss: 4.0317\n"
          ]
        },
        {
          "output_type": "stream",
          "name": "stderr",
          "text": [
            "[I 2023-06-28 19:58:20,994] Trial 44 finished with value: 4.0317182540893555 and parameters: {'n_units': 77, 'dropout_rate': 0.26162509311514065}. Best is trial 30 with value: 2.8309476375579834.\n"
          ]
        },
        {
          "output_type": "stream",
          "name": "stdout",
          "text": [
            "Epoch 1/100\n",
            "466/466 [==============================] - 7s 11ms/step - loss: 17.6256 - val_loss: 5.9741\n",
            "Epoch 2/100\n",
            "466/466 [==============================] - 6s 12ms/step - loss: 8.6301 - val_loss: 4.9209\n",
            "Epoch 3/100\n",
            "466/466 [==============================] - 4s 9ms/step - loss: 7.6634 - val_loss: 4.3032\n",
            "Epoch 4/100\n",
            "466/466 [==============================] - 4s 9ms/step - loss: 7.2004 - val_loss: 4.2551\n",
            "Epoch 5/100\n",
            "466/466 [==============================] - 5s 12ms/step - loss: 6.8958 - val_loss: 3.8086\n",
            "Epoch 6/100\n",
            "466/466 [==============================] - 4s 9ms/step - loss: 6.6838 - val_loss: 3.4199\n",
            "Epoch 7/100\n",
            "466/466 [==============================] - 4s 9ms/step - loss: 6.5300 - val_loss: 3.4742\n"
          ]
        },
        {
          "output_type": "stream",
          "name": "stderr",
          "text": [
            "[I 2023-06-28 19:58:56,582] Trial 45 finished with value: 3.4741830825805664 and parameters: {'n_units': 87, 'dropout_rate': 0.19449143896673216}. Best is trial 30 with value: 2.8309476375579834.\n"
          ]
        },
        {
          "output_type": "stream",
          "name": "stdout",
          "text": [
            "Epoch 1/100\n",
            "466/466 [==============================] - 9s 11ms/step - loss: 18.5141 - val_loss: 6.6020\n",
            "Epoch 2/100\n",
            "466/466 [==============================] - 4s 9ms/step - loss: 9.1632 - val_loss: 5.2399\n",
            "Epoch 3/100\n",
            "466/466 [==============================] - 5s 12ms/step - loss: 8.2855 - val_loss: 5.1068\n",
            "Epoch 4/100\n",
            "466/466 [==============================] - 4s 9ms/step - loss: 7.7502 - val_loss: 4.3474\n",
            "Epoch 5/100\n",
            "466/466 [==============================] - 4s 9ms/step - loss: 7.4551 - val_loss: 3.9801\n",
            "Epoch 6/100\n",
            "466/466 [==============================] - 5s 11ms/step - loss: 7.2232 - val_loss: 3.8938\n",
            "Epoch 7/100\n",
            "466/466 [==============================] - 4s 9ms/step - loss: 7.0469 - val_loss: 3.2115\n",
            "Epoch 8/100\n",
            "466/466 [==============================] - 4s 9ms/step - loss: 6.9198 - val_loss: 3.6776\n"
          ]
        },
        {
          "output_type": "stream",
          "name": "stderr",
          "text": [
            "[I 2023-06-28 19:59:38,565] Trial 46 finished with value: 3.6776270866394043 and parameters: {'n_units': 94, 'dropout_rate': 0.2444395984418931}. Best is trial 30 with value: 2.8309476375579834.\n"
          ]
        },
        {
          "output_type": "stream",
          "name": "stdout",
          "text": [
            "Epoch 1/100\n",
            "466/466 [==============================] - 8s 11ms/step - loss: 18.4861 - val_loss: 6.0827\n",
            "Epoch 2/100\n",
            "466/466 [==============================] - 4s 9ms/step - loss: 8.9308 - val_loss: 4.9012\n",
            "Epoch 3/100\n",
            "466/466 [==============================] - 5s 11ms/step - loss: 8.0896 - val_loss: 4.5594\n",
            "Epoch 4/100\n",
            "466/466 [==============================] - 5s 10ms/step - loss: 7.6578 - val_loss: 4.0168\n",
            "Epoch 5/100\n",
            "466/466 [==============================] - 4s 9ms/step - loss: 7.3109 - val_loss: 4.3037\n"
          ]
        },
        {
          "output_type": "stream",
          "name": "stderr",
          "text": [
            "[I 2023-06-28 20:00:05,426] Trial 47 finished with value: 4.303666114807129 and parameters: {'n_units': 82, 'dropout_rate': 0.2071414167876296}. Best is trial 30 with value: 2.8309476375579834.\n"
          ]
        },
        {
          "output_type": "stream",
          "name": "stdout",
          "text": [
            "Epoch 1/100\n",
            "466/466 [==============================] - 7s 11ms/step - loss: 19.0564 - val_loss: 6.2647\n",
            "Epoch 2/100\n",
            "466/466 [==============================] - 5s 10ms/step - loss: 9.8019 - val_loss: 5.3588\n",
            "Epoch 3/100\n",
            "466/466 [==============================] - 6s 12ms/step - loss: 8.8669 - val_loss: 4.4633\n",
            "Epoch 4/100\n",
            "466/466 [==============================] - 4s 9ms/step - loss: 8.4262 - val_loss: 4.0210\n",
            "Epoch 5/100\n",
            "466/466 [==============================] - 5s 10ms/step - loss: 8.1820 - val_loss: 3.6242\n",
            "Epoch 6/100\n",
            "466/466 [==============================] - 5s 11ms/step - loss: 7.9628 - val_loss: 3.8277\n"
          ]
        },
        {
          "output_type": "stream",
          "name": "stderr",
          "text": [
            "[I 2023-06-28 20:00:54,189] Trial 48 finished with value: 3.8277156352996826 and parameters: {'n_units': 100, 'dropout_rate': 0.31808889958623876}. Best is trial 30 with value: 2.8309476375579834.\n"
          ]
        },
        {
          "output_type": "stream",
          "name": "stdout",
          "text": [
            "Epoch 1/100\n",
            "466/466 [==============================] - 7s 10ms/step - loss: 19.9413 - val_loss: 6.0237\n",
            "Epoch 2/100\n",
            "466/466 [==============================] - 5s 11ms/step - loss: 9.7876 - val_loss: 5.1949\n",
            "Epoch 3/100\n",
            "466/466 [==============================] - 5s 10ms/step - loss: 8.9162 - val_loss: 4.3724\n",
            "Epoch 4/100\n",
            "466/466 [==============================] - 4s 9ms/step - loss: 8.3876 - val_loss: 4.0104\n",
            "Epoch 5/100\n",
            "466/466 [==============================] - 5s 11ms/step - loss: 8.0858 - val_loss: 3.6162\n",
            "Epoch 6/100\n",
            "466/466 [==============================] - 5s 10ms/step - loss: 7.8466 - val_loss: 3.9239\n"
          ]
        },
        {
          "output_type": "stream",
          "name": "stderr",
          "text": [
            "[I 2023-06-28 20:01:36,374] Trial 49 finished with value: 3.923877239227295 and parameters: {'n_units': 91, 'dropout_rate': 0.29010826564859826}. Best is trial 30 with value: 2.8309476375579834.\n"
          ]
        },
        {
          "output_type": "stream",
          "name": "stdout",
          "text": [
            "Epoch 1/100\n",
            "466/466 [==============================] - 7s 11ms/step - loss: 22.0551 - val_loss: 7.1694\n",
            "Epoch 2/100\n",
            "466/466 [==============================] - 5s 11ms/step - loss: 10.8522 - val_loss: 4.8876\n",
            "Epoch 3/100\n",
            "466/466 [==============================] - 4s 9ms/step - loss: 9.8900 - val_loss: 4.5914\n",
            "Epoch 4/100\n",
            "466/466 [==============================] - 4s 9ms/step - loss: 9.3847 - val_loss: 4.2638\n",
            "Epoch 5/100\n",
            "466/466 [==============================] - 5s 11ms/step - loss: 9.0560 - val_loss: 3.9932\n",
            "Epoch 6/100\n",
            "466/466 [==============================] - 4s 9ms/step - loss: 8.8412 - val_loss: 3.6386\n",
            "Epoch 7/100\n",
            "466/466 [==============================] - 5s 10ms/step - loss: 8.6639 - val_loss: 3.5205\n",
            "Epoch 8/100\n",
            "466/466 [==============================] - 5s 11ms/step - loss: 8.4524 - val_loss: 3.2292\n",
            "Epoch 9/100\n",
            "466/466 [==============================] - 4s 9ms/step - loss: 8.3928 - val_loss: 3.3141\n"
          ]
        },
        {
          "output_type": "stream",
          "name": "stderr",
          "text": [
            "[I 2023-06-28 20:02:20,946] Trial 50 finished with value: 3.314143180847168 and parameters: {'n_units': 70, 'dropout_rate': 0.30450605546788345}. Best is trial 30 with value: 2.8309476375579834.\n"
          ]
        },
        {
          "output_type": "stream",
          "name": "stdout",
          "text": [
            "Epoch 1/100\n",
            "466/466 [==============================] - 8s 12ms/step - loss: 23.4077 - val_loss: 8.3146\n",
            "Epoch 2/100\n",
            "466/466 [==============================] - 4s 9ms/step - loss: 10.9149 - val_loss: 5.4047\n",
            "Epoch 3/100\n",
            "466/466 [==============================] - 4s 9ms/step - loss: 10.0284 - val_loss: 4.9506\n",
            "Epoch 4/100\n",
            "466/466 [==============================] - 5s 11ms/step - loss: 9.4808 - val_loss: 4.5623\n",
            "Epoch 5/100\n",
            "466/466 [==============================] - 4s 9ms/step - loss: 9.0835 - val_loss: 4.5576\n",
            "Epoch 6/100\n",
            "466/466 [==============================] - 4s 9ms/step - loss: 8.8815 - val_loss: 4.1849\n",
            "Epoch 7/100\n",
            "466/466 [==============================] - 5s 11ms/step - loss: 8.6908 - val_loss: 3.7061\n",
            "Epoch 8/100\n",
            "466/466 [==============================] - 5s 10ms/step - loss: 8.5248 - val_loss: 3.6111\n",
            "Epoch 9/100\n",
            "466/466 [==============================] - 4s 9ms/step - loss: 8.3458 - val_loss: 3.2962\n",
            "Epoch 10/100\n",
            "466/466 [==============================] - 5s 11ms/step - loss: 8.2882 - val_loss: 3.6479\n"
          ]
        },
        {
          "output_type": "stream",
          "name": "stderr",
          "text": [
            "[I 2023-06-28 20:03:10,315] Trial 51 finished with value: 3.6479153633117676 and parameters: {'n_units': 64, 'dropout_rate': 0.26782092465757695}. Best is trial 30 with value: 2.8309476375579834.\n"
          ]
        },
        {
          "output_type": "stream",
          "name": "stdout",
          "text": [
            "Epoch 1/100\n",
            "466/466 [==============================] - 8s 10ms/step - loss: 19.9075 - val_loss: 7.8627\n",
            "Epoch 2/100\n",
            "466/466 [==============================] - 4s 9ms/step - loss: 10.0692 - val_loss: 4.9258\n",
            "Epoch 3/100\n",
            "466/466 [==============================] - 6s 13ms/step - loss: 9.1921 - val_loss: 4.8135\n",
            "Epoch 4/100\n",
            "466/466 [==============================] - 4s 9ms/step - loss: 8.7262 - val_loss: 4.5391\n",
            "Epoch 5/100\n",
            "466/466 [==============================] - 4s 9ms/step - loss: 8.3953 - val_loss: 4.5073\n",
            "Epoch 6/100\n",
            "466/466 [==============================] - 5s 11ms/step - loss: 8.1749 - val_loss: 3.7006\n",
            "Epoch 7/100\n",
            "466/466 [==============================] - 4s 9ms/step - loss: 8.0600 - val_loss: 3.5505\n",
            "Epoch 8/100\n",
            "466/466 [==============================] - 4s 9ms/step - loss: 7.9281 - val_loss: 3.9524\n"
          ]
        },
        {
          "output_type": "stream",
          "name": "stderr",
          "text": [
            "[I 2023-06-28 20:04:26,606] Trial 52 finished with value: 3.9524381160736084 and parameters: {'n_units': 69, 'dropout_rate': 0.25228085426224406}. Best is trial 30 with value: 2.8309476375579834.\n"
          ]
        },
        {
          "output_type": "stream",
          "name": "stdout",
          "text": [
            "Epoch 1/100\n",
            "466/466 [==============================] - 7s 10ms/step - loss: 20.4078 - val_loss: 7.5100\n",
            "Epoch 2/100\n",
            "466/466 [==============================] - 5s 10ms/step - loss: 10.5553 - val_loss: 5.6600\n",
            "Epoch 3/100\n",
            "466/466 [==============================] - 5s 11ms/step - loss: 9.6708 - val_loss: 5.5815\n",
            "Epoch 4/100\n",
            "466/466 [==============================] - 4s 9ms/step - loss: 9.1592 - val_loss: 4.1604\n",
            "Epoch 5/100\n",
            "466/466 [==============================] - 5s 11ms/step - loss: 8.7801 - val_loss: 3.9754\n",
            "Epoch 6/100\n",
            "466/466 [==============================] - 5s 11ms/step - loss: 8.4825 - val_loss: 4.0520\n"
          ]
        },
        {
          "output_type": "stream",
          "name": "stderr",
          "text": [
            "[I 2023-06-28 20:05:00,996] Trial 53 finished with value: 4.052010536193848 and parameters: {'n_units': 79, 'dropout_rate': 0.2948500651445641}. Best is trial 30 with value: 2.8309476375579834.\n"
          ]
        },
        {
          "output_type": "stream",
          "name": "stdout",
          "text": [
            "Epoch 1/100\n",
            "466/466 [==============================] - 7s 10ms/step - loss: 19.1047 - val_loss: 6.5911\n",
            "Epoch 2/100\n",
            "466/466 [==============================] - 6s 12ms/step - loss: 9.8513 - val_loss: 5.5960\n",
            "Epoch 3/100\n",
            "466/466 [==============================] - 4s 9ms/step - loss: 9.0051 - val_loss: 4.6686\n",
            "Epoch 4/100\n",
            "466/466 [==============================] - 4s 9ms/step - loss: 8.5218 - val_loss: 4.4146\n",
            "Epoch 5/100\n",
            "466/466 [==============================] - 5s 12ms/step - loss: 8.1715 - val_loss: 3.7258\n",
            "Epoch 6/100\n",
            "466/466 [==============================] - 4s 9ms/step - loss: 8.0032 - val_loss: 4.0262\n"
          ]
        },
        {
          "output_type": "stream",
          "name": "stderr",
          "text": [
            "[I 2023-06-28 20:05:43,956] Trial 54 finished with value: 4.02615213394165 and parameters: {'n_units': 97, 'dropout_rate': 0.3099787636132996}. Best is trial 30 with value: 2.8309476375579834.\n"
          ]
        },
        {
          "output_type": "stream",
          "name": "stdout",
          "text": [
            "Epoch 1/100\n",
            "466/466 [==============================] - 7s 12ms/step - loss: 20.5369 - val_loss: 6.9773\n",
            "Epoch 2/100\n",
            "466/466 [==============================] - 5s 10ms/step - loss: 11.2315 - val_loss: 6.1741\n",
            "Epoch 3/100\n",
            "466/466 [==============================] - 4s 9ms/step - loss: 10.3699 - val_loss: 5.5073\n",
            "Epoch 4/100\n",
            "466/466 [==============================] - 5s 11ms/step - loss: 9.9652 - val_loss: 4.3251\n",
            "Epoch 5/100\n",
            "466/466 [==============================] - 5s 10ms/step - loss: 9.5668 - val_loss: 4.0148\n",
            "Epoch 6/100\n",
            "466/466 [==============================] - 4s 9ms/step - loss: 9.3524 - val_loss: 4.3815\n"
          ]
        },
        {
          "output_type": "stream",
          "name": "stderr",
          "text": [
            "[I 2023-06-28 20:06:14,617] Trial 55 finished with value: 4.381526947021484 and parameters: {'n_units': 74, 'dropout_rate': 0.3416893209872496}. Best is trial 30 with value: 2.8309476375579834.\n"
          ]
        },
        {
          "output_type": "stream",
          "name": "stdout",
          "text": [
            "Epoch 1/100\n",
            "466/466 [==============================] - 8s 13ms/step - loss: 18.2822 - val_loss: 5.7414\n",
            "Epoch 2/100\n",
            "466/466 [==============================] - 4s 9ms/step - loss: 9.0485 - val_loss: 5.7137\n",
            "Epoch 3/100\n",
            "466/466 [==============================] - 4s 9ms/step - loss: 8.2078 - val_loss: 4.3862\n",
            "Epoch 4/100\n",
            "466/466 [==============================] - 6s 12ms/step - loss: 7.6904 - val_loss: 4.0879\n",
            "Epoch 5/100\n",
            "466/466 [==============================] - 5s 10ms/step - loss: 7.3760 - val_loss: 3.6173\n",
            "Epoch 6/100\n",
            "466/466 [==============================] - 6s 12ms/step - loss: 7.1568 - val_loss: 3.7465\n"
          ]
        },
        {
          "output_type": "stream",
          "name": "stderr",
          "text": [
            "[I 2023-06-28 20:06:59,847] Trial 56 finished with value: 3.746467351913452 and parameters: {'n_units': 88, 'dropout_rate': 0.22606939456609287}. Best is trial 30 with value: 2.8309476375579834.\n"
          ]
        },
        {
          "output_type": "stream",
          "name": "stdout",
          "text": [
            "Epoch 1/100\n",
            "466/466 [==============================] - 9s 11ms/step - loss: 19.1539 - val_loss: 7.6464\n",
            "Epoch 2/100\n",
            "466/466 [==============================] - 4s 9ms/step - loss: 9.9480 - val_loss: 5.7361\n",
            "Epoch 3/100\n",
            "466/466 [==============================] - 5s 11ms/step - loss: 9.0325 - val_loss: 4.1495\n",
            "Epoch 4/100\n",
            "466/466 [==============================] - 4s 9ms/step - loss: 8.4826 - val_loss: 4.3799\n"
          ]
        },
        {
          "output_type": "stream",
          "name": "stderr",
          "text": [
            "[I 2023-06-28 20:07:32,883] Trial 57 finished with value: 4.379886627197266 and parameters: {'n_units': 84, 'dropout_rate': 0.27682189109923144}. Best is trial 30 with value: 2.8309476375579834.\n"
          ]
        },
        {
          "output_type": "stream",
          "name": "stdout",
          "text": [
            "Epoch 1/100\n",
            "466/466 [==============================] - 7s 11ms/step - loss: 19.1936 - val_loss: 6.4170\n",
            "Epoch 2/100\n",
            "466/466 [==============================] - 5s 10ms/step - loss: 9.7117 - val_loss: 4.7941\n",
            "Epoch 3/100\n",
            "466/466 [==============================] - 4s 9ms/step - loss: 8.8344 - val_loss: 4.3734\n",
            "Epoch 4/100\n",
            "466/466 [==============================] - 5s 10ms/step - loss: 8.2619 - val_loss: 4.1080\n",
            "Epoch 5/100\n",
            "466/466 [==============================] - 5s 10ms/step - loss: 7.9888 - val_loss: 3.7628\n",
            "Epoch 6/100\n",
            "466/466 [==============================] - 4s 9ms/step - loss: 7.7710 - val_loss: 4.1459\n"
          ]
        },
        {
          "output_type": "stream",
          "name": "stderr",
          "text": [
            "[I 2023-06-28 20:08:03,857] Trial 58 finished with value: 4.145920276641846 and parameters: {'n_units': 80, 'dropout_rate': 0.2580357429514057}. Best is trial 30 with value: 2.8309476375579834.\n"
          ]
        },
        {
          "output_type": "stream",
          "name": "stdout",
          "text": [
            "Epoch 1/100\n",
            "466/466 [==============================] - 8s 13ms/step - loss: 24.2160 - val_loss: 8.7351\n",
            "Epoch 2/100\n",
            "466/466 [==============================] - 4s 9ms/step - loss: 10.3711 - val_loss: 5.9475\n",
            "Epoch 3/100\n",
            "466/466 [==============================] - 4s 9ms/step - loss: 8.9965 - val_loss: 4.6768\n",
            "Epoch 4/100\n",
            "466/466 [==============================] - 5s 12ms/step - loss: 8.4087 - val_loss: 4.1739\n",
            "Epoch 5/100\n",
            "466/466 [==============================] - 4s 9ms/step - loss: 8.0185 - val_loss: 3.9463\n",
            "Epoch 6/100\n",
            "466/466 [==============================] - 4s 9ms/step - loss: 7.7543 - val_loss: 4.0556\n"
          ]
        },
        {
          "output_type": "stream",
          "name": "stderr",
          "text": [
            "[I 2023-06-28 20:08:34,769] Trial 59 finished with value: 4.055584907531738 and parameters: {'n_units': 58, 'dropout_rate': 0.1718456586497117}. Best is trial 30 with value: 2.8309476375579834.\n"
          ]
        },
        {
          "output_type": "stream",
          "name": "stdout",
          "text": [
            "Epoch 1/100\n",
            "466/466 [==============================] - 8s 11ms/step - loss: 19.7778 - val_loss: 5.9980\n",
            "Epoch 2/100\n",
            "466/466 [==============================] - 4s 9ms/step - loss: 9.4117 - val_loss: 4.9737\n",
            "Epoch 3/100\n",
            "466/466 [==============================] - 5s 11ms/step - loss: 8.5533 - val_loss: 4.6399\n",
            "Epoch 4/100\n",
            "466/466 [==============================] - 5s 10ms/step - loss: 8.1062 - val_loss: 4.1319\n",
            "Epoch 5/100\n",
            "466/466 [==============================] - 4s 9ms/step - loss: 7.8525 - val_loss: 3.9123\n",
            "Epoch 6/100\n",
            "466/466 [==============================] - 5s 11ms/step - loss: 7.6361 - val_loss: 3.7973\n",
            "Epoch 7/100\n",
            "466/466 [==============================] - 5s 10ms/step - loss: 7.5080 - val_loss: 3.4707\n",
            "Epoch 8/100\n",
            "466/466 [==============================] - 4s 9ms/step - loss: 7.3153 - val_loss: 3.5759\n"
          ]
        },
        {
          "output_type": "stream",
          "name": "stderr",
          "text": [
            "[I 2023-06-28 20:09:27,186] Trial 60 finished with value: 3.575918197631836 and parameters: {'n_units': 70, 'dropout_rate': 0.21834544798298383}. Best is trial 30 with value: 2.8309476375579834.\n"
          ]
        },
        {
          "output_type": "stream",
          "name": "stdout",
          "text": [
            "Epoch 1/100\n",
            "466/466 [==============================] - 8s 13ms/step - loss: 18.4916 - val_loss: 7.1257\n",
            "Epoch 2/100\n",
            "466/466 [==============================] - 4s 9ms/step - loss: 8.6057 - val_loss: 5.0401\n",
            "Epoch 3/100\n",
            "466/466 [==============================] - 5s 10ms/step - loss: 7.6345 - val_loss: 4.1515\n",
            "Epoch 4/100\n",
            "466/466 [==============================] - 5s 11ms/step - loss: 7.1691 - val_loss: 4.3906\n"
          ]
        },
        {
          "output_type": "stream",
          "name": "stderr",
          "text": [
            "[I 2023-06-28 20:09:49,858] Trial 61 finished with value: 4.390635967254639 and parameters: {'n_units': 97, 'dropout_rate': 0.20020902766377807}. Best is trial 30 with value: 2.8309476375579834.\n"
          ]
        },
        {
          "output_type": "stream",
          "name": "stdout",
          "text": [
            "Epoch 1/100\n",
            "466/466 [==============================] - 10s 15ms/step - loss: 17.9409 - val_loss: 7.0020\n",
            "Epoch 2/100\n",
            "466/466 [==============================] - 4s 10ms/step - loss: 8.7007 - val_loss: 5.6702\n",
            "Epoch 3/100\n",
            "466/466 [==============================] - 5s 11ms/step - loss: 7.7743 - val_loss: 3.9244\n",
            "Epoch 4/100\n",
            "466/466 [==============================] - 4s 9ms/step - loss: 7.3148 - val_loss: 4.7535\n"
          ]
        },
        {
          "output_type": "stream",
          "name": "stderr",
          "text": [
            "[I 2023-06-28 20:10:34,476] Trial 62 finished with value: 4.753495693206787 and parameters: {'n_units': 91, 'dropout_rate': 0.20601729731028665}. Best is trial 30 with value: 2.8309476375579834.\n"
          ]
        },
        {
          "output_type": "stream",
          "name": "stdout",
          "text": [
            "Epoch 1/100\n",
            "466/466 [==============================] - 7s 11ms/step - loss: 18.2169 - val_loss: 5.6887\n",
            "Epoch 2/100\n",
            "466/466 [==============================] - 5s 11ms/step - loss: 9.0265 - val_loss: 5.3934\n",
            "Epoch 3/100\n",
            "466/466 [==============================] - 5s 10ms/step - loss: 8.0657 - val_loss: 4.4243\n",
            "Epoch 4/100\n",
            "466/466 [==============================] - 5s 10ms/step - loss: 7.6549 - val_loss: 4.3738\n",
            "Epoch 5/100\n",
            "466/466 [==============================] - 5s 12ms/step - loss: 7.3269 - val_loss: 3.8291\n",
            "Epoch 6/100\n",
            "466/466 [==============================] - 5s 10ms/step - loss: 7.1750 - val_loss: 4.3803\n"
          ]
        },
        {
          "output_type": "stream",
          "name": "stderr",
          "text": [
            "[I 2023-06-28 20:11:25,293] Trial 63 finished with value: 4.380268096923828 and parameters: {'n_units': 97, 'dropout_rate': 0.24010322040507692}. Best is trial 30 with value: 2.8309476375579834.\n"
          ]
        },
        {
          "output_type": "stream",
          "name": "stdout",
          "text": [
            "Epoch 1/100\n",
            "466/466 [==============================] - 8s 12ms/step - loss: 18.5548 - val_loss: 5.8796\n",
            "Epoch 2/100\n",
            "466/466 [==============================] - 5s 11ms/step - loss: 9.5793 - val_loss: 4.6844\n",
            "Epoch 3/100\n",
            "466/466 [==============================] - 4s 9ms/step - loss: 8.7343 - val_loss: 4.9405\n"
          ]
        },
        {
          "output_type": "stream",
          "name": "stderr",
          "text": [
            "[I 2023-06-28 20:11:53,719] Trial 64 finished with value: 4.940542221069336 and parameters: {'n_units': 76, 'dropout_rate': 0.22332692247176528}. Best is trial 30 with value: 2.8309476375579834.\n"
          ]
        },
        {
          "output_type": "stream",
          "name": "stdout",
          "text": [
            "Epoch 1/100\n",
            "466/466 [==============================] - 8s 13ms/step - loss: 18.5109 - val_loss: 6.6172\n",
            "Epoch 2/100\n",
            "466/466 [==============================] - 5s 10ms/step - loss: 9.5943 - val_loss: 5.0779\n",
            "Epoch 3/100\n",
            "466/466 [==============================] - 4s 9ms/step - loss: 8.7105 - val_loss: 4.3149\n",
            "Epoch 4/100\n",
            "466/466 [==============================] - 6s 12ms/step - loss: 8.1863 - val_loss: 3.6961\n",
            "Epoch 5/100\n",
            "466/466 [==============================] - 5s 10ms/step - loss: 7.9136 - val_loss: 3.4307\n",
            "Epoch 6/100\n",
            "466/466 [==============================] - 5s 11ms/step - loss: 7.7142 - val_loss: 3.5180\n"
          ]
        },
        {
          "output_type": "stream",
          "name": "stderr",
          "text": [
            "[I 2023-06-28 20:12:26,397] Trial 65 finished with value: 3.518040895462036 and parameters: {'n_units': 84, 'dropout_rate': 0.2695586874844131}. Best is trial 30 with value: 2.8309476375579834.\n"
          ]
        },
        {
          "output_type": "stream",
          "name": "stdout",
          "text": [
            "Epoch 1/100\n",
            "466/466 [==============================] - 8s 11ms/step - loss: 18.0728 - val_loss: 6.3566\n",
            "Epoch 2/100\n",
            "466/466 [==============================] - 5s 10ms/step - loss: 8.4871 - val_loss: 5.0280\n",
            "Epoch 3/100\n",
            "466/466 [==============================] - 6s 13ms/step - loss: 7.5014 - val_loss: 4.7072\n",
            "Epoch 4/100\n",
            "466/466 [==============================] - 5s 10ms/step - loss: 7.0172 - val_loss: 3.5794\n",
            "Epoch 5/100\n",
            "466/466 [==============================] - 5s 12ms/step - loss: 6.7498 - val_loss: 4.1492\n"
          ]
        },
        {
          "output_type": "stream",
          "name": "stderr",
          "text": [
            "[I 2023-06-28 20:12:56,138] Trial 66 finished with value: 4.149226188659668 and parameters: {'n_units': 94, 'dropout_rate': 0.19624718001458666}. Best is trial 30 with value: 2.8309476375579834.\n"
          ]
        },
        {
          "output_type": "stream",
          "name": "stdout",
          "text": [
            "Epoch 1/100\n",
            "466/466 [==============================] - 8s 11ms/step - loss: 18.2368 - val_loss: 6.9079\n",
            "Epoch 2/100\n",
            "466/466 [==============================] - 5s 10ms/step - loss: 9.5541 - val_loss: 5.1458\n",
            "Epoch 3/100\n",
            "466/466 [==============================] - 5s 12ms/step - loss: 8.7287 - val_loss: 4.6387\n",
            "Epoch 4/100\n",
            "466/466 [==============================] - 4s 10ms/step - loss: 8.2596 - val_loss: 4.2027\n",
            "Epoch 5/100\n",
            "466/466 [==============================] - 5s 10ms/step - loss: 7.9245 - val_loss: 3.5507\n",
            "Epoch 6/100\n",
            "466/466 [==============================] - 6s 12ms/step - loss: 7.6969 - val_loss: 3.3691\n",
            "Epoch 7/100\n",
            "466/466 [==============================] - 4s 10ms/step - loss: 7.5463 - val_loss: 3.1900\n",
            "Epoch 8/100\n",
            "466/466 [==============================] - 6s 13ms/step - loss: 7.4198 - val_loss: 3.3609\n"
          ]
        },
        {
          "output_type": "stream",
          "name": "stderr",
          "text": [
            "[I 2023-06-28 20:13:39,423] Trial 67 finished with value: 3.3608739376068115 and parameters: {'n_units': 89, 'dropout_rate': 0.2773007525166359}. Best is trial 30 with value: 2.8309476375579834.\n"
          ]
        },
        {
          "output_type": "stream",
          "name": "stdout",
          "text": [
            "Epoch 1/100\n",
            "466/466 [==============================] - 9s 11ms/step - loss: 18.0522 - val_loss: 5.6635\n",
            "Epoch 2/100\n",
            "466/466 [==============================] - 5s 11ms/step - loss: 9.1539 - val_loss: 5.4481\n",
            "Epoch 3/100\n",
            "466/466 [==============================] - 5s 12ms/step - loss: 8.2283 - val_loss: 4.0315\n",
            "Epoch 4/100\n",
            "466/466 [==============================] - 5s 10ms/step - loss: 7.7621 - val_loss: 3.7953\n",
            "Epoch 5/100\n",
            "466/466 [==============================] - 5s 11ms/step - loss: 7.4300 - val_loss: 3.6450\n",
            "Epoch 6/100\n",
            "466/466 [==============================] - 5s 11ms/step - loss: 7.1931 - val_loss: 4.2357\n"
          ]
        },
        {
          "output_type": "stream",
          "name": "stderr",
          "text": [
            "[I 2023-06-28 20:14:14,513] Trial 68 finished with value: 4.23568868637085 and parameters: {'n_units': 97, 'dropout_rate': 0.2501420703362685}. Best is trial 30 with value: 2.8309476375579834.\n"
          ]
        },
        {
          "output_type": "stream",
          "name": "stdout",
          "text": [
            "Epoch 1/100\n",
            "466/466 [==============================] - 7s 11ms/step - loss: 18.0856 - val_loss: 6.5674\n",
            "Epoch 2/100\n",
            "466/466 [==============================] - 6s 12ms/step - loss: 8.4799 - val_loss: 4.8282\n",
            "Epoch 3/100\n",
            "466/466 [==============================] - 4s 9ms/step - loss: 7.6656 - val_loss: 4.6462\n",
            "Epoch 4/100\n",
            "466/466 [==============================] - 5s 10ms/step - loss: 7.2109 - val_loss: 3.7700\n",
            "Epoch 5/100\n",
            "466/466 [==============================] - 5s 12ms/step - loss: 6.8708 - val_loss: 3.6890\n",
            "Epoch 6/100\n",
            "466/466 [==============================] - 4s 9ms/step - loss: 6.6807 - val_loss: 3.7896\n"
          ]
        },
        {
          "output_type": "stream",
          "name": "stderr",
          "text": [
            "[I 2023-06-28 20:14:46,287] Trial 69 finished with value: 3.789607048034668 and parameters: {'n_units': 86, 'dropout_rate': 0.18613302370458665}. Best is trial 30 with value: 2.8309476375579834.\n"
          ]
        },
        {
          "output_type": "stream",
          "name": "stdout",
          "text": [
            "Epoch 1/100\n",
            "466/466 [==============================] - 8s 13ms/step - loss: 28.4942 - val_loss: 9.9496\n",
            "Epoch 2/100\n",
            "466/466 [==============================] - 4s 9ms/step - loss: 14.3778 - val_loss: 6.4993\n",
            "Epoch 3/100\n",
            "466/466 [==============================] - 4s 9ms/step - loss: 12.6575 - val_loss: 5.8015\n",
            "Epoch 4/100\n",
            "466/466 [==============================] - 6s 12ms/step - loss: 12.0633 - val_loss: 5.5305\n",
            "Epoch 5/100\n",
            "466/466 [==============================] - 4s 9ms/step - loss: 11.7196 - val_loss: 4.8222\n",
            "Epoch 6/100\n",
            "466/466 [==============================] - 4s 9ms/step - loss: 11.5070 - val_loss: 5.0542\n"
          ]
        },
        {
          "output_type": "stream",
          "name": "stderr",
          "text": [
            "[I 2023-06-28 20:15:18,056] Trial 70 finished with value: 5.05421257019043 and parameters: {'n_units': 25, 'dropout_rate': 0.22179721520237416}. Best is trial 30 with value: 2.8309476375579834.\n"
          ]
        },
        {
          "output_type": "stream",
          "name": "stdout",
          "text": [
            "Epoch 1/100\n",
            "466/466 [==============================] - 8s 12ms/step - loss: 18.0609 - val_loss: 6.5170\n",
            "Epoch 2/100\n",
            "466/466 [==============================] - 4s 9ms/step - loss: 9.4981 - val_loss: 5.0513\n",
            "Epoch 3/100\n",
            "466/466 [==============================] - 5s 10ms/step - loss: 8.5877 - val_loss: 4.1442\n",
            "Epoch 4/100\n",
            "466/466 [==============================] - 5s 11ms/step - loss: 8.1615 - val_loss: 4.0423\n",
            "Epoch 5/100\n",
            "466/466 [==============================] - 4s 9ms/step - loss: 7.8367 - val_loss: 3.7608\n",
            "Epoch 6/100\n",
            "466/466 [==============================] - 5s 11ms/step - loss: 7.6173 - val_loss: 3.6834\n",
            "Epoch 7/100\n",
            "466/466 [==============================] - 5s 11ms/step - loss: 7.4328 - val_loss: 3.2820\n",
            "Epoch 8/100\n",
            "466/466 [==============================] - 5s 10ms/step - loss: 7.3415 - val_loss: 3.0105\n",
            "Epoch 9/100\n",
            "466/466 [==============================] - 5s 11ms/step - loss: 7.1516 - val_loss: 2.8981\n",
            "Epoch 10/100\n",
            "466/466 [==============================] - 5s 11ms/step - loss: 7.0760 - val_loss: 2.9762\n"
          ]
        },
        {
          "output_type": "stream",
          "name": "stderr",
          "text": [
            "[I 2023-06-28 20:16:21,528] Trial 71 finished with value: 2.9761579036712646 and parameters: {'n_units': 90, 'dropout_rate': 0.27706862018181705}. Best is trial 30 with value: 2.8309476375579834.\n"
          ]
        },
        {
          "output_type": "stream",
          "name": "stdout",
          "text": [
            "Epoch 1/100\n",
            "466/466 [==============================] - 10s 13ms/step - loss: 19.2492 - val_loss: 6.8173\n",
            "Epoch 2/100\n",
            "466/466 [==============================] - 5s 10ms/step - loss: 9.8258 - val_loss: 4.9267\n",
            "Epoch 3/100\n",
            "466/466 [==============================] - 6s 12ms/step - loss: 8.8764 - val_loss: 4.4894\n",
            "Epoch 4/100\n",
            "466/466 [==============================] - 5s 10ms/step - loss: 8.3915 - val_loss: 3.9934\n",
            "Epoch 5/100\n",
            "466/466 [==============================] - 4s 9ms/step - loss: 8.1120 - val_loss: 3.4377\n",
            "Epoch 6/100\n",
            "466/466 [==============================] - 6s 12ms/step - loss: 7.9479 - val_loss: 3.7318\n"
          ]
        },
        {
          "output_type": "stream",
          "name": "stderr",
          "text": [
            "[I 2023-06-28 20:17:28,117] Trial 72 finished with value: 3.731835126876831 and parameters: {'n_units': 92, 'dropout_rate': 0.30065313165187346}. Best is trial 30 with value: 2.8309476375579834.\n"
          ]
        },
        {
          "output_type": "stream",
          "name": "stdout",
          "text": [
            "Epoch 1/100\n",
            "466/466 [==============================] - 8s 11ms/step - loss: 17.4901 - val_loss: 7.2328\n",
            "Epoch 2/100\n",
            "466/466 [==============================] - 6s 13ms/step - loss: 9.0699 - val_loss: 5.2530\n",
            "Epoch 3/100\n",
            "466/466 [==============================] - 5s 10ms/step - loss: 8.2523 - val_loss: 4.1040\n",
            "Epoch 4/100\n",
            "466/466 [==============================] - 5s 10ms/step - loss: 7.7746 - val_loss: 3.8533\n",
            "Epoch 5/100\n",
            "466/466 [==============================] - 6s 12ms/step - loss: 7.4866 - val_loss: 3.4453\n",
            "Epoch 6/100\n",
            "466/466 [==============================] - 5s 10ms/step - loss: 7.2629 - val_loss: 3.1514\n",
            "Epoch 7/100\n",
            "466/466 [==============================] - 5s 10ms/step - loss: 7.1642 - val_loss: 3.2009\n"
          ]
        },
        {
          "output_type": "stream",
          "name": "stderr",
          "text": [
            "[I 2023-06-28 20:18:07,414] Trial 73 finished with value: 3.2008719444274902 and parameters: {'n_units': 95, 'dropout_rate': 0.25816650885795844}. Best is trial 30 with value: 2.8309476375579834.\n"
          ]
        },
        {
          "output_type": "stream",
          "name": "stdout",
          "text": [
            "Epoch 1/100\n",
            "466/466 [==============================] - 8s 11ms/step - loss: 22.8082 - val_loss: 7.4924\n",
            "Epoch 2/100\n",
            "466/466 [==============================] - 4s 9ms/step - loss: 11.5856 - val_loss: 5.8717\n",
            "Epoch 3/100\n",
            "466/466 [==============================] - 6s 12ms/step - loss: 10.6248 - val_loss: 5.1073\n",
            "Epoch 4/100\n",
            "466/466 [==============================] - 5s 10ms/step - loss: 10.1523 - val_loss: 4.3923\n",
            "Epoch 5/100\n",
            "466/466 [==============================] - 4s 10ms/step - loss: 9.8127 - val_loss: 4.6442\n"
          ]
        },
        {
          "output_type": "stream",
          "name": "stderr",
          "text": [
            "[I 2023-06-28 20:18:35,306] Trial 74 finished with value: 4.644157886505127 and parameters: {'n_units': 47, 'dropout_rate': 0.2579451320007779}. Best is trial 30 with value: 2.8309476375579834.\n"
          ]
        },
        {
          "output_type": "stream",
          "name": "stdout",
          "text": [
            "Epoch 1/100\n",
            "466/466 [==============================] - 8s 11ms/step - loss: 19.5394 - val_loss: 5.8921\n",
            "Epoch 2/100\n",
            "466/466 [==============================] - 4s 9ms/step - loss: 10.0341 - val_loss: 5.0711\n",
            "Epoch 3/100\n",
            "466/466 [==============================] - 6s 12ms/step - loss: 9.1384 - val_loss: 4.2767\n",
            "Epoch 4/100\n",
            "466/466 [==============================] - 4s 9ms/step - loss: 8.6485 - val_loss: 4.3441\n"
          ]
        },
        {
          "output_type": "stream",
          "name": "stderr",
          "text": [
            "[I 2023-06-28 20:18:58,458] Trial 75 finished with value: 4.344069957733154 and parameters: {'n_units': 81, 'dropout_rate': 0.2828362691090136}. Best is trial 30 with value: 2.8309476375579834.\n"
          ]
        },
        {
          "output_type": "stream",
          "name": "stdout",
          "text": [
            "Epoch 1/100\n",
            "466/466 [==============================] - 8s 13ms/step - loss: 18.3972 - val_loss: 7.0778\n",
            "Epoch 2/100\n",
            "466/466 [==============================] - 5s 10ms/step - loss: 9.0375 - val_loss: 5.4312\n",
            "Epoch 3/100\n",
            "466/466 [==============================] - 5s 10ms/step - loss: 8.0439 - val_loss: 4.6503\n",
            "Epoch 4/100\n",
            "466/466 [==============================] - 6s 12ms/step - loss: 7.6498 - val_loss: 4.1278\n",
            "Epoch 5/100\n",
            "466/466 [==============================] - 5s 10ms/step - loss: 7.2648 - val_loss: 3.5396\n",
            "Epoch 6/100\n",
            "466/466 [==============================] - 5s 10ms/step - loss: 7.0575 - val_loss: 3.6652\n"
          ]
        },
        {
          "output_type": "stream",
          "name": "stderr",
          "text": [
            "[I 2023-06-28 20:19:31,197] Trial 76 finished with value: 3.6651690006256104 and parameters: {'n_units': 100, 'dropout_rate': 0.24668910257419197}. Best is trial 30 with value: 2.8309476375579834.\n"
          ]
        },
        {
          "output_type": "stream",
          "name": "stdout",
          "text": [
            "Epoch 1/100\n",
            "466/466 [==============================] - 8s 14ms/step - loss: 19.0106 - val_loss: 6.2611\n",
            "Epoch 2/100\n",
            "466/466 [==============================] - 5s 10ms/step - loss: 9.1500 - val_loss: 5.1300\n",
            "Epoch 3/100\n",
            "466/466 [==============================] - 5s 10ms/step - loss: 8.1980 - val_loss: 4.7487\n",
            "Epoch 4/100\n",
            "466/466 [==============================] - 6s 12ms/step - loss: 7.7069 - val_loss: 4.1967\n",
            "Epoch 5/100\n",
            "466/466 [==============================] - 5s 10ms/step - loss: 7.4581 - val_loss: 3.5679\n",
            "Epoch 6/100\n",
            "466/466 [==============================] - 5s 12ms/step - loss: 7.1575 - val_loss: 3.3996\n",
            "Epoch 7/100\n",
            "466/466 [==============================] - 7s 15ms/step - loss: 7.0378 - val_loss: 3.1376\n",
            "Epoch 8/100\n",
            "466/466 [==============================] - 5s 10ms/step - loss: 6.8333 - val_loss: 3.0269\n",
            "Epoch 9/100\n",
            "466/466 [==============================] - 5s 10ms/step - loss: 6.6613 - val_loss: 3.0460\n"
          ]
        },
        {
          "output_type": "stream",
          "name": "stderr",
          "text": [
            "[I 2023-06-28 20:20:31,130] Trial 77 finished with value: 3.0460140705108643 and parameters: {'n_units': 89, 'dropout_rate': 0.23237660056676923}. Best is trial 30 with value: 2.8309476375579834.\n"
          ]
        },
        {
          "output_type": "stream",
          "name": "stdout",
          "text": [
            "Epoch 1/100\n",
            "466/466 [==============================] - 9s 13ms/step - loss: 19.5582 - val_loss: 6.1630\n",
            "Epoch 2/100\n",
            "466/466 [==============================] - 4s 10ms/step - loss: 9.3702 - val_loss: 5.1133\n",
            "Epoch 3/100\n",
            "466/466 [==============================] - 6s 13ms/step - loss: 8.5610 - val_loss: 5.3177\n"
          ]
        },
        {
          "output_type": "stream",
          "name": "stderr",
          "text": [
            "[I 2023-06-28 20:20:50,926] Trial 78 finished with value: 5.317654132843018 and parameters: {'n_units': 84, 'dropout_rate': 0.2352919693143796}. Best is trial 30 with value: 2.8309476375579834.\n"
          ]
        },
        {
          "output_type": "stream",
          "name": "stdout",
          "text": [
            "Epoch 1/100\n",
            "466/466 [==============================] - 7s 11ms/step - loss: 19.9227 - val_loss: 6.3789\n",
            "Epoch 2/100\n",
            "466/466 [==============================] - 6s 12ms/step - loss: 9.6896 - val_loss: 5.4043\n",
            "Epoch 3/100\n",
            "466/466 [==============================] - 5s 10ms/step - loss: 8.6777 - val_loss: 4.1117\n",
            "Epoch 4/100\n",
            "466/466 [==============================] - 5s 10ms/step - loss: 8.2144 - val_loss: 4.0699\n",
            "Epoch 5/100\n",
            "466/466 [==============================] - 6s 13ms/step - loss: 7.9301 - val_loss: 3.8431\n",
            "Epoch 6/100\n",
            "466/466 [==============================] - 5s 10ms/step - loss: 7.6763 - val_loss: 4.4667\n"
          ]
        },
        {
          "output_type": "stream",
          "name": "stderr",
          "text": [
            "[I 2023-06-28 20:21:23,991] Trial 79 finished with value: 4.466650009155273 and parameters: {'n_units': 88, 'dropout_rate': 0.26772511750318173}. Best is trial 30 with value: 2.8309476375579834.\n"
          ]
        },
        {
          "output_type": "stream",
          "name": "stdout",
          "text": [
            "Epoch 1/100\n",
            "466/466 [==============================] - 9s 14ms/step - loss: 18.8875 - val_loss: 5.9247\n",
            "Epoch 2/100\n",
            "466/466 [==============================] - 5s 10ms/step - loss: 9.4564 - val_loss: 4.7783\n",
            "Epoch 3/100\n",
            "466/466 [==============================] - 5s 10ms/step - loss: 8.6280 - val_loss: 4.5556\n",
            "Epoch 4/100\n",
            "466/466 [==============================] - 6s 13ms/step - loss: 8.1838 - val_loss: 4.5799\n"
          ]
        },
        {
          "output_type": "stream",
          "name": "stderr",
          "text": [
            "[I 2023-06-28 20:21:47,874] Trial 80 finished with value: 4.5799479484558105 and parameters: {'n_units': 76, 'dropout_rate': 0.2300682983180208}. Best is trial 30 with value: 2.8309476375579834.\n"
          ]
        },
        {
          "output_type": "stream",
          "name": "stdout",
          "text": [
            "Epoch 1/100\n",
            "466/466 [==============================] - 7s 11ms/step - loss: 18.4012 - val_loss: 6.4141\n",
            "Epoch 2/100\n",
            "466/466 [==============================] - 5s 12ms/step - loss: 9.3449 - val_loss: 4.7591\n",
            "Epoch 3/100\n",
            "466/466 [==============================] - 5s 10ms/step - loss: 8.4155 - val_loss: 4.2830\n",
            "Epoch 4/100\n",
            "466/466 [==============================] - 5s 10ms/step - loss: 7.9666 - val_loss: 4.5443\n"
          ]
        },
        {
          "output_type": "stream",
          "name": "stderr",
          "text": [
            "[I 2023-06-28 20:22:10,272] Trial 81 finished with value: 4.544332027435303 and parameters: {'n_units': 93, 'dropout_rate': 0.26012041991314233}. Best is trial 30 with value: 2.8309476375579834.\n"
          ]
        },
        {
          "output_type": "stream",
          "name": "stdout",
          "text": [
            "Epoch 1/100\n",
            "466/466 [==============================] - 9s 12ms/step - loss: 18.6104 - val_loss: 6.0812\n",
            "Epoch 2/100\n",
            "466/466 [==============================] - 5s 10ms/step - loss: 9.2698 - val_loss: 4.9644\n",
            "Epoch 3/100\n",
            "466/466 [==============================] - 6s 12ms/step - loss: 8.4970 - val_loss: 5.2751\n"
          ]
        },
        {
          "output_type": "stream",
          "name": "stderr",
          "text": [
            "[I 2023-06-28 20:22:29,358] Trial 82 finished with value: 5.275130748748779 and parameters: {'n_units': 90, 'dropout_rate': 0.24487918263923172}. Best is trial 30 with value: 2.8309476375579834.\n"
          ]
        },
        {
          "output_type": "stream",
          "name": "stdout",
          "text": [
            "Epoch 1/100\n",
            "466/466 [==============================] - 8s 12ms/step - loss: 18.5876 - val_loss: 6.4119\n",
            "Epoch 2/100\n",
            "466/466 [==============================] - 6s 12ms/step - loss: 9.6769 - val_loss: 4.8087\n",
            "Epoch 3/100\n",
            "466/466 [==============================] - 4s 10ms/step - loss: 8.8181 - val_loss: 4.5859\n",
            "Epoch 4/100\n",
            "466/466 [==============================] - 5s 11ms/step - loss: 8.3216 - val_loss: 3.9666\n",
            "Epoch 5/100\n",
            "466/466 [==============================] - 5s 11ms/step - loss: 7.9917 - val_loss: 4.0597\n"
          ]
        },
        {
          "output_type": "stream",
          "name": "stderr",
          "text": [
            "[I 2023-06-28 20:23:01,046] Trial 83 finished with value: 4.059733867645264 and parameters: {'n_units': 95, 'dropout_rate': 0.2907734374767938}. Best is trial 30 with value: 2.8309476375579834.\n"
          ]
        },
        {
          "output_type": "stream",
          "name": "stdout",
          "text": [
            "Epoch 1/100\n",
            "466/466 [==============================] - 9s 12ms/step - loss: 18.8727 - val_loss: 6.3612\n",
            "Epoch 2/100\n",
            "466/466 [==============================] - 5s 12ms/step - loss: 9.0140 - val_loss: 4.7499\n",
            "Epoch 3/100\n",
            "466/466 [==============================] - 5s 10ms/step - loss: 8.1347 - val_loss: 4.3927\n",
            "Epoch 4/100\n",
            "466/466 [==============================] - 5s 11ms/step - loss: 7.6567 - val_loss: 4.0827\n",
            "Epoch 5/100\n",
            "466/466 [==============================] - 5s 11ms/step - loss: 7.2893 - val_loss: 3.7688\n",
            "Epoch 6/100\n",
            "466/466 [==============================] - 5s 11ms/step - loss: 7.0830 - val_loss: 4.0970\n"
          ]
        },
        {
          "output_type": "stream",
          "name": "stderr",
          "text": [
            "[I 2023-06-28 20:23:35,505] Trial 84 finished with value: 4.096972465515137 and parameters: {'n_units': 87, 'dropout_rate': 0.21107231524912104}. Best is trial 30 with value: 2.8309476375579834.\n"
          ]
        },
        {
          "output_type": "stream",
          "name": "stdout",
          "text": [
            "Epoch 1/100\n",
            "466/466 [==============================] - 8s 13ms/step - loss: 20.3509 - val_loss: 8.0002\n",
            "Epoch 2/100\n",
            "466/466 [==============================] - 5s 10ms/step - loss: 10.7032 - val_loss: 5.2244\n",
            "Epoch 3/100\n",
            "466/466 [==============================] - 4s 9ms/step - loss: 9.9336 - val_loss: 5.2303\n"
          ]
        },
        {
          "output_type": "stream",
          "name": "stderr",
          "text": [
            "[I 2023-06-28 20:24:02,462] Trial 85 finished with value: 5.230323791503906 and parameters: {'n_units': 66, 'dropout_rate': 0.27549978736533165}. Best is trial 30 with value: 2.8309476375579834.\n"
          ]
        },
        {
          "output_type": "stream",
          "name": "stdout",
          "text": [
            "Epoch 1/100\n",
            "466/466 [==============================] - 9s 12ms/step - loss: 18.1869 - val_loss: 7.4391\n",
            "Epoch 2/100\n",
            "466/466 [==============================] - 5s 10ms/step - loss: 9.2178 - val_loss: 5.0420\n",
            "Epoch 3/100\n",
            "466/466 [==============================] - 5s 12ms/step - loss: 8.1942 - val_loss: 4.3522\n",
            "Epoch 4/100\n",
            "466/466 [==============================] - 5s 10ms/step - loss: 7.7754 - val_loss: 3.5291\n",
            "Epoch 5/100\n",
            "466/466 [==============================] - 4s 10ms/step - loss: 7.4326 - val_loss: 3.3734\n",
            "Epoch 6/100\n",
            "466/466 [==============================] - 6s 12ms/step - loss: 7.1537 - val_loss: 4.2199\n"
          ]
        },
        {
          "output_type": "stream",
          "name": "stderr",
          "text": [
            "[I 2023-06-28 20:24:36,071] Trial 86 finished with value: 4.219949722290039 and parameters: {'n_units': 92, 'dropout_rate': 0.2422019918048522}. Best is trial 30 with value: 2.8309476375579834.\n"
          ]
        },
        {
          "output_type": "stream",
          "name": "stdout",
          "text": [
            "Epoch 1/100\n",
            "466/466 [==============================] - 7s 11ms/step - loss: 17.8796 - val_loss: 6.3526\n",
            "Epoch 2/100\n",
            "466/466 [==============================] - 5s 12ms/step - loss: 8.7861 - val_loss: 4.6700\n",
            "Epoch 3/100\n",
            "466/466 [==============================] - 5s 11ms/step - loss: 7.8585 - val_loss: 4.1213\n",
            "Epoch 4/100\n",
            "466/466 [==============================] - 5s 10ms/step - loss: 7.4109 - val_loss: 4.1658\n"
          ]
        },
        {
          "output_type": "stream",
          "name": "stderr",
          "text": [
            "[I 2023-06-28 20:24:58,780] Trial 87 finished with value: 4.165802955627441 and parameters: {'n_units': 98, 'dropout_rate': 0.23006014096604888}. Best is trial 30 with value: 2.8309476375579834.\n"
          ]
        },
        {
          "output_type": "stream",
          "name": "stdout",
          "text": [
            "Epoch 1/100\n",
            "466/466 [==============================] - 8s 12ms/step - loss: 19.9582 - val_loss: 6.3814\n",
            "Epoch 2/100\n",
            "466/466 [==============================] - 5s 11ms/step - loss: 10.0233 - val_loss: 4.9020\n",
            "Epoch 3/100\n",
            "466/466 [==============================] - 4s 9ms/step - loss: 9.2176 - val_loss: 4.7004\n",
            "Epoch 4/100\n",
            "466/466 [==============================] - 5s 11ms/step - loss: 8.7273 - val_loss: 4.1535\n",
            "Epoch 5/100\n",
            "466/466 [==============================] - 5s 11ms/step - loss: 8.3982 - val_loss: 4.2810\n"
          ]
        },
        {
          "output_type": "stream",
          "name": "stderr",
          "text": [
            "[I 2023-06-28 20:25:46,399] Trial 88 finished with value: 4.281034469604492 and parameters: {'n_units': 72, 'dropout_rate': 0.2612811625141671}. Best is trial 30 with value: 2.8309476375579834.\n"
          ]
        },
        {
          "output_type": "stream",
          "name": "stdout",
          "text": [
            "Epoch 1/100\n",
            "466/466 [==============================] - 8s 12ms/step - loss: 21.5488 - val_loss: 6.6730\n",
            "Epoch 2/100\n",
            "466/466 [==============================] - 5s 11ms/step - loss: 9.6379 - val_loss: 4.7789\n",
            "Epoch 3/100\n",
            "466/466 [==============================] - 4s 9ms/step - loss: 8.6600 - val_loss: 5.0038\n"
          ]
        },
        {
          "output_type": "stream",
          "name": "stderr",
          "text": [
            "[I 2023-06-28 20:26:04,536] Trial 89 finished with value: 5.00380802154541 and parameters: {'n_units': 83, 'dropout_rate': 0.2536670639695563}. Best is trial 30 with value: 2.8309476375579834.\n"
          ]
        },
        {
          "output_type": "stream",
          "name": "stdout",
          "text": [
            "Epoch 1/100\n",
            "466/466 [==============================] - 8s 13ms/step - loss: 17.6518 - val_loss: 6.3106\n",
            "Epoch 2/100\n",
            "466/466 [==============================] - 5s 10ms/step - loss: 8.8294 - val_loss: 5.3480\n",
            "Epoch 3/100\n",
            "466/466 [==============================] - 5s 10ms/step - loss: 7.9219 - val_loss: 4.1637\n",
            "Epoch 4/100\n",
            "466/466 [==============================] - 5s 11ms/step - loss: 7.4125 - val_loss: 3.4696\n",
            "Epoch 5/100\n",
            "466/466 [==============================] - 4s 10ms/step - loss: 7.0343 - val_loss: 3.5860\n"
          ]
        },
        {
          "output_type": "stream",
          "name": "stderr",
          "text": [
            "[I 2023-06-28 20:26:32,443] Trial 90 finished with value: 3.5860204696655273 and parameters: {'n_units': 90, 'dropout_rate': 0.2166651344269287}. Best is trial 30 with value: 2.8309476375579834.\n"
          ]
        },
        {
          "output_type": "stream",
          "name": "stdout",
          "text": [
            "Epoch 1/100\n",
            "466/466 [==============================] - 8s 13ms/step - loss: 18.7226 - val_loss: 6.1585\n",
            "Epoch 2/100\n",
            "466/466 [==============================] - 4s 9ms/step - loss: 9.0520 - val_loss: 5.3610\n",
            "Epoch 3/100\n",
            "466/466 [==============================] - 4s 10ms/step - loss: 8.2151 - val_loss: 4.8645\n",
            "Epoch 4/100\n",
            "466/466 [==============================] - 8s 16ms/step - loss: 7.7405 - val_loss: 4.0698\n",
            "Epoch 5/100\n",
            "466/466 [==============================] - 5s 10ms/step - loss: 7.4147 - val_loss: 3.6909\n",
            "Epoch 6/100\n",
            "466/466 [==============================] - 5s 10ms/step - loss: 7.1696 - val_loss: 4.7432\n"
          ]
        },
        {
          "output_type": "stream",
          "name": "stderr",
          "text": [
            "[I 2023-06-28 20:27:06,817] Trial 91 finished with value: 4.743156909942627 and parameters: {'n_units': 96, 'dropout_rate': 0.2405937841614373}. Best is trial 30 with value: 2.8309476375579834.\n"
          ]
        },
        {
          "output_type": "stream",
          "name": "stdout",
          "text": [
            "Epoch 1/100\n",
            "466/466 [==============================] - 8s 13ms/step - loss: 18.6526 - val_loss: 6.5297\n",
            "Epoch 2/100\n",
            "466/466 [==============================] - 5s 10ms/step - loss: 8.7372 - val_loss: 4.9144\n",
            "Epoch 3/100\n",
            "466/466 [==============================] - 5s 10ms/step - loss: 7.7756 - val_loss: 4.2509\n",
            "Epoch 4/100\n",
            "466/466 [==============================] - 6s 12ms/step - loss: 7.2715 - val_loss: 4.2830\n"
          ]
        },
        {
          "output_type": "stream",
          "name": "stderr",
          "text": [
            "[I 2023-06-28 20:27:38,716] Trial 92 finished with value: 4.283019542694092 and parameters: {'n_units': 94, 'dropout_rate': 0.20388779071124258}. Best is trial 30 with value: 2.8309476375579834.\n"
          ]
        },
        {
          "output_type": "stream",
          "name": "stdout",
          "text": [
            "Epoch 1/100\n",
            "466/466 [==============================] - 8s 13ms/step - loss: 19.5412 - val_loss: 7.0719\n",
            "Epoch 2/100\n",
            "466/466 [==============================] - 5s 10ms/step - loss: 9.5022 - val_loss: 5.8073\n",
            "Epoch 3/100\n",
            "466/466 [==============================] - 5s 10ms/step - loss: 8.6031 - val_loss: 4.3722\n",
            "Epoch 4/100\n",
            "466/466 [==============================] - 6s 12ms/step - loss: 8.0966 - val_loss: 3.8275\n",
            "Epoch 5/100\n",
            "466/466 [==============================] - 5s 10ms/step - loss: 7.7398 - val_loss: 3.3996\n",
            "Epoch 6/100\n",
            "466/466 [==============================] - 5s 10ms/step - loss: 7.5554 - val_loss: 4.2603\n"
          ]
        },
        {
          "output_type": "stream",
          "name": "stderr",
          "text": [
            "[I 2023-06-28 20:28:30,747] Trial 93 finished with value: 4.26029109954834 and parameters: {'n_units': 99, 'dropout_rate': 0.2855278679013076}. Best is trial 30 with value: 2.8309476375579834.\n"
          ]
        },
        {
          "output_type": "stream",
          "name": "stdout",
          "text": [
            "Epoch 1/100\n",
            "466/466 [==============================] - 8s 12ms/step - loss: 18.0533 - val_loss: 6.4051\n",
            "Epoch 2/100\n",
            "466/466 [==============================] - 5s 10ms/step - loss: 9.2118 - val_loss: 4.8800\n",
            "Epoch 3/100\n",
            "466/466 [==============================] - 5s 11ms/step - loss: 8.3018 - val_loss: 4.9114\n"
          ]
        },
        {
          "output_type": "stream",
          "name": "stderr",
          "text": [
            "[I 2023-06-28 20:28:59,258] Trial 94 finished with value: 4.911394119262695 and parameters: {'n_units': 85, 'dropout_rate': 0.22898278435649266}. Best is trial 30 with value: 2.8309476375579834.\n"
          ]
        },
        {
          "output_type": "stream",
          "name": "stdout",
          "text": [
            "Epoch 1/100\n",
            "466/466 [==============================] - 8s 11ms/step - loss: 17.9249 - val_loss: 7.2827\n",
            "Epoch 2/100\n",
            "466/466 [==============================] - 5s 11ms/step - loss: 8.9239 - val_loss: 5.1078\n",
            "Epoch 3/100\n",
            "466/466 [==============================] - 5s 11ms/step - loss: 8.0660 - val_loss: 4.8677\n",
            "Epoch 4/100\n",
            "466/466 [==============================] - 4s 9ms/step - loss: 7.5365 - val_loss: 4.0277\n",
            "Epoch 5/100\n",
            "466/466 [==============================] - 5s 11ms/step - loss: 7.2261 - val_loss: 3.5195\n",
            "Epoch 6/100\n",
            "466/466 [==============================] - 5s 11ms/step - loss: 6.9643 - val_loss: 3.4182\n",
            "Epoch 7/100\n",
            "466/466 [==============================] - 5s 10ms/step - loss: 6.8645 - val_loss: 2.9837\n",
            "Epoch 8/100\n",
            "466/466 [==============================] - 5s 11ms/step - loss: 6.6371 - val_loss: 3.0873\n"
          ]
        },
        {
          "output_type": "stream",
          "name": "stderr",
          "text": [
            "[I 2023-06-28 20:29:42,790] Trial 95 finished with value: 3.0873007774353027 and parameters: {'n_units': 89, 'dropout_rate': 0.21355134773832946}. Best is trial 30 with value: 2.8309476375579834.\n"
          ]
        },
        {
          "output_type": "stream",
          "name": "stdout",
          "text": [
            "Epoch 1/100\n",
            "466/466 [==============================] - 7s 11ms/step - loss: 20.5022 - val_loss: 6.3624\n",
            "Epoch 2/100\n",
            "466/466 [==============================] - 5s 11ms/step - loss: 10.1521 - val_loss: 5.4294\n",
            "Epoch 3/100\n",
            "466/466 [==============================] - 5s 11ms/step - loss: 9.1930 - val_loss: 4.2897\n",
            "Epoch 4/100\n",
            "466/466 [==============================] - 6s 12ms/step - loss: 8.6529 - val_loss: 4.1611\n",
            "Epoch 5/100\n",
            "466/466 [==============================] - 6s 12ms/step - loss: 8.3197 - val_loss: 3.7975\n",
            "Epoch 6/100\n",
            "466/466 [==============================] - 5s 10ms/step - loss: 8.0139 - val_loss: 3.8075\n"
          ]
        },
        {
          "output_type": "stream",
          "name": "stderr",
          "text": [
            "[I 2023-06-28 20:30:16,609] Trial 96 finished with value: 3.8074629306793213 and parameters: {'n_units': 79, 'dropout_rate': 0.27288218665719766}. Best is trial 30 with value: 2.8309476375579834.\n"
          ]
        },
        {
          "output_type": "stream",
          "name": "stdout",
          "text": [
            "Epoch 1/100\n",
            "466/466 [==============================] - 8s 12ms/step - loss: 18.3545 - val_loss: 5.8654\n",
            "Epoch 2/100\n",
            "466/466 [==============================] - 5s 11ms/step - loss: 8.9187 - val_loss: 4.7671\n",
            "Epoch 3/100\n",
            "466/466 [==============================] - 4s 9ms/step - loss: 8.0529 - val_loss: 4.0602\n",
            "Epoch 4/100\n",
            "466/466 [==============================] - 5s 11ms/step - loss: 7.5176 - val_loss: 3.9904\n",
            "Epoch 5/100\n",
            "466/466 [==============================] - 5s 10ms/step - loss: 7.2035 - val_loss: 3.2993\n",
            "Epoch 6/100\n",
            "466/466 [==============================] - 4s 10ms/step - loss: 6.9322 - val_loss: 3.6588\n"
          ]
        },
        {
          "output_type": "stream",
          "name": "stderr",
          "text": [
            "[I 2023-06-28 20:30:48,596] Trial 97 finished with value: 3.6587657928466797 and parameters: {'n_units': 82, 'dropout_rate': 0.21102619143223483}. Best is trial 30 with value: 2.8309476375579834.\n"
          ]
        },
        {
          "output_type": "stream",
          "name": "stdout",
          "text": [
            "Epoch 1/100\n",
            "466/466 [==============================] - 8s 13ms/step - loss: 19.3622 - val_loss: 6.1831\n",
            "Epoch 2/100\n",
            "466/466 [==============================] - 4s 9ms/step - loss: 9.5655 - val_loss: 5.3340\n",
            "Epoch 3/100\n",
            "466/466 [==============================] - 4s 10ms/step - loss: 8.6439 - val_loss: 4.8375\n",
            "Epoch 4/100\n",
            "466/466 [==============================] - 6s 12ms/step - loss: 8.1584 - val_loss: 3.8764\n",
            "Epoch 5/100\n",
            "466/466 [==============================] - 4s 9ms/step - loss: 7.7621 - val_loss: 4.0178\n"
          ]
        },
        {
          "output_type": "stream",
          "name": "stderr",
          "text": [
            "[I 2023-06-28 20:31:27,067] Trial 98 finished with value: 4.0177788734436035 and parameters: {'n_units': 88, 'dropout_rate': 0.25087683760209756}. Best is trial 30 with value: 2.8309476375579834.\n"
          ]
        },
        {
          "output_type": "stream",
          "name": "stdout",
          "text": [
            "Epoch 1/100\n",
            "466/466 [==============================] - 8s 13ms/step - loss: 18.5944 - val_loss: 6.1899\n",
            "Epoch 2/100\n",
            "466/466 [==============================] - 5s 10ms/step - loss: 9.7936 - val_loss: 5.3008\n",
            "Epoch 3/100\n",
            "466/466 [==============================] - 4s 10ms/step - loss: 8.8866 - val_loss: 4.5130\n",
            "Epoch 4/100\n",
            "466/466 [==============================] - 6s 12ms/step - loss: 8.3975 - val_loss: 3.7553\n",
            "Epoch 5/100\n",
            "466/466 [==============================] - 5s 10ms/step - loss: 8.0473 - val_loss: 3.9465\n"
          ]
        },
        {
          "output_type": "stream",
          "name": "stderr",
          "text": [
            "[I 2023-06-28 20:31:54,880] Trial 99 finished with value: 3.946481943130493 and parameters: {'n_units': 91, 'dropout_rate': 0.2973960245078686}. Best is trial 30 with value: 2.8309476375579834.\n"
          ]
        },
        {
          "output_type": "stream",
          "name": "stdout",
          "text": [
            "Best Hyperparameters: {'n_units': 85, 'dropout_rate': 0.22534758805513347}\n",
            "Best Objective Value: 2.8309476375579834\n"
          ]
        }
      ]
    },
    {
      "cell_type": "code",
      "source": [
        "# Expanded Long-Short Term Memory Model with the hyperparameters from Optuna\n",
        "np.random.seed(42)\n",
        "tf.random.set_seed(42)\n",
        "\n",
        "number_of_LSTM_units = 85 #best hyperparameter value from optuna\n",
        "dropout_rate = 0.22 #best hyperparameter value from optuna\n",
        "model_LSTM_85_units_22_dropout_500_epochs = keras.models.Sequential([\n",
        "    keras.layers.LSTM(number_of_LSTM_units, return_sequences=True, input_shape=[None, 2]),\n",
        "    keras.layers.Dropout(dropout_rate),\n",
        "    keras.layers.TimeDistributed(keras.layers.Dense(1))\n",
        "])\n",
        "\n",
        "model_LSTM_85_units_22_dropout_500_epochs.compile(loss=\"mape\", optimizer=\"adam\")\n",
        "history_model_LSTM_85_units_22_dropout_500_epochs = model_LSTM_85_units_22_dropout_500_epochs.fit(X_train, Y_train, epochs=500,\n",
        "                    validation_data=(X_val, Y_val))\n"
      ],
      "metadata": {
        "colab": {
          "base_uri": "https://localhost:8080/"
        },
        "id": "90wXRO_E23kW",
        "outputId": "3cf42767-3a1e-4cac-ddbc-6444b11d97b6"
      },
      "execution_count": null,
      "outputs": [
        {
          "output_type": "stream",
          "name": "stdout",
          "text": [
            "Epoch 1/500\n",
            "466/466 [==============================] - 8s 13ms/step - loss: 18.4053 - val_loss: 6.6236\n",
            "Epoch 2/500\n",
            "466/466 [==============================] - 5s 11ms/step - loss: 9.0713 - val_loss: 4.6867\n",
            "Epoch 3/500\n",
            "466/466 [==============================] - 5s 10ms/step - loss: 8.2640 - val_loss: 4.1767\n",
            "Epoch 4/500\n",
            "466/466 [==============================] - 4s 9ms/step - loss: 7.7740 - val_loss: 3.7154\n",
            "Epoch 5/500\n",
            "466/466 [==============================] - 5s 10ms/step - loss: 7.4418 - val_loss: 3.9720\n",
            "Epoch 6/500\n",
            "466/466 [==============================] - 5s 10ms/step - loss: 7.1953 - val_loss: 3.6438\n",
            "Epoch 7/500\n",
            "466/466 [==============================] - 4s 9ms/step - loss: 7.0516 - val_loss: 3.0464\n",
            "Epoch 8/500\n",
            "466/466 [==============================] - 5s 11ms/step - loss: 6.8674 - val_loss: 3.0546\n",
            "Epoch 9/500\n",
            "466/466 [==============================] - 5s 10ms/step - loss: 6.6807 - val_loss: 3.5153\n",
            "Epoch 10/500\n",
            "466/466 [==============================] - 4s 9ms/step - loss: 6.5863 - val_loss: 2.7996\n",
            "Epoch 11/500\n",
            "466/466 [==============================] - 5s 10ms/step - loss: 6.4830 - val_loss: 2.5708\n",
            "Epoch 12/500\n",
            "466/466 [==============================] - 5s 10ms/step - loss: 6.3937 - val_loss: 3.0324\n",
            "Epoch 13/500\n",
            "466/466 [==============================] - 4s 9ms/step - loss: 6.3463 - val_loss: 3.2843\n",
            "Epoch 14/500\n",
            "466/466 [==============================] - 5s 11ms/step - loss: 6.2517 - val_loss: 3.2892\n",
            "Epoch 15/500\n",
            "466/466 [==============================] - 5s 10ms/step - loss: 6.1738 - val_loss: 2.3210\n",
            "Epoch 16/500\n",
            "466/466 [==============================] - 4s 9ms/step - loss: 6.1886 - val_loss: 2.5226\n",
            "Epoch 17/500\n",
            "466/466 [==============================] - 5s 10ms/step - loss: 6.0808 - val_loss: 2.7284\n",
            "Epoch 18/500\n",
            "466/466 [==============================] - 5s 10ms/step - loss: 6.0944 - val_loss: 2.5983\n",
            "Epoch 19/500\n",
            "466/466 [==============================] - 4s 9ms/step - loss: 6.0314 - val_loss: 2.5622\n",
            "Epoch 20/500\n",
            "466/466 [==============================] - 5s 10ms/step - loss: 5.9898 - val_loss: 1.9580\n",
            "Epoch 21/500\n",
            "466/466 [==============================] - 5s 11ms/step - loss: 5.9819 - val_loss: 2.1604\n",
            "Epoch 22/500\n",
            "466/466 [==============================] - 4s 9ms/step - loss: 5.9542 - val_loss: 3.0026\n",
            "Epoch 23/500\n",
            "466/466 [==============================] - 5s 10ms/step - loss: 5.9776 - val_loss: 2.5798\n",
            "Epoch 24/500\n",
            "466/466 [==============================] - 5s 10ms/step - loss: 5.9072 - val_loss: 2.1484\n",
            "Epoch 25/500\n",
            "466/466 [==============================] - 4s 9ms/step - loss: 5.8720 - val_loss: 2.3069\n",
            "Epoch 26/500\n",
            "466/466 [==============================] - 5s 11ms/step - loss: 5.9465 - val_loss: 2.8682\n",
            "Epoch 27/500\n",
            "466/466 [==============================] - 5s 10ms/step - loss: 5.8404 - val_loss: 2.4141\n",
            "Epoch 28/500\n",
            "466/466 [==============================] - 4s 9ms/step - loss: 5.8699 - val_loss: 2.9822\n",
            "Epoch 29/500\n",
            "466/466 [==============================] - 5s 11ms/step - loss: 5.8552 - val_loss: 1.8962\n",
            "Epoch 30/500\n",
            "466/466 [==============================] - 5s 10ms/step - loss: 5.8138 - val_loss: 2.1166\n",
            "Epoch 31/500\n",
            "466/466 [==============================] - 4s 9ms/step - loss: 5.8033 - val_loss: 2.2786\n",
            "Epoch 32/500\n",
            "466/466 [==============================] - 5s 11ms/step - loss: 5.8206 - val_loss: 3.1011\n",
            "Epoch 33/500\n",
            "466/466 [==============================] - 5s 10ms/step - loss: 5.7592 - val_loss: 2.5354\n",
            "Epoch 34/500\n",
            "466/466 [==============================] - 4s 9ms/step - loss: 5.7851 - val_loss: 1.9092\n",
            "Epoch 35/500\n",
            "466/466 [==============================] - 5s 11ms/step - loss: 5.7537 - val_loss: 2.2707\n",
            "Epoch 36/500\n",
            "466/466 [==============================] - 5s 10ms/step - loss: 5.7558 - val_loss: 1.9321\n",
            "Epoch 37/500\n",
            "466/466 [==============================] - 4s 9ms/step - loss: 5.7399 - val_loss: 1.8224\n",
            "Epoch 38/500\n",
            "466/466 [==============================] - 5s 10ms/step - loss: 5.7298 - val_loss: 1.7590\n",
            "Epoch 39/500\n",
            "466/466 [==============================] - 5s 11ms/step - loss: 5.6833 - val_loss: 2.3601\n",
            "Epoch 40/500\n",
            "466/466 [==============================] - 4s 9ms/step - loss: 5.7202 - val_loss: 2.3447\n",
            "Epoch 41/500\n",
            "466/466 [==============================] - 6s 13ms/step - loss: 5.6860 - val_loss: 1.9570\n",
            "Epoch 42/500\n",
            "466/466 [==============================] - 5s 10ms/step - loss: 5.6881 - val_loss: 1.9721\n",
            "Epoch 43/500\n",
            "466/466 [==============================] - 4s 9ms/step - loss: 5.6624 - val_loss: 3.0129\n",
            "Epoch 44/500\n",
            "466/466 [==============================] - 5s 11ms/step - loss: 5.6956 - val_loss: 2.1755\n",
            "Epoch 45/500\n",
            "466/466 [==============================] - 5s 10ms/step - loss: 5.6328 - val_loss: 2.4060\n",
            "Epoch 46/500\n",
            "466/466 [==============================] - 4s 9ms/step - loss: 5.6921 - val_loss: 2.1758\n",
            "Epoch 47/500\n",
            "466/466 [==============================] - 5s 11ms/step - loss: 5.6421 - val_loss: 2.4002\n",
            "Epoch 48/500\n",
            "466/466 [==============================] - 5s 10ms/step - loss: 5.6334 - val_loss: 2.2541\n",
            "Epoch 49/500\n",
            "466/466 [==============================] - 4s 9ms/step - loss: 5.6399 - val_loss: 2.4141\n",
            "Epoch 50/500\n",
            "466/466 [==============================] - 5s 11ms/step - loss: 5.6425 - val_loss: 1.9929\n",
            "Epoch 51/500\n",
            "466/466 [==============================] - 5s 10ms/step - loss: 5.6388 - val_loss: 2.1538\n",
            "Epoch 52/500\n",
            "466/466 [==============================] - 4s 9ms/step - loss: 5.6125 - val_loss: 2.4822\n",
            "Epoch 53/500\n",
            "466/466 [==============================] - 5s 11ms/step - loss: 5.6021 - val_loss: 1.9658\n",
            "Epoch 54/500\n",
            "466/466 [==============================] - 5s 10ms/step - loss: 5.6065 - val_loss: 1.9116\n",
            "Epoch 55/500\n",
            "466/466 [==============================] - 4s 9ms/step - loss: 5.6178 - val_loss: 1.9191\n",
            "Epoch 56/500\n",
            "466/466 [==============================] - 5s 11ms/step - loss: 5.6095 - val_loss: 2.0536\n",
            "Epoch 57/500\n",
            "466/466 [==============================] - 5s 10ms/step - loss: 5.5977 - val_loss: 2.2374\n",
            "Epoch 58/500\n",
            "466/466 [==============================] - 4s 9ms/step - loss: 5.5975 - val_loss: 1.9278\n",
            "Epoch 59/500\n",
            "466/466 [==============================] - 5s 11ms/step - loss: 5.5741 - val_loss: 1.8742\n",
            "Epoch 60/500\n",
            "466/466 [==============================] - 5s 10ms/step - loss: 5.6078 - val_loss: 1.8673\n",
            "Epoch 61/500\n",
            "466/466 [==============================] - 4s 9ms/step - loss: 5.6035 - val_loss: 1.6973\n",
            "Epoch 62/500\n",
            "466/466 [==============================] - 5s 11ms/step - loss: 5.5692 - val_loss: 2.3571\n",
            "Epoch 63/500\n",
            "466/466 [==============================] - 5s 10ms/step - loss: 5.5861 - val_loss: 1.7941\n",
            "Epoch 64/500\n",
            "466/466 [==============================] - 4s 9ms/step - loss: 5.5703 - val_loss: 1.7500\n",
            "Epoch 65/500\n",
            "466/466 [==============================] - 5s 11ms/step - loss: 5.5535 - val_loss: 2.1199\n",
            "Epoch 66/500\n",
            "466/466 [==============================] - 5s 10ms/step - loss: 5.5606 - val_loss: 1.9463\n",
            "Epoch 67/500\n",
            "466/466 [==============================] - 4s 9ms/step - loss: 5.5502 - val_loss: 1.8797\n",
            "Epoch 68/500\n",
            "466/466 [==============================] - 5s 11ms/step - loss: 5.5368 - val_loss: 2.2077\n",
            "Epoch 69/500\n",
            "466/466 [==============================] - 5s 10ms/step - loss: 5.5401 - val_loss: 2.2671\n",
            "Epoch 70/500\n",
            "466/466 [==============================] - 4s 9ms/step - loss: 5.5534 - val_loss: 1.8998\n",
            "Epoch 71/500\n",
            "466/466 [==============================] - 5s 11ms/step - loss: 5.5476 - val_loss: 2.4672\n",
            "Epoch 72/500\n",
            "466/466 [==============================] - 5s 10ms/step - loss: 5.5156 - val_loss: 1.9758\n",
            "Epoch 73/500\n",
            "466/466 [==============================] - 4s 9ms/step - loss: 5.5292 - val_loss: 1.9206\n",
            "Epoch 74/500\n",
            "466/466 [==============================] - 5s 11ms/step - loss: 5.5495 - val_loss: 1.9317\n",
            "Epoch 75/500\n",
            "466/466 [==============================] - 5s 10ms/step - loss: 5.5173 - val_loss: 1.6646\n",
            "Epoch 76/500\n",
            "466/466 [==============================] - 4s 9ms/step - loss: 5.5179 - val_loss: 2.1914\n",
            "Epoch 77/500\n",
            "466/466 [==============================] - 5s 10ms/step - loss: 5.5322 - val_loss: 1.8710\n",
            "Epoch 78/500\n",
            "466/466 [==============================] - 5s 11ms/step - loss: 5.5093 - val_loss: 2.2789\n",
            "Epoch 79/500\n",
            "466/466 [==============================] - 4s 9ms/step - loss: 5.5027 - val_loss: 2.3179\n",
            "Epoch 80/500\n",
            "466/466 [==============================] - 6s 12ms/step - loss: 5.5251 - val_loss: 2.1512\n",
            "Epoch 81/500\n",
            "466/466 [==============================] - 6s 13ms/step - loss: 5.5177 - val_loss: 2.0928\n",
            "Epoch 82/500\n",
            "466/466 [==============================] - 4s 9ms/step - loss: 5.4898 - val_loss: 2.4131\n",
            "Epoch 83/500\n",
            "466/466 [==============================] - 5s 10ms/step - loss: 5.5117 - val_loss: 1.6999\n",
            "Epoch 84/500\n",
            "466/466 [==============================] - 5s 12ms/step - loss: 5.4879 - val_loss: 1.6457\n",
            "Epoch 85/500\n",
            "466/466 [==============================] - 5s 10ms/step - loss: 5.5007 - val_loss: 1.7574\n",
            "Epoch 86/500\n",
            "466/466 [==============================] - 5s 11ms/step - loss: 5.4969 - val_loss: 2.0156\n",
            "Epoch 87/500\n",
            "466/466 [==============================] - 5s 11ms/step - loss: 5.4950 - val_loss: 1.6736\n",
            "Epoch 88/500\n",
            "466/466 [==============================] - 4s 10ms/step - loss: 5.5065 - val_loss: 1.9788\n",
            "Epoch 89/500\n",
            "466/466 [==============================] - 5s 11ms/step - loss: 5.4749 - val_loss: 1.9695\n",
            "Epoch 90/500\n",
            "466/466 [==============================] - 5s 11ms/step - loss: 5.4664 - val_loss: 1.7056\n",
            "Epoch 91/500\n",
            "466/466 [==============================] - 4s 10ms/step - loss: 5.4756 - val_loss: 2.0125\n",
            "Epoch 92/500\n",
            "466/466 [==============================] - 5s 11ms/step - loss: 5.4704 - val_loss: 1.7927\n",
            "Epoch 93/500\n",
            "466/466 [==============================] - 5s 10ms/step - loss: 5.5140 - val_loss: 1.8456\n",
            "Epoch 94/500\n",
            "466/466 [==============================] - 4s 9ms/step - loss: 5.4692 - val_loss: 1.9461\n",
            "Epoch 95/500\n",
            "466/466 [==============================] - 5s 11ms/step - loss: 5.5024 - val_loss: 1.7372\n",
            "Epoch 96/500\n",
            "466/466 [==============================] - 5s 10ms/step - loss: 5.4695 - val_loss: 1.6686\n",
            "Epoch 97/500\n",
            "466/466 [==============================] - 4s 9ms/step - loss: 5.4560 - val_loss: 1.7910\n",
            "Epoch 98/500\n",
            "466/466 [==============================] - 5s 11ms/step - loss: 5.4797 - val_loss: 1.6312\n",
            "Epoch 99/500\n",
            "466/466 [==============================] - 5s 10ms/step - loss: 5.4674 - val_loss: 1.7479\n",
            "Epoch 100/500\n",
            "466/466 [==============================] - 4s 9ms/step - loss: 5.4460 - val_loss: 1.9532\n",
            "Epoch 101/500\n",
            "466/466 [==============================] - 5s 11ms/step - loss: 5.4395 - val_loss: 1.7727\n",
            "Epoch 102/500\n",
            "466/466 [==============================] - 5s 10ms/step - loss: 5.4676 - val_loss: 1.9792\n",
            "Epoch 103/500\n",
            "466/466 [==============================] - 4s 9ms/step - loss: 5.4649 - val_loss: 1.6047\n",
            "Epoch 104/500\n",
            "466/466 [==============================] - 6s 13ms/step - loss: 5.4608 - val_loss: 1.8327\n",
            "Epoch 105/500\n",
            "466/466 [==============================] - 4s 10ms/step - loss: 5.4478 - val_loss: 1.5920\n",
            "Epoch 106/500\n",
            "466/466 [==============================] - 4s 9ms/step - loss: 5.4671 - val_loss: 2.0409\n",
            "Epoch 107/500\n",
            "466/466 [==============================] - 5s 12ms/step - loss: 5.4458 - val_loss: 1.9382\n",
            "Epoch 108/500\n",
            "466/466 [==============================] - 4s 9ms/step - loss: 5.4441 - val_loss: 1.9978\n",
            "Epoch 109/500\n",
            "466/466 [==============================] - 4s 10ms/step - loss: 5.4439 - val_loss: 1.8655\n",
            "Epoch 110/500\n",
            "466/466 [==============================] - 6s 12ms/step - loss: 5.4453 - val_loss: 2.1341\n",
            "Epoch 111/500\n",
            "466/466 [==============================] - 4s 9ms/step - loss: 5.4387 - val_loss: 1.6217\n",
            "Epoch 112/500\n",
            "466/466 [==============================] - 4s 9ms/step - loss: 5.4424 - val_loss: 2.2967\n",
            "Epoch 113/500\n",
            "466/466 [==============================] - 5s 12ms/step - loss: 5.4354 - val_loss: 2.4678\n",
            "Epoch 114/500\n",
            "466/466 [==============================] - 4s 9ms/step - loss: 5.4287 - val_loss: 2.1862\n",
            "Epoch 115/500\n",
            "466/466 [==============================] - 4s 9ms/step - loss: 5.4443 - val_loss: 1.7639\n",
            "Epoch 116/500\n",
            "466/466 [==============================] - 5s 12ms/step - loss: 5.4435 - val_loss: 2.1355\n",
            "Epoch 117/500\n",
            "466/466 [==============================] - 4s 9ms/step - loss: 5.4241 - val_loss: 1.5789\n",
            "Epoch 118/500\n",
            "466/466 [==============================] - 5s 10ms/step - loss: 5.4242 - val_loss: 2.0564\n",
            "Epoch 119/500\n",
            "466/466 [==============================] - 7s 14ms/step - loss: 5.4396 - val_loss: 1.7873\n",
            "Epoch 120/500\n",
            "466/466 [==============================] - 4s 9ms/step - loss: 5.4316 - val_loss: 1.6419\n",
            "Epoch 121/500\n",
            "466/466 [==============================] - 4s 10ms/step - loss: 5.4127 - val_loss: 1.6416\n",
            "Epoch 122/500\n",
            "466/466 [==============================] - 6s 12ms/step - loss: 5.4244 - val_loss: 1.9667\n",
            "Epoch 123/500\n",
            "466/466 [==============================] - 4s 9ms/step - loss: 5.4433 - val_loss: 1.8677\n",
            "Epoch 124/500\n",
            "466/466 [==============================] - 4s 9ms/step - loss: 5.4201 - val_loss: 1.8714\n",
            "Epoch 125/500\n",
            "466/466 [==============================] - 6s 12ms/step - loss: 5.4425 - val_loss: 1.7452\n",
            "Epoch 126/500\n",
            "466/466 [==============================] - 4s 9ms/step - loss: 5.4301 - val_loss: 2.1301\n",
            "Epoch 127/500\n",
            "466/466 [==============================] - 4s 9ms/step - loss: 5.4308 - val_loss: 1.9488\n",
            "Epoch 128/500\n",
            "466/466 [==============================] - 6s 12ms/step - loss: 5.4095 - val_loss: 2.0224\n",
            "Epoch 129/500\n",
            "466/466 [==============================] - 4s 10ms/step - loss: 5.4399 - val_loss: 1.6892\n",
            "Epoch 130/500\n",
            "466/466 [==============================] - 4s 9ms/step - loss: 5.4077 - val_loss: 1.6970\n",
            "Epoch 131/500\n",
            "466/466 [==============================] - 6s 12ms/step - loss: 5.3944 - val_loss: 1.8879\n",
            "Epoch 132/500\n",
            "466/466 [==============================] - 4s 10ms/step - loss: 5.4103 - val_loss: 2.2982\n",
            "Epoch 133/500\n",
            "466/466 [==============================] - 4s 10ms/step - loss: 5.4043 - val_loss: 1.7444\n",
            "Epoch 134/500\n",
            "466/466 [==============================] - 6s 12ms/step - loss: 5.4163 - val_loss: 1.7521\n",
            "Epoch 135/500\n",
            "466/466 [==============================] - 4s 9ms/step - loss: 5.4254 - val_loss: 1.8614\n",
            "Epoch 136/500\n",
            "466/466 [==============================] - 4s 10ms/step - loss: 5.4146 - val_loss: 1.9624\n",
            "Epoch 137/500\n",
            "466/466 [==============================] - 6s 12ms/step - loss: 5.3973 - val_loss: 1.6249\n",
            "Epoch 138/500\n",
            "466/466 [==============================] - 4s 9ms/step - loss: 5.4006 - val_loss: 1.7594\n",
            "Epoch 139/500\n",
            "466/466 [==============================] - 5s 10ms/step - loss: 5.3959 - val_loss: 1.8590\n",
            "Epoch 140/500\n",
            "466/466 [==============================] - 6s 12ms/step - loss: 5.4144 - val_loss: 1.8907\n",
            "Epoch 141/500\n",
            "466/466 [==============================] - 4s 9ms/step - loss: 5.4077 - val_loss: 1.9224\n",
            "Epoch 142/500\n",
            "466/466 [==============================] - 5s 10ms/step - loss: 5.4041 - val_loss: 1.6927\n",
            "Epoch 143/500\n",
            "466/466 [==============================] - 5s 12ms/step - loss: 5.3776 - val_loss: 1.9097\n",
            "Epoch 144/500\n",
            "466/466 [==============================] - 5s 10ms/step - loss: 5.3726 - val_loss: 1.6444\n",
            "Epoch 145/500\n",
            "466/466 [==============================] - 5s 11ms/step - loss: 5.4071 - val_loss: 1.7724\n",
            "Epoch 146/500\n",
            "466/466 [==============================] - 5s 12ms/step - loss: 5.4164 - val_loss: 1.8645\n",
            "Epoch 147/500\n",
            "466/466 [==============================] - 4s 9ms/step - loss: 5.3863 - val_loss: 1.9999\n",
            "Epoch 148/500\n",
            "466/466 [==============================] - 5s 10ms/step - loss: 5.3893 - val_loss: 1.7350\n",
            "Epoch 149/500\n",
            "466/466 [==============================] - 5s 11ms/step - loss: 5.3882 - val_loss: 1.8105\n",
            "Epoch 150/500\n",
            "466/466 [==============================] - 4s 9ms/step - loss: 5.3895 - val_loss: 1.5664\n",
            "Epoch 151/500\n",
            "466/466 [==============================] - 5s 11ms/step - loss: 5.3751 - val_loss: 1.5547\n",
            "Epoch 152/500\n",
            "466/466 [==============================] - 5s 11ms/step - loss: 5.4010 - val_loss: 1.6827\n",
            "Epoch 153/500\n",
            "466/466 [==============================] - 4s 9ms/step - loss: 5.3647 - val_loss: 2.0508\n",
            "Epoch 154/500\n",
            "466/466 [==============================] - 5s 10ms/step - loss: 5.3935 - val_loss: 2.0807\n",
            "Epoch 155/500\n",
            "466/466 [==============================] - 5s 11ms/step - loss: 5.4248 - val_loss: 1.7719\n",
            "Epoch 156/500\n",
            "466/466 [==============================] - 5s 11ms/step - loss: 5.3854 - val_loss: 1.5755\n",
            "Epoch 157/500\n",
            "466/466 [==============================] - 6s 13ms/step - loss: 5.3793 - val_loss: 1.6431\n",
            "Epoch 158/500\n",
            "466/466 [==============================] - 4s 9ms/step - loss: 5.3953 - val_loss: 1.9471\n",
            "Epoch 159/500\n",
            "466/466 [==============================] - 4s 9ms/step - loss: 5.3789 - val_loss: 2.1667\n",
            "Epoch 160/500\n",
            "466/466 [==============================] - 5s 12ms/step - loss: 5.3785 - val_loss: 2.5847\n",
            "Epoch 161/500\n",
            "466/466 [==============================] - 4s 9ms/step - loss: 5.3704 - val_loss: 1.7434\n",
            "Epoch 162/500\n",
            "466/466 [==============================] - 4s 9ms/step - loss: 5.3749 - val_loss: 1.8756\n",
            "Epoch 163/500\n",
            "466/466 [==============================] - 5s 12ms/step - loss: 5.3965 - val_loss: 1.9868\n",
            "Epoch 164/500\n",
            "466/466 [==============================] - 4s 9ms/step - loss: 5.3589 - val_loss: 1.8973\n",
            "Epoch 165/500\n",
            "466/466 [==============================] - 4s 9ms/step - loss: 5.3694 - val_loss: 1.5256\n",
            "Epoch 166/500\n",
            "466/466 [==============================] - 5s 12ms/step - loss: 5.3672 - val_loss: 1.7078\n",
            "Epoch 167/500\n",
            "466/466 [==============================] - 4s 9ms/step - loss: 5.3942 - val_loss: 1.6285\n",
            "Epoch 168/500\n",
            "466/466 [==============================] - 4s 9ms/step - loss: 5.3596 - val_loss: 1.6995\n",
            "Epoch 169/500\n",
            "466/466 [==============================] - 6s 12ms/step - loss: 5.3717 - val_loss: 1.7120\n",
            "Epoch 170/500\n",
            "466/466 [==============================] - 4s 10ms/step - loss: 5.3654 - val_loss: 1.7313\n",
            "Epoch 171/500\n",
            "466/466 [==============================] - 4s 9ms/step - loss: 5.3728 - val_loss: 1.7186\n",
            "Epoch 172/500\n",
            "466/466 [==============================] - 6s 12ms/step - loss: 5.3671 - val_loss: 1.8148\n",
            "Epoch 173/500\n",
            "466/466 [==============================] - 4s 9ms/step - loss: 5.3517 - val_loss: 2.0468\n",
            "Epoch 174/500\n",
            "466/466 [==============================] - 4s 9ms/step - loss: 5.3880 - val_loss: 1.9758\n",
            "Epoch 175/500\n",
            "466/466 [==============================] - 6s 12ms/step - loss: 5.3687 - val_loss: 1.5910\n",
            "Epoch 176/500\n",
            "466/466 [==============================] - 4s 9ms/step - loss: 5.3439 - val_loss: 1.8782\n",
            "Epoch 177/500\n",
            "466/466 [==============================] - 4s 9ms/step - loss: 5.3537 - val_loss: 1.9323\n",
            "Epoch 178/500\n",
            "466/466 [==============================] - 6s 12ms/step - loss: 5.3771 - val_loss: 1.6868\n",
            "Epoch 179/500\n",
            "466/466 [==============================] - 4s 9ms/step - loss: 5.3718 - val_loss: 1.6776\n",
            "Epoch 180/500\n",
            "466/466 [==============================] - 4s 9ms/step - loss: 5.3690 - val_loss: 1.6009\n",
            "Epoch 181/500\n",
            "466/466 [==============================] - 6s 12ms/step - loss: 5.3484 - val_loss: 1.6709\n",
            "Epoch 182/500\n",
            "466/466 [==============================] - 4s 9ms/step - loss: 5.3726 - val_loss: 1.5512\n",
            "Epoch 183/500\n",
            "466/466 [==============================] - 4s 9ms/step - loss: 5.3588 - val_loss: 1.9414\n",
            "Epoch 184/500\n",
            "466/466 [==============================] - 6s 12ms/step - loss: 5.3760 - val_loss: 1.5902\n",
            "Epoch 185/500\n",
            "466/466 [==============================] - 5s 10ms/step - loss: 5.3441 - val_loss: 1.7444\n",
            "Epoch 186/500\n",
            "466/466 [==============================] - 4s 10ms/step - loss: 5.3489 - val_loss: 2.2872\n",
            "Epoch 187/500\n",
            "466/466 [==============================] - 6s 12ms/step - loss: 5.3677 - val_loss: 1.5973\n",
            "Epoch 188/500\n",
            "466/466 [==============================] - 4s 10ms/step - loss: 5.3759 - val_loss: 1.5844\n",
            "Epoch 189/500\n",
            "466/466 [==============================] - 4s 10ms/step - loss: 5.3614 - val_loss: 2.0680\n",
            "Epoch 190/500\n",
            "466/466 [==============================] - 6s 12ms/step - loss: 5.3323 - val_loss: 1.9363\n",
            "Epoch 191/500\n",
            "466/466 [==============================] - 4s 9ms/step - loss: 5.3585 - val_loss: 1.9338\n",
            "Epoch 192/500\n",
            "466/466 [==============================] - 4s 10ms/step - loss: 5.3864 - val_loss: 1.7351\n",
            "Epoch 193/500\n",
            "466/466 [==============================] - 5s 12ms/step - loss: 5.3444 - val_loss: 1.8984\n",
            "Epoch 194/500\n",
            "466/466 [==============================] - 4s 10ms/step - loss: 5.3434 - val_loss: 1.6530\n",
            "Epoch 195/500\n",
            "466/466 [==============================] - 5s 10ms/step - loss: 5.4482 - val_loss: 1.5673\n",
            "Epoch 196/500\n",
            "466/466 [==============================] - 7s 15ms/step - loss: 5.3491 - val_loss: 1.5100\n",
            "Epoch 197/500\n",
            "466/466 [==============================] - 4s 9ms/step - loss: 5.3431 - val_loss: 2.1428\n",
            "Epoch 198/500\n",
            "466/466 [==============================] - 4s 10ms/step - loss: 5.3384 - val_loss: 1.8693\n",
            "Epoch 199/500\n",
            "466/466 [==============================] - 6s 13ms/step - loss: 5.3362 - val_loss: 1.5823\n",
            "Epoch 200/500\n",
            "466/466 [==============================] - 4s 10ms/step - loss: 5.3399 - val_loss: 1.7857\n",
            "Epoch 201/500\n",
            "466/466 [==============================] - 4s 9ms/step - loss: 5.3388 - val_loss: 1.7129\n",
            "Epoch 202/500\n",
            "466/466 [==============================] - 6s 12ms/step - loss: 5.3638 - val_loss: 1.5739\n",
            "Epoch 203/500\n",
            "466/466 [==============================] - 4s 9ms/step - loss: 5.3332 - val_loss: 2.4669\n",
            "Epoch 204/500\n",
            "466/466 [==============================] - 4s 9ms/step - loss: 5.3324 - val_loss: 1.5485\n",
            "Epoch 205/500\n",
            "466/466 [==============================] - 5s 12ms/step - loss: 5.3512 - val_loss: 2.3167\n",
            "Epoch 206/500\n",
            "466/466 [==============================] - 4s 9ms/step - loss: 5.3359 - val_loss: 1.5855\n",
            "Epoch 207/500\n",
            "466/466 [==============================] - 4s 10ms/step - loss: 5.3340 - val_loss: 1.8346\n",
            "Epoch 208/500\n",
            "466/466 [==============================] - 5s 12ms/step - loss: 5.3417 - val_loss: 2.0082\n",
            "Epoch 209/500\n",
            "466/466 [==============================] - 4s 9ms/step - loss: 5.3376 - val_loss: 1.5500\n",
            "Epoch 210/500\n",
            "466/466 [==============================] - 4s 9ms/step - loss: 5.3467 - val_loss: 1.6047\n",
            "Epoch 211/500\n",
            "466/466 [==============================] - 5s 11ms/step - loss: 5.3353 - val_loss: 1.9367\n",
            "Epoch 212/500\n",
            "466/466 [==============================] - 4s 9ms/step - loss: 5.3403 - val_loss: 1.8035\n",
            "Epoch 213/500\n",
            "466/466 [==============================] - 4s 9ms/step - loss: 5.3216 - val_loss: 1.7090\n",
            "Epoch 214/500\n",
            "466/466 [==============================] - 6s 12ms/step - loss: 5.3213 - val_loss: 1.7995\n",
            "Epoch 215/500\n",
            "466/466 [==============================] - 4s 9ms/step - loss: 5.3338 - val_loss: 1.7581\n",
            "Epoch 216/500\n",
            "466/466 [==============================] - 4s 9ms/step - loss: 5.3471 - val_loss: 1.6373\n",
            "Epoch 217/500\n",
            "466/466 [==============================] - 5s 12ms/step - loss: 5.3103 - val_loss: 1.4061\n",
            "Epoch 218/500\n",
            "466/466 [==============================] - 4s 10ms/step - loss: 5.3559 - val_loss: 1.5909\n",
            "Epoch 219/500\n",
            "466/466 [==============================] - 4s 10ms/step - loss: 5.3522 - val_loss: 1.5007\n",
            "Epoch 220/500\n",
            "466/466 [==============================] - 6s 12ms/step - loss: 5.3307 - val_loss: 1.9731\n",
            "Epoch 221/500\n",
            "466/466 [==============================] - 5s 10ms/step - loss: 5.3311 - val_loss: 1.7377\n",
            "Epoch 222/500\n",
            "466/466 [==============================] - 5s 10ms/step - loss: 5.3121 - val_loss: 1.5720\n",
            "Epoch 223/500\n",
            "466/466 [==============================] - 5s 11ms/step - loss: 5.3047 - val_loss: 1.6974\n",
            "Epoch 224/500\n",
            "466/466 [==============================] - 4s 9ms/step - loss: 5.3210 - val_loss: 1.6583\n",
            "Epoch 225/500\n",
            "466/466 [==============================] - 5s 10ms/step - loss: 5.3358 - val_loss: 1.6411\n",
            "Epoch 226/500\n",
            "466/466 [==============================] - 5s 11ms/step - loss: 5.3119 - val_loss: 1.5965\n",
            "Epoch 227/500\n",
            "466/466 [==============================] - 4s 10ms/step - loss: 5.3438 - val_loss: 1.6888\n",
            "Epoch 228/500\n",
            "466/466 [==============================] - 5s 10ms/step - loss: 5.3046 - val_loss: 1.5162\n",
            "Epoch 229/500\n",
            "466/466 [==============================] - 5s 11ms/step - loss: 5.3353 - val_loss: 1.7097\n",
            "Epoch 230/500\n",
            "466/466 [==============================] - 4s 10ms/step - loss: 5.3221 - val_loss: 2.0431\n",
            "Epoch 231/500\n",
            "466/466 [==============================] - 5s 10ms/step - loss: 5.3217 - val_loss: 1.5116\n",
            "Epoch 232/500\n",
            "466/466 [==============================] - 6s 13ms/step - loss: 5.3144 - val_loss: 1.6989\n",
            "Epoch 233/500\n",
            "466/466 [==============================] - 5s 10ms/step - loss: 5.3275 - val_loss: 1.7763\n",
            "Epoch 234/500\n",
            "466/466 [==============================] - 5s 11ms/step - loss: 5.3286 - val_loss: 1.4758\n",
            "Epoch 235/500\n",
            "466/466 [==============================] - 5s 10ms/step - loss: 5.3111 - val_loss: 1.8948\n",
            "Epoch 236/500\n",
            "466/466 [==============================] - 5s 10ms/step - loss: 5.2952 - val_loss: 2.1572\n",
            "Epoch 237/500\n",
            "466/466 [==============================] - 5s 11ms/step - loss: 5.3067 - val_loss: 1.8509\n",
            "Epoch 238/500\n",
            "466/466 [==============================] - 5s 10ms/step - loss: 5.3001 - val_loss: 1.9240\n",
            "Epoch 239/500\n",
            "466/466 [==============================] - 4s 10ms/step - loss: 5.3435 - val_loss: 1.6155\n",
            "Epoch 240/500\n",
            "466/466 [==============================] - 5s 12ms/step - loss: 5.3199 - val_loss: 1.7334\n",
            "Epoch 241/500\n",
            "466/466 [==============================] - 5s 10ms/step - loss: 5.3034 - val_loss: 1.9086\n",
            "Epoch 242/500\n",
            "466/466 [==============================] - 4s 9ms/step - loss: 5.3170 - val_loss: 1.5031\n",
            "Epoch 243/500\n",
            "466/466 [==============================] - 5s 11ms/step - loss: 5.3320 - val_loss: 2.4314\n",
            "Epoch 244/500\n",
            "466/466 [==============================] - 5s 10ms/step - loss: 5.3195 - val_loss: 1.6406\n",
            "Epoch 245/500\n",
            "466/466 [==============================] - 4s 10ms/step - loss: 5.3358 - val_loss: 1.9781\n",
            "Epoch 246/500\n",
            "466/466 [==============================] - 5s 12ms/step - loss: 5.3069 - val_loss: 1.5555\n",
            "Epoch 247/500\n",
            "466/466 [==============================] - 5s 10ms/step - loss: 5.3081 - val_loss: 1.6037\n",
            "Epoch 248/500\n",
            "466/466 [==============================] - 4s 9ms/step - loss: 5.2933 - val_loss: 1.8491\n",
            "Epoch 249/500\n",
            "466/466 [==============================] - 5s 11ms/step - loss: 5.3083 - val_loss: 1.5846\n",
            "Epoch 250/500\n",
            "466/466 [==============================] - 4s 10ms/step - loss: 5.3539 - val_loss: 1.5838\n",
            "Epoch 251/500\n",
            "466/466 [==============================] - 4s 9ms/step - loss: 5.2890 - val_loss: 1.8108\n",
            "Epoch 252/500\n",
            "466/466 [==============================] - 6s 13ms/step - loss: 5.2906 - val_loss: 1.5959\n",
            "Epoch 253/500\n",
            "466/466 [==============================] - 5s 10ms/step - loss: 5.2977 - val_loss: 1.4335\n",
            "Epoch 254/500\n",
            "466/466 [==============================] - 4s 9ms/step - loss: 5.3013 - val_loss: 1.5076\n",
            "Epoch 255/500\n",
            "466/466 [==============================] - 6s 12ms/step - loss: 5.3072 - val_loss: 2.3427\n",
            "Epoch 256/500\n",
            "466/466 [==============================] - 5s 10ms/step - loss: 5.2941 - val_loss: 1.7839\n",
            "Epoch 257/500\n",
            "466/466 [==============================] - 4s 9ms/step - loss: 5.3161 - val_loss: 1.5939\n",
            "Epoch 258/500\n",
            "466/466 [==============================] - 6s 12ms/step - loss: 5.2934 - val_loss: 1.7693\n",
            "Epoch 259/500\n",
            "466/466 [==============================] - 4s 9ms/step - loss: 5.3010 - val_loss: 1.6151\n",
            "Epoch 260/500\n",
            "466/466 [==============================] - 5s 10ms/step - loss: 5.2928 - val_loss: 1.6987\n",
            "Epoch 261/500\n",
            "466/466 [==============================] - 6s 12ms/step - loss: 5.2988 - val_loss: 1.4757\n",
            "Epoch 262/500\n",
            "466/466 [==============================] - 4s 10ms/step - loss: 5.3075 - val_loss: 1.5111\n",
            "Epoch 263/500\n",
            "466/466 [==============================] - 4s 10ms/step - loss: 5.2884 - val_loss: 1.8691\n",
            "Epoch 264/500\n",
            "466/466 [==============================] - 6s 12ms/step - loss: 5.3070 - val_loss: 1.5070\n",
            "Epoch 265/500\n",
            "466/466 [==============================] - 4s 9ms/step - loss: 5.3032 - val_loss: 2.0530\n",
            "Epoch 266/500\n",
            "466/466 [==============================] - 4s 10ms/step - loss: 5.3142 - val_loss: 1.6573\n",
            "Epoch 267/500\n",
            "466/466 [==============================] - 6s 12ms/step - loss: 5.2904 - val_loss: 1.8492\n",
            "Epoch 268/500\n",
            "466/466 [==============================] - 4s 9ms/step - loss: 5.2958 - val_loss: 1.6823\n",
            "Epoch 269/500\n",
            "466/466 [==============================] - 5s 11ms/step - loss: 5.2967 - val_loss: 2.4289\n",
            "Epoch 270/500\n",
            "466/466 [==============================] - 6s 13ms/step - loss: 5.3120 - val_loss: 1.4732\n",
            "Epoch 271/500\n",
            "466/466 [==============================] - 4s 10ms/step - loss: 5.2905 - val_loss: 1.8602\n",
            "Epoch 272/500\n",
            "466/466 [==============================] - 5s 10ms/step - loss: 5.2933 - val_loss: 1.6479\n",
            "Epoch 273/500\n",
            "466/466 [==============================] - 6s 12ms/step - loss: 5.2906 - val_loss: 1.6304\n",
            "Epoch 274/500\n",
            "466/466 [==============================] - 4s 9ms/step - loss: 5.2938 - val_loss: 1.5737\n",
            "Epoch 275/500\n",
            "466/466 [==============================] - 4s 9ms/step - loss: 5.2987 - val_loss: 1.7515\n",
            "Epoch 276/500\n",
            "466/466 [==============================] - 6s 12ms/step - loss: 5.2917 - val_loss: 1.4956\n",
            "Epoch 277/500\n",
            "466/466 [==============================] - 5s 10ms/step - loss: 5.2774 - val_loss: 1.6247\n",
            "Epoch 278/500\n",
            "466/466 [==============================] - 4s 9ms/step - loss: 5.2745 - val_loss: 1.7405\n",
            "Epoch 279/500\n",
            "466/466 [==============================] - 6s 12ms/step - loss: 5.3124 - val_loss: 1.5205\n",
            "Epoch 280/500\n",
            "466/466 [==============================] - 4s 9ms/step - loss: 5.2965 - val_loss: 1.7806\n",
            "Epoch 281/500\n",
            "466/466 [==============================] - 4s 9ms/step - loss: 5.2851 - val_loss: 1.4729\n",
            "Epoch 282/500\n",
            "466/466 [==============================] - 6s 12ms/step - loss: 5.2837 - val_loss: 2.3014\n",
            "Epoch 283/500\n",
            "466/466 [==============================] - 4s 10ms/step - loss: 5.2928 - val_loss: 1.5578\n",
            "Epoch 284/500\n",
            "466/466 [==============================] - 5s 10ms/step - loss: 5.2792 - val_loss: 1.8247\n",
            "Epoch 285/500\n",
            "466/466 [==============================] - 6s 12ms/step - loss: 5.2927 - val_loss: 1.7688\n",
            "Epoch 286/500\n",
            "466/466 [==============================] - 6s 12ms/step - loss: 5.2918 - val_loss: 1.7195\n",
            "Epoch 287/500\n",
            "466/466 [==============================] - 9s 20ms/step - loss: 5.3001 - val_loss: 1.7082\n",
            "Epoch 288/500\n",
            "466/466 [==============================] - 5s 11ms/step - loss: 5.2893 - val_loss: 1.8081\n",
            "Epoch 289/500\n",
            "466/466 [==============================] - 5s 10ms/step - loss: 5.2748 - val_loss: 1.6502\n",
            "Epoch 290/500\n",
            "466/466 [==============================] - 5s 12ms/step - loss: 5.2782 - val_loss: 1.4431\n",
            "Epoch 291/500\n",
            "466/466 [==============================] - 4s 9ms/step - loss: 5.2852 - val_loss: 2.0180\n",
            "Epoch 292/500\n",
            "466/466 [==============================] - 5s 10ms/step - loss: 5.3048 - val_loss: 1.8782\n",
            "Epoch 293/500\n",
            "466/466 [==============================] - 5s 11ms/step - loss: 5.2679 - val_loss: 1.5836\n",
            "Epoch 294/500\n",
            "466/466 [==============================] - 4s 9ms/step - loss: 5.2807 - val_loss: 1.8173\n",
            "Epoch 295/500\n",
            "466/466 [==============================] - 5s 10ms/step - loss: 5.2930 - val_loss: 2.0705\n",
            "Epoch 296/500\n",
            "466/466 [==============================] - 5s 11ms/step - loss: 5.2837 - val_loss: 1.6473\n",
            "Epoch 297/500\n",
            "466/466 [==============================] - 4s 9ms/step - loss: 5.2830 - val_loss: 1.6103\n",
            "Epoch 298/500\n",
            "466/466 [==============================] - 5s 10ms/step - loss: 5.2932 - val_loss: 1.7688\n",
            "Epoch 299/500\n",
            "466/466 [==============================] - 5s 11ms/step - loss: 5.3226 - val_loss: 1.4347\n",
            "Epoch 300/500\n",
            "466/466 [==============================] - 4s 10ms/step - loss: 5.2894 - val_loss: 1.7204\n",
            "Epoch 301/500\n",
            "466/466 [==============================] - 5s 11ms/step - loss: 5.2853 - val_loss: 1.5247\n",
            "Epoch 302/500\n",
            "466/466 [==============================] - 5s 11ms/step - loss: 5.2827 - val_loss: 1.5508\n",
            "Epoch 303/500\n",
            "466/466 [==============================] - 4s 9ms/step - loss: 5.2693 - val_loss: 1.8238\n",
            "Epoch 304/500\n",
            "466/466 [==============================] - 5s 12ms/step - loss: 5.2894 - val_loss: 1.9151\n",
            "Epoch 305/500\n",
            "466/466 [==============================] - 7s 14ms/step - loss: 5.2547 - val_loss: 1.9381\n",
            "Epoch 306/500\n",
            "466/466 [==============================] - 5s 10ms/step - loss: 5.2896 - val_loss: 1.5126\n",
            "Epoch 307/500\n",
            "466/466 [==============================] - 5s 11ms/step - loss: 5.2677 - val_loss: 1.6911\n",
            "Epoch 308/500\n",
            "466/466 [==============================] - 5s 11ms/step - loss: 5.2744 - val_loss: 1.7419\n",
            "Epoch 309/500\n",
            "466/466 [==============================] - 4s 10ms/step - loss: 5.2795 - val_loss: 1.9778\n",
            "Epoch 310/500\n",
            "466/466 [==============================] - 5s 11ms/step - loss: 5.2954 - val_loss: 1.9150\n",
            "Epoch 311/500\n",
            "466/466 [==============================] - 5s 11ms/step - loss: 5.2544 - val_loss: 1.4065\n",
            "Epoch 312/500\n",
            "466/466 [==============================] - 4s 9ms/step - loss: 5.2644 - val_loss: 1.6604\n",
            "Epoch 313/500\n",
            "466/466 [==============================] - 5s 11ms/step - loss: 5.2914 - val_loss: 1.5344\n",
            "Epoch 314/500\n",
            "466/466 [==============================] - 5s 11ms/step - loss: 5.2783 - val_loss: 1.5953\n",
            "Epoch 315/500\n",
            "466/466 [==============================] - 4s 9ms/step - loss: 5.2753 - val_loss: 1.4258\n",
            "Epoch 316/500\n",
            "466/466 [==============================] - 5s 11ms/step - loss: 5.2743 - val_loss: 1.9128\n",
            "Epoch 317/500\n",
            "466/466 [==============================] - 5s 10ms/step - loss: 5.2702 - val_loss: 1.8094\n",
            "Epoch 318/500\n",
            "466/466 [==============================] - 5s 10ms/step - loss: 5.2762 - val_loss: 1.4828\n",
            "Epoch 319/500\n",
            "466/466 [==============================] - 5s 11ms/step - loss: 5.2657 - val_loss: 1.4796\n",
            "Epoch 320/500\n",
            "466/466 [==============================] - 5s 10ms/step - loss: 5.2850 - val_loss: 1.6212\n",
            "Epoch 321/500\n",
            "466/466 [==============================] - 4s 9ms/step - loss: 5.2754 - val_loss: 1.5558\n",
            "Epoch 322/500\n",
            "466/466 [==============================] - 5s 11ms/step - loss: 5.2745 - val_loss: 1.5301\n",
            "Epoch 323/500\n",
            "466/466 [==============================] - 5s 10ms/step - loss: 5.2706 - val_loss: 1.5117\n",
            "Epoch 324/500\n",
            "466/466 [==============================] - 4s 10ms/step - loss: 5.2725 - val_loss: 1.4357\n",
            "Epoch 325/500\n",
            "466/466 [==============================] - 5s 11ms/step - loss: 5.2591 - val_loss: 1.4540\n",
            "Epoch 326/500\n",
            "466/466 [==============================] - 5s 11ms/step - loss: 5.2543 - val_loss: 1.5857\n",
            "Epoch 327/500\n",
            "466/466 [==============================] - 4s 9ms/step - loss: 5.2911 - val_loss: 2.0510\n",
            "Epoch 328/500\n",
            "466/466 [==============================] - 5s 11ms/step - loss: 5.2674 - val_loss: 1.6685\n",
            "Epoch 329/500\n",
            "466/466 [==============================] - 5s 10ms/step - loss: 5.2594 - val_loss: 1.5183\n",
            "Epoch 330/500\n",
            "466/466 [==============================] - 4s 9ms/step - loss: 5.2655 - val_loss: 1.9594\n",
            "Epoch 331/500\n",
            "466/466 [==============================] - 5s 11ms/step - loss: 5.2761 - val_loss: 1.6130\n",
            "Epoch 332/500\n",
            "466/466 [==============================] - 5s 10ms/step - loss: 5.2740 - val_loss: 1.4577\n",
            "Epoch 333/500\n",
            "466/466 [==============================] - 4s 9ms/step - loss: 5.2958 - val_loss: 1.4361\n",
            "Epoch 334/500\n",
            "466/466 [==============================] - 5s 11ms/step - loss: 5.2540 - val_loss: 1.6892\n",
            "Epoch 335/500\n",
            "466/466 [==============================] - 5s 10ms/step - loss: 5.2813 - val_loss: 1.7476\n",
            "Epoch 336/500\n",
            "466/466 [==============================] - 4s 9ms/step - loss: 5.2599 - val_loss: 1.5849\n",
            "Epoch 337/500\n",
            "466/466 [==============================] - 5s 11ms/step - loss: 5.2580 - val_loss: 1.6773\n",
            "Epoch 338/500\n",
            "466/466 [==============================] - 5s 10ms/step - loss: 5.2693 - val_loss: 1.6126\n",
            "Epoch 339/500\n",
            "466/466 [==============================] - 4s 9ms/step - loss: 5.2697 - val_loss: 1.4364\n",
            "Epoch 340/500\n",
            "466/466 [==============================] - 6s 13ms/step - loss: 5.2804 - val_loss: 1.7105\n",
            "Epoch 341/500\n",
            "466/466 [==============================] - 6s 12ms/step - loss: 5.2595 - val_loss: 1.9555\n",
            "Epoch 342/500\n",
            "466/466 [==============================] - 4s 10ms/step - loss: 5.2898 - val_loss: 1.5854\n",
            "Epoch 343/500\n",
            "466/466 [==============================] - 5s 11ms/step - loss: 5.2541 - val_loss: 1.7361\n",
            "Epoch 344/500\n",
            "466/466 [==============================] - 5s 11ms/step - loss: 5.2557 - val_loss: 1.6617\n",
            "Epoch 345/500\n",
            "466/466 [==============================] - 4s 10ms/step - loss: 5.2689 - val_loss: 1.7933\n",
            "Epoch 346/500\n",
            "466/466 [==============================] - 5s 11ms/step - loss: 5.2590 - val_loss: 1.9183\n",
            "Epoch 347/500\n",
            "466/466 [==============================] - 5s 11ms/step - loss: 5.2609 - val_loss: 1.6092\n",
            "Epoch 348/500\n",
            "466/466 [==============================] - 4s 9ms/step - loss: 5.3124 - val_loss: 1.4425\n",
            "Epoch 349/500\n",
            "466/466 [==============================] - 5s 11ms/step - loss: 5.2707 - val_loss: 1.4380\n",
            "Epoch 350/500\n",
            "466/466 [==============================] - 5s 10ms/step - loss: 5.2592 - val_loss: 1.6813\n",
            "Epoch 351/500\n",
            "466/466 [==============================] - 5s 10ms/step - loss: 5.2441 - val_loss: 1.5792\n",
            "Epoch 352/500\n",
            "466/466 [==============================] - 5s 11ms/step - loss: 5.2619 - val_loss: 1.7706\n",
            "Epoch 353/500\n",
            "466/466 [==============================] - 5s 10ms/step - loss: 5.2808 - val_loss: 1.7019\n",
            "Epoch 354/500\n",
            "466/466 [==============================] - 4s 10ms/step - loss: 5.2662 - val_loss: 1.8789\n",
            "Epoch 355/500\n",
            "466/466 [==============================] - 5s 11ms/step - loss: 5.2492 - val_loss: 1.5205\n",
            "Epoch 356/500\n",
            "466/466 [==============================] - 5s 10ms/step - loss: 5.2372 - val_loss: 1.8274\n",
            "Epoch 357/500\n",
            "466/466 [==============================] - 4s 10ms/step - loss: 5.2584 - val_loss: 1.8672\n",
            "Epoch 358/500\n",
            "466/466 [==============================] - 5s 11ms/step - loss: 5.2876 - val_loss: 1.5573\n",
            "Epoch 359/500\n",
            "466/466 [==============================] - 5s 10ms/step - loss: 5.2581 - val_loss: 1.6284\n",
            "Epoch 360/500\n",
            "466/466 [==============================] - 4s 10ms/step - loss: 5.2650 - val_loss: 1.8759\n",
            "Epoch 361/500\n",
            "466/466 [==============================] - 5s 11ms/step - loss: 5.2592 - val_loss: 1.6034\n",
            "Epoch 362/500\n",
            "466/466 [==============================] - 5s 10ms/step - loss: 5.2556 - val_loss: 1.4972\n",
            "Epoch 363/500\n",
            "466/466 [==============================] - 5s 10ms/step - loss: 5.2712 - val_loss: 1.7552\n",
            "Epoch 364/500\n",
            "466/466 [==============================] - 5s 12ms/step - loss: 5.2837 - val_loss: 1.6011\n",
            "Epoch 365/500\n",
            "466/466 [==============================] - 5s 10ms/step - loss: 5.2576 - val_loss: 1.7145\n",
            "Epoch 366/500\n",
            "466/466 [==============================] - 5s 10ms/step - loss: 5.2467 - val_loss: 1.3721\n",
            "Epoch 367/500\n",
            "466/466 [==============================] - 6s 12ms/step - loss: 5.2531 - val_loss: 1.7277\n",
            "Epoch 368/500\n",
            "466/466 [==============================] - 5s 10ms/step - loss: 5.2694 - val_loss: 1.5725\n",
            "Epoch 369/500\n",
            "466/466 [==============================] - 5s 10ms/step - loss: 5.2680 - val_loss: 1.4056\n",
            "Epoch 370/500\n",
            "466/466 [==============================] - 6s 12ms/step - loss: 5.2824 - val_loss: 1.4906\n",
            "Epoch 371/500\n",
            "466/466 [==============================] - 4s 10ms/step - loss: 5.2454 - val_loss: 1.6263\n",
            "Epoch 372/500\n",
            "466/466 [==============================] - 4s 10ms/step - loss: 5.2397 - val_loss: 1.5854\n",
            "Epoch 373/500\n",
            "466/466 [==============================] - 6s 13ms/step - loss: 5.2626 - val_loss: 1.5033\n",
            "Epoch 374/500\n",
            "466/466 [==============================] - 5s 10ms/step - loss: 5.2560 - val_loss: 1.5357\n",
            "Epoch 375/500\n",
            "466/466 [==============================] - 6s 13ms/step - loss: 5.2415 - val_loss: 1.9297\n",
            "Epoch 376/500\n",
            "466/466 [==============================] - 6s 12ms/step - loss: 5.2573 - val_loss: 1.8152\n",
            "Epoch 377/500\n",
            "466/466 [==============================] - 5s 10ms/step - loss: 5.2693 - val_loss: 1.4705\n",
            "Epoch 378/500\n",
            "466/466 [==============================] - 5s 10ms/step - loss: 5.2516 - val_loss: 1.6647\n",
            "Epoch 379/500\n",
            "466/466 [==============================] - 5s 11ms/step - loss: 5.2854 - val_loss: 1.7861\n",
            "Epoch 380/500\n",
            "466/466 [==============================] - 4s 10ms/step - loss: 5.2616 - val_loss: 1.8759\n",
            "Epoch 381/500\n",
            "466/466 [==============================] - 5s 11ms/step - loss: 5.2424 - val_loss: 1.6719\n",
            "Epoch 382/500\n",
            "466/466 [==============================] - 5s 12ms/step - loss: 5.2493 - val_loss: 1.5484\n",
            "Epoch 383/500\n",
            "466/466 [==============================] - 4s 10ms/step - loss: 5.2601 - val_loss: 1.5032\n",
            "Epoch 384/500\n",
            "466/466 [==============================] - 5s 11ms/step - loss: 5.2526 - val_loss: 2.1956\n",
            "Epoch 385/500\n",
            "466/466 [==============================] - 5s 11ms/step - loss: 5.2389 - val_loss: 1.4158\n",
            "Epoch 386/500\n",
            "466/466 [==============================] - 4s 10ms/step - loss: 5.2536 - val_loss: 1.4286\n",
            "Epoch 387/500\n",
            "466/466 [==============================] - 5s 11ms/step - loss: 5.2618 - val_loss: 1.4160\n",
            "Epoch 388/500\n",
            "466/466 [==============================] - 5s 11ms/step - loss: 5.2578 - val_loss: 2.1392\n",
            "Epoch 389/500\n",
            "466/466 [==============================] - 4s 10ms/step - loss: 5.2581 - val_loss: 1.6078\n",
            "Epoch 390/500\n",
            "466/466 [==============================] - 5s 11ms/step - loss: 5.2743 - val_loss: 1.5923\n",
            "Epoch 391/500\n",
            "466/466 [==============================] - 5s 11ms/step - loss: 5.2470 - val_loss: 1.5444\n",
            "Epoch 392/500\n",
            "466/466 [==============================] - 4s 10ms/step - loss: 5.2427 - val_loss: 1.6387\n",
            "Epoch 393/500\n",
            "466/466 [==============================] - 5s 11ms/step - loss: 5.2580 - val_loss: 1.8917\n",
            "Epoch 394/500\n",
            "466/466 [==============================] - 5s 10ms/step - loss: 5.2818 - val_loss: 1.7467\n",
            "Epoch 395/500\n",
            "466/466 [==============================] - 4s 10ms/step - loss: 5.2473 - val_loss: 1.6621\n",
            "Epoch 396/500\n",
            "466/466 [==============================] - 6s 12ms/step - loss: 5.2399 - val_loss: 1.6135\n",
            "Epoch 397/500\n",
            "466/466 [==============================] - 5s 10ms/step - loss: 5.2525 - val_loss: 1.7537\n",
            "Epoch 398/500\n",
            "466/466 [==============================] - 5s 10ms/step - loss: 5.2470 - val_loss: 1.8720\n",
            "Epoch 399/500\n",
            "466/466 [==============================] - 6s 12ms/step - loss: 5.2577 - val_loss: 1.5790\n",
            "Epoch 400/500\n",
            "466/466 [==============================] - 4s 10ms/step - loss: 5.2542 - val_loss: 1.5300\n",
            "Epoch 401/500\n",
            "466/466 [==============================] - 5s 10ms/step - loss: 5.2329 - val_loss: 1.5358\n",
            "Epoch 402/500\n",
            "466/466 [==============================] - 6s 12ms/step - loss: 5.2572 - val_loss: 1.3420\n",
            "Epoch 403/500\n",
            "466/466 [==============================] - 4s 10ms/step - loss: 5.2422 - val_loss: 1.3965\n",
            "Epoch 404/500\n",
            "466/466 [==============================] - 5s 10ms/step - loss: 5.2656 - val_loss: 1.8327\n",
            "Epoch 405/500\n",
            "466/466 [==============================] - 5s 12ms/step - loss: 5.2444 - val_loss: 1.5144\n",
            "Epoch 406/500\n",
            "466/466 [==============================] - 5s 10ms/step - loss: 5.2457 - val_loss: 1.4465\n",
            "Epoch 407/500\n",
            "466/466 [==============================] - 5s 10ms/step - loss: 5.2516 - val_loss: 1.8300\n",
            "Epoch 408/500\n",
            "466/466 [==============================] - 6s 12ms/step - loss: 5.2417 - val_loss: 1.6558\n",
            "Epoch 409/500\n",
            "466/466 [==============================] - 5s 10ms/step - loss: 5.2419 - val_loss: 1.7253\n",
            "Epoch 410/500\n",
            "466/466 [==============================] - 6s 12ms/step - loss: 5.2540 - val_loss: 1.5030\n",
            "Epoch 411/500\n",
            "466/466 [==============================] - 5s 11ms/step - loss: 5.2472 - val_loss: 1.5191\n",
            "Epoch 412/500\n",
            "466/466 [==============================] - 4s 10ms/step - loss: 5.2469 - val_loss: 1.4617\n",
            "Epoch 413/500\n",
            "466/466 [==============================] - 5s 10ms/step - loss: 5.2495 - val_loss: 1.5938\n",
            "Epoch 414/500\n",
            "466/466 [==============================] - 5s 11ms/step - loss: 5.2767 - val_loss: 1.7558\n",
            "Epoch 415/500\n",
            "466/466 [==============================] - 5s 10ms/step - loss: 5.2455 - val_loss: 1.5516\n",
            "Epoch 416/500\n",
            "466/466 [==============================] - 5s 11ms/step - loss: 5.2644 - val_loss: 1.9344\n",
            "Epoch 417/500\n",
            "466/466 [==============================] - 5s 11ms/step - loss: 5.2509 - val_loss: 1.4064\n",
            "Epoch 418/500\n",
            "466/466 [==============================] - 5s 10ms/step - loss: 5.2399 - val_loss: 1.6347\n",
            "Epoch 419/500\n",
            "466/466 [==============================] - 5s 11ms/step - loss: 5.2425 - val_loss: 1.6759\n",
            "Epoch 420/500\n",
            "466/466 [==============================] - 5s 11ms/step - loss: 5.2494 - val_loss: 1.4569\n",
            "Epoch 421/500\n",
            "466/466 [==============================] - 4s 10ms/step - loss: 5.2338 - val_loss: 1.6176\n",
            "Epoch 422/500\n",
            "466/466 [==============================] - 7s 15ms/step - loss: 5.2567 - val_loss: 1.5360\n",
            "Epoch 423/500\n",
            "466/466 [==============================] - 7s 14ms/step - loss: 5.2355 - val_loss: 1.5545\n",
            "Epoch 424/500\n",
            "466/466 [==============================] - 7s 15ms/step - loss: 5.2527 - val_loss: 1.4642\n",
            "Epoch 425/500\n",
            "466/466 [==============================] - 5s 11ms/step - loss: 5.2516 - val_loss: 1.4113\n",
            "Epoch 426/500\n",
            "466/466 [==============================] - 5s 10ms/step - loss: 5.2302 - val_loss: 1.5110\n",
            "Epoch 427/500\n",
            "466/466 [==============================] - 6s 12ms/step - loss: 5.2358 - val_loss: 1.6492\n",
            "Epoch 428/500\n",
            "466/466 [==============================] - 4s 10ms/step - loss: 5.2562 - val_loss: 1.6070\n",
            "Epoch 429/500\n",
            "466/466 [==============================] - 5s 10ms/step - loss: 5.2478 - val_loss: 1.5867\n",
            "Epoch 430/500\n",
            "466/466 [==============================] - 6s 12ms/step - loss: 5.2566 - val_loss: 1.7100\n",
            "Epoch 431/500\n",
            "466/466 [==============================] - 5s 10ms/step - loss: 5.2328 - val_loss: 1.9347\n",
            "Epoch 432/500\n",
            "466/466 [==============================] - 5s 10ms/step - loss: 5.2427 - val_loss: 1.8166\n",
            "Epoch 433/500\n",
            "466/466 [==============================] - 6s 12ms/step - loss: 5.2669 - val_loss: 1.5039\n",
            "Epoch 434/500\n",
            "466/466 [==============================] - 5s 10ms/step - loss: 5.2311 - val_loss: 1.5190\n",
            "Epoch 435/500\n",
            "466/466 [==============================] - 5s 10ms/step - loss: 5.2672 - val_loss: 1.5501\n",
            "Epoch 436/500\n",
            "466/466 [==============================] - 6s 12ms/step - loss: 5.2309 - val_loss: 1.5803\n",
            "Epoch 437/500\n",
            "466/466 [==============================] - 5s 10ms/step - loss: 5.2258 - val_loss: 2.4124\n",
            "Epoch 438/500\n",
            "466/466 [==============================] - 5s 10ms/step - loss: 5.2397 - val_loss: 1.8920\n",
            "Epoch 439/500\n",
            "466/466 [==============================] - 6s 12ms/step - loss: 5.2525 - val_loss: 1.5568\n",
            "Epoch 440/500\n",
            "466/466 [==============================] - 5s 10ms/step - loss: 5.2501 - val_loss: 1.8592\n",
            "Epoch 441/500\n",
            "466/466 [==============================] - 5s 10ms/step - loss: 5.2397 - val_loss: 1.7707\n",
            "Epoch 442/500\n",
            "466/466 [==============================] - 6s 12ms/step - loss: 5.2314 - val_loss: 1.5139\n",
            "Epoch 443/500\n",
            "466/466 [==============================] - 6s 12ms/step - loss: 5.2213 - val_loss: 1.6646\n",
            "Epoch 444/500\n",
            "466/466 [==============================] - 5s 11ms/step - loss: 5.2426 - val_loss: 1.5148\n",
            "Epoch 445/500\n",
            "466/466 [==============================] - 5s 11ms/step - loss: 5.2191 - val_loss: 1.9942\n",
            "Epoch 446/500\n",
            "466/466 [==============================] - 5s 10ms/step - loss: 5.2360 - val_loss: 2.2169\n",
            "Epoch 447/500\n",
            "466/466 [==============================] - 5s 11ms/step - loss: 5.2487 - val_loss: 1.5320\n",
            "Epoch 448/500\n",
            "466/466 [==============================] - 5s 11ms/step - loss: 5.2460 - val_loss: 1.3576\n",
            "Epoch 449/500\n",
            "466/466 [==============================] - 5s 10ms/step - loss: 5.2266 - val_loss: 1.4416\n",
            "Epoch 450/500\n",
            "466/466 [==============================] - 5s 11ms/step - loss: 5.2324 - val_loss: 1.7094\n",
            "Epoch 451/500\n",
            "466/466 [==============================] - 5s 10ms/step - loss: 5.2409 - val_loss: 1.6530\n",
            "Epoch 452/500\n",
            "466/466 [==============================] - 5s 10ms/step - loss: 5.2203 - val_loss: 1.6087\n",
            "Epoch 453/500\n",
            "466/466 [==============================] - 6s 12ms/step - loss: 5.2327 - val_loss: 1.6415\n",
            "Epoch 454/500\n",
            "466/466 [==============================] - 5s 10ms/step - loss: 5.2349 - val_loss: 1.5639\n",
            "Epoch 455/500\n",
            "466/466 [==============================] - 5s 10ms/step - loss: 5.2259 - val_loss: 2.1016\n",
            "Epoch 456/500\n",
            "466/466 [==============================] - 5s 12ms/step - loss: 5.2445 - val_loss: 1.5430\n",
            "Epoch 457/500\n",
            "466/466 [==============================] - 5s 10ms/step - loss: 5.2323 - val_loss: 1.8261\n",
            "Epoch 458/500\n",
            "466/466 [==============================] - 4s 10ms/step - loss: 5.2250 - val_loss: 1.4880\n",
            "Epoch 459/500\n",
            "466/466 [==============================] - 5s 12ms/step - loss: 5.2287 - val_loss: 1.4063\n",
            "Epoch 460/500\n",
            "466/466 [==============================] - 5s 10ms/step - loss: 5.2359 - val_loss: 1.8983\n",
            "Epoch 461/500\n",
            "466/466 [==============================] - 4s 10ms/step - loss: 5.2550 - val_loss: 1.7894\n",
            "Epoch 462/500\n",
            "466/466 [==============================] - 6s 12ms/step - loss: 5.2510 - val_loss: 2.0493\n",
            "Epoch 463/500\n",
            "466/466 [==============================] - 4s 10ms/step - loss: 5.2337 - val_loss: 1.4382\n",
            "Epoch 464/500\n",
            "466/466 [==============================] - 5s 10ms/step - loss: 5.2360 - val_loss: 1.7136\n",
            "Epoch 465/500\n",
            "466/466 [==============================] - 5s 12ms/step - loss: 5.2396 - val_loss: 1.9693\n",
            "Epoch 466/500\n",
            "466/466 [==============================] - 5s 10ms/step - loss: 5.2374 - val_loss: 1.4849\n",
            "Epoch 467/500\n",
            "466/466 [==============================] - 5s 10ms/step - loss: 5.2337 - val_loss: 1.5028\n",
            "Epoch 468/500\n",
            "466/466 [==============================] - 6s 12ms/step - loss: 5.2519 - val_loss: 1.5583\n",
            "Epoch 469/500\n",
            "466/466 [==============================] - 4s 9ms/step - loss: 5.2414 - val_loss: 1.4955\n",
            "Epoch 470/500\n",
            "466/466 [==============================] - 4s 10ms/step - loss: 5.2288 - val_loss: 1.8557\n",
            "Epoch 471/500\n",
            "466/466 [==============================] - 6s 12ms/step - loss: 5.2321 - val_loss: 1.7523\n",
            "Epoch 472/500\n",
            "466/466 [==============================] - 5s 10ms/step - loss: 5.2173 - val_loss: 1.4603\n",
            "Epoch 473/500\n",
            "466/466 [==============================] - 5s 10ms/step - loss: 5.2197 - val_loss: 1.5941\n",
            "Epoch 474/500\n",
            "466/466 [==============================] - 6s 12ms/step - loss: 5.2321 - val_loss: 1.7204\n",
            "Epoch 475/500\n",
            "466/466 [==============================] - 5s 10ms/step - loss: 5.2284 - val_loss: 1.9351\n",
            "Epoch 476/500\n",
            "466/466 [==============================] - 4s 10ms/step - loss: 5.2406 - val_loss: 1.5566\n",
            "Epoch 477/500\n",
            "466/466 [==============================] - 6s 14ms/step - loss: 5.2331 - val_loss: 1.4782\n",
            "Epoch 478/500\n",
            "466/466 [==============================] - 5s 11ms/step - loss: 5.2406 - val_loss: 1.5593\n",
            "Epoch 479/500\n",
            "466/466 [==============================] - 4s 10ms/step - loss: 5.2280 - val_loss: 1.3565\n",
            "Epoch 480/500\n",
            "466/466 [==============================] - 6s 12ms/step - loss: 5.2312 - val_loss: 1.6309\n",
            "Epoch 481/500\n",
            "466/466 [==============================] - 4s 10ms/step - loss: 5.2452 - val_loss: 1.7940\n",
            "Epoch 482/500\n",
            "466/466 [==============================] - 4s 10ms/step - loss: 5.2203 - val_loss: 1.6182\n",
            "Epoch 483/500\n",
            "466/466 [==============================] - 6s 12ms/step - loss: 5.2378 - val_loss: 1.6863\n",
            "Epoch 484/500\n",
            "466/466 [==============================] - 5s 10ms/step - loss: 5.2344 - val_loss: 1.5560\n",
            "Epoch 485/500\n",
            "466/466 [==============================] - 4s 9ms/step - loss: 5.2382 - val_loss: 1.5999\n",
            "Epoch 486/500\n",
            "466/466 [==============================] - 6s 12ms/step - loss: 5.2247 - val_loss: 1.3921\n",
            "Epoch 487/500\n",
            "466/466 [==============================] - 5s 10ms/step - loss: 5.2406 - val_loss: 1.3543\n",
            "Epoch 488/500\n",
            "466/466 [==============================] - 5s 10ms/step - loss: 5.2322 - val_loss: 1.6182\n",
            "Epoch 489/500\n",
            "466/466 [==============================] - 6s 12ms/step - loss: 5.2113 - val_loss: 1.5721\n",
            "Epoch 490/500\n",
            "466/466 [==============================] - 5s 10ms/step - loss: 5.2324 - val_loss: 1.4420\n",
            "Epoch 491/500\n",
            "466/466 [==============================] - 5s 10ms/step - loss: 5.2273 - val_loss: 1.8572\n",
            "Epoch 492/500\n",
            "466/466 [==============================] - 6s 12ms/step - loss: 5.2233 - val_loss: 1.8220\n",
            "Epoch 493/500\n",
            "466/466 [==============================] - 5s 10ms/step - loss: 5.2341 - val_loss: 1.4343\n",
            "Epoch 494/500\n",
            "466/466 [==============================] - 4s 10ms/step - loss: 5.2158 - val_loss: 1.8382\n",
            "Epoch 495/500\n",
            "466/466 [==============================] - 6s 12ms/step - loss: 5.2288 - val_loss: 1.8154\n",
            "Epoch 496/500\n",
            "466/466 [==============================] - 4s 10ms/step - loss: 5.2306 - val_loss: 1.4833\n",
            "Epoch 497/500\n",
            "466/466 [==============================] - 5s 10ms/step - loss: 5.2225 - val_loss: 1.5891\n",
            "Epoch 498/500\n",
            "466/466 [==============================] - 6s 12ms/step - loss: 5.2124 - val_loss: 1.8265\n",
            "Epoch 499/500\n",
            "466/466 [==============================] - 5s 10ms/step - loss: 5.2260 - val_loss: 1.4671\n",
            "Epoch 500/500\n",
            "466/466 [==============================] - 5s 10ms/step - loss: 5.2320 - val_loss: 1.9002\n"
          ]
        }
      ]
    },
    {
      "cell_type": "code",
      "source": [
        "#The curves show that there is underfitting\n",
        "\n",
        "plot_learning_curves(history_model_LSTM_85_units_22_dropout_500_epochs.history[\"loss\"], history_model_LSTM_85_units_22_dropout_500_epochs.history[\"val_loss\"])\n",
        "plt.show()"
      ],
      "metadata": {
        "colab": {
          "base_uri": "https://localhost:8080/",
          "height": 458
        },
        "id": "rdK2a7CL5Vb2",
        "outputId": "56967174-f981-45b9-9d8d-3ba0413bcc8b"
      },
      "execution_count": null,
      "outputs": [
        {
          "output_type": "display_data",
          "data": {
            "text/plain": [
              "<Figure size 640x480 with 1 Axes>"
            ],
            "image/png": "[encoded data removed]"
          },
          "metadata": {}
        }
      ]
    },
    {
      "cell_type": "markdown",
      "source": [
        "## Section 4: Model evaluation where we tested the model on different performance measures on the test set.\n",
        "\n",
        "Mean Absolute Error (MAE): This metric measures the average absolute difference between the predicted and actual exposure.\n",
        "\n",
        "Mean Squared Error (MSE): This metric calculates the average of the squared differences between the predicted and actual values.\n",
        "\n",
        "Root Mean Squared Error (RMSE): I a common metric for evaluating regression models. The RMSE is  the square root of the MSE nd provides a measure of the average magnitude of the prediction errors.\n",
        "\n",
        "R-squared (R^2 Score: This metric indicates the proportion of the variance in the dependent variable (actual values that can be explained by the independent variable (predictions). For R^2, a value closer to 1 indicates a better fit of the model to the data.\n"
      ],
      "metadata": {
        "id": "LzGYXFXnA-gC"
      }
    },
    {
      "cell_type": "code",
      "source": [
        "import numpy as np\n",
        "from sklearn.metrics import mean_absolute_error, mean_squared_error, r2_score\n",
        "\n",
        "#Inference of the model to the test set\n",
        "Y_pred = model_LSTM_85_units_22_dropout_500_epochs.predict(X_test)\n",
        "\n",
        "# Flatten the predictions and labels\n",
        "Y_pred_flat = Y_pred.reshape(-1)\n",
        "Y_test_flat = Y_test.reshape(-1)\n",
        "\n",
        "\n",
        "# Calculate evaluation metrics\n",
        "mae = mean_absolute_error(Y_test_flat, Y_pred_flat)\n",
        "mse = mean_squared_error(Y_test_flat, Y_pred_flat)\n",
        "rmse = np.sqrt(mse)\n",
        "r2 = r2_score(Y_test_flat, Y_pred_flat)\n",
        "\n",
        "# Print the evaluation metrics\n",
        "print('Mean Absolute Error (MAE):', mae)\n",
        "print('Mean Squared Error (MSE):', mse)\n",
        "print('Root Mean Squared Error (RMSE):', rmse)\n",
        "print('R^2 Score:', r2)"
      ],
      "metadata": {
        "colab": {
          "base_uri": "https://localhost:8080/"
        },
        "id": "6wmy8Ur897tk",
        "outputId": "f817b1e8-2536-4c85-c9b3-22fb09c24ab2"
      },
      "execution_count": null,
      "outputs": [
        {
          "output_type": "stream",
          "name": "stdout",
          "text": [
            "156/156 [==============================] - 1s 4ms/step\n",
            "Mean Absolute Error (MAE): 0.011164688845477411\n",
            "Mean Squared Error (MSE): 0.00556037021411348\n",
            "Root Mean Squared Error (RMSE): 0.07456788996688507\n",
            "R^2 Score: 0.9942696357615447\n"
          ]
        }
      ]
    },
    {
      "cell_type": "markdown",
      "source": [
        "## Section 5: Model and scaler saving"
      ],
      "metadata": {
        "id": "Bugvg_vlD8Sq"
      }
    },
    {
      "cell_type": "code",
      "source": [
        "#Save the model and the Scaler for inference\n",
        "from pickle import dump\n",
        "\n",
        "# save the scaler object to a file\n",
        "dump(scaler, open('/content/drive/MyDrive/scaler.pkl', 'wb'))\n",
        "\n",
        "# save the model\n",
        "model_LSTM_24_units_30_dropout_300_epochs.save('/content/drive/MyDrive/model_LSTM_85_units_22_dropout_500_epochs.h5')"
      ],
      "metadata": {
        "id": "oTqixvNKZCbe"
      },
      "execution_count": null,
      "outputs": []
    }
  ]
}